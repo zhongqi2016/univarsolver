{
 "cells": [
  {
   "cell_type": "markdown",
   "id": "28ab3071",
   "metadata": {},
   "source": [
    "# Test of Piecewise Smooth Quadratic Estimators"
   ]
  },
  {
   "cell_type": "code",
   "execution_count": 2,
   "id": "84d44548",
   "metadata": {
    "ExecuteTime": {
     "end_time": "2024-01-29T09:00:31.562525Z",
     "start_time": "2024-01-29T09:00:30.797481Z"
    }
   },
   "outputs": [],
   "source": [
    "import sympy as sym\n",
    "import matplotlib.pyplot as plt\n",
    "import numpy as np\n",
    "import interval as ival\n",
    "import psl_under as pl\n",
    "import psqe_under as pq"
   ]
  },
  {
   "cell_type": "markdown",
   "id": "76c62d16",
   "metadata": {},
   "source": [
    "Auxiliary plot routine"
   ]
  },
  {
   "cell_type": "code",
   "execution_count": 3,
   "id": "6c727e05",
   "metadata": {
    "ExecuteTime": {
     "end_time": "2024-01-29T09:00:32.285111Z",
     "start_time": "2024-01-29T09:00:32.276870Z"
    }
   },
   "outputs": [],
   "source": [
    "def plot_problem(flist, minlist, a, b):\n",
    "    colors = ['r-', 'b-', 'g-', 'y-', 'm-', 'c-']\n",
    "    step = (b - a) / 1000.\n",
    "    ta = np.arange(a, b + step, step)\n",
    "    num_points = len(ta)\n",
    "    num_funcs = len(flist)\n",
    "\n",
    "    fta = np.empty([num_funcs, num_points])\n",
    "    print(fta)\n",
    "\n",
    "    for i in range(num_funcs):\n",
    "        for j in range(num_points):\n",
    "            fta[i, j] = flist[i](ta[j])\n",
    "    lb = np.amin(fta)\n",
    "    ub = np.amax(fta)\n",
    "    d = (ub - lb) * 0.1\n",
    "    for i in range(num_funcs):\n",
    "        plt.plot(ta, fta[i, :], colors[i])\n",
    "    for point in min_list:\n",
    "        plt.scatter(point[0], point[1], s=20)\n",
    "    plt.ylim([lb - d, ub + d])\n",
    "    plt.show()"
   ]
  },
  {
   "cell_type": "markdown",
   "id": "5b08695d",
   "metadata": {},
   "source": [
    "Test problem"
   ]
  },
  {
   "cell_type": "code",
   "execution_count": 4,
   "id": "8ea42530",
   "metadata": {
    "ExecuteTime": {
     "end_time": "2024-01-29T09:00:33.691256Z",
     "start_time": "2024-01-29T09:00:33.610489Z"
    }
   },
   "outputs": [
    {
     "name": "stdout",
     "output_type": "stream",
     "text": [
      "-x**3 -3*x**2 -6*x\n",
      "[-8.0, -1.0] [-12.0, -3.0] [-12.0, -6.0]\n",
      "[-12.0, -3.0] [-12.0, -6.0]\n"
     ]
    }
   ],
   "source": [
    "x = sym.symbols('x')\n",
    "# e_f = 5 * x ** 4 + 2 * x ** 3 - 4 * x + 1\n",
    "e_f=-x**3\n",
    "e_nf=-e_f\n",
    "e_df = sym.diff(e_f)\n",
    "e_ndf = -e_df\n",
    "e_ddf = sym.diff(e_df)\n",
    "print(e_f, e_df, e_ddf)\n",
    "f = sym.lambdify(x, e_f)\n",
    "nf=sym.lambdify(x,e_nf)\n",
    "df = sym.lambdify(x, e_df)\n",
    "ndf = sym.lambdify(x, e_ndf)\n",
    "ddf = sym.lambdify(x, e_ddf)\n",
    "a = 1.\n",
    "b = 2.\n",
    "idef = ival.Interval([a, b])\n",
    "di = df(idef)\n",
    "\n",
    "print(f(idef), df(idef), ddf(idef))\n",
    "ddi = ddf(idef)\n",
    "print(di, ddi)"
   ]
  },
  {
   "cell_type": "code",
   "execution_count": 5,
   "id": "553741de",
   "metadata": {},
   "outputs": [
    {
     "name": "stdout",
     "output_type": "stream",
     "text": [
      "Piecewise linear estimator a = 1.0, b = 2.0, c = 1.4444444444444444, alp = -12.0, bet = -3.0, fa = -1.0, fb = -8.0\n",
      "Piecewise linear estimator a = 1.0, b = 2.0, c = 1.7916666666666667, alp = -12.0, bet = 12.0, fa = -1.0, fb = -8.0\n",
      "Estimator a = 1.0, b = 2.0, c = 1.0833333333333333, d = 1.5833333333333333, alp = -12.0, bet = -6.0, fa = -1.0, fb = -8.0, dfa = -3.0, dfb = -12.0\n",
      "Estimator a = 1.0, b = 2.0, c = 1.2708333333333333, d = 1.3958333333333333, alp = -12.0, bet = 12.0, fa = -1.0, fb = -8.0, dfa = -3.0, dfb = -12.0\n",
      "(2.0, -8.0)\n",
      "[(2.0, -8.0), (1.7916666666666667, -10.5), (2.0, -8.0), (2.0, -8.0)]\n"
     ]
    }
   ],
   "source": [
    "\n",
    "# estim = pq.PSQE_Under(a, b, ddi.x[0], ddi.x[1], f, df)\n",
    "l = max(-di.x[0], di.x[1])\n",
    "L = max(-ddi.x[0], ddi.x[1])\n",
    "# print(L)\n",
    "estim_pl = pl.PSL_Under(a, b, di.x[0], di.x[1], f)\n",
    "estim_plip = pl.PSL_Under(a, b, -l, l, f)\n",
    "estim_ob = pq.PSQE_Under(a, b, -ddi.x[1], -ddi.x[0], nf, ndf)\n",
    "estim_int = pq.PSQE_Under(a, b, ddi.x[0], ddi.x[1], f, df)\n",
    "estim_lip = pq.PSQE_Under(a, b, -L, L, f, df)\n",
    "print(estim_pl)\n",
    "print(estim_plip)\n",
    "print(estim_int)\n",
    "print(estim_lip)\n",
    "print(estim_lip.lower_bound_and_point())\n",
    "min_list = [estim_pl.lower_bound_and_point(), estim_plip.lower_bound_and_point(), estim_int.lower_bound_and_point(),\n",
    "            estim_lip.lower_bound_and_point()]\n",
    "print(min_list)"
   ]
  },
  {
   "cell_type": "markdown",
   "id": "8349f7f9",
   "metadata": {},
   "source": [
    "Vizualize test problem"
   ]
  },
  {
   "cell_type": "code",
   "execution_count": 1,
   "id": "8a1468da",
   "metadata": {},
   "outputs": [
    {
     "ename": "NameError",
     "evalue": "name 'plot_problem' is not defined",
     "output_type": "error",
     "traceback": [
      "\u001B[0;31m---------------------------------------------------------------------------\u001B[0m",
      "\u001B[0;31mNameError\u001B[0m                                 Traceback (most recent call last)",
      "Cell \u001B[0;32mIn[1], line 1\u001B[0m\n\u001B[0;32m----> 1\u001B[0m \u001B[43mplot_problem\u001B[49m([f, estim_ob\u001B[38;5;241m.\u001B[39mnestimator, estim_plip\u001B[38;5;241m.\u001B[39mestimator, estim_int\u001B[38;5;241m.\u001B[39mestimator, estim_lip\u001B[38;5;241m.\u001B[39mestimator], min_list, a, b)\n",
      "\u001B[0;31mNameError\u001B[0m: name 'plot_problem' is not defined"
     ]
    }
   ],
   "source": [
    "plot_problem([f, estim_ob.nestimator, estim_plip.estimator, estim_int.estimator, estim_lip.estimator], min_list, a, b)"
   ]
  },
  {
   "cell_type": "code",
   "execution_count": 5,
   "id": "8683dffa",
   "metadata": {},
   "outputs": [],
   "source": []
  },
  {
   "cell_type": "code",
   "execution_count": null,
   "outputs": [],
   "source": [],
   "metadata": {
    "collapsed": false
   },
   "id": "d71afde0bf6cbd35"
  }
 ],
 "metadata": {
  "kernelspec": {
   "display_name": "Python 3 (ipykernel)",
   "language": "python",
   "name": "python3"
  },
  "language_info": {
   "codemirror_mode": {
    "name": "ipython",
    "version": 3
   },
   "file_extension": ".py",
   "mimetype": "text/x-python",
   "name": "python",
   "nbconvert_exporter": "python",
   "pygments_lexer": "ipython3",
   "version": "3.10.4"
  }
 },
 "nbformat": 4,
 "nbformat_minor": 5
}
