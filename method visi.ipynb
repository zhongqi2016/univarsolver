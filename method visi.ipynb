{
 "cells": [
  {
   "cell_type": "code",
   "execution_count": 1,
   "id": "7c5d7d43",
   "metadata": {},
   "outputs": [],
   "source": [
    "import uniplot as up\n",
    "import pandas as pd\n",
    "import numpy as np\n",
    "import uvarprob as uvpr\n",
    "import matplotlib.pyplot as plt\n",
    "import solvutil as sut"
   ]
  },
  {
   "cell_type": "code",
   "execution_count": 2,
   "id": "da4a032c",
   "metadata": {},
   "outputs": [],
   "source": [
    "test_file = \"tst1.csv\""
   ]
  },
  {
   "cell_type": "code",
   "execution_count": 3,
   "id": "57431414",
   "metadata": {},
   "outputs": [],
   "source": [
    "# Maximal number of steps\n",
    "max_steps = 1e6\n",
    "# Tolerance\n",
    "epsilon = 1e-2\n",
    "# If True - global Lipschitz constant is used\n",
    "global_lipschitz_interval = True\n",
    "# If True - the record value is taken from the test database\n",
    "known_record = False\n",
    "# How many points to skip in vizualization - regular step\n",
    "skip = 1000\n",
    "# The size of the legend in plots\n",
    "legend_size = 2"
   ]
  },
  {
   "cell_type": "code",
   "execution_count": 4,
   "id": "0a503d18",
   "metadata": {},
   "outputs": [],
   "source": [
    "def read_problems(fname):\n",
    "    data = pd.read_csv(fname, index_col = 'name', comment = '#')\n",
    "    return data"
   ]
  },
  {
   "cell_type": "code",
   "execution_count": 5,
   "id": "ea8c08bf",
   "metadata": {},
   "outputs": [
    {
     "data": {
      "text/plain": "          objective  a  b  min_f  min_x\nname                                   \nbenchmark    x^3-10 -4  4      0      0",
      "text/html": "<div>\n<style scoped>\n    .dataframe tbody tr th:only-of-type {\n        vertical-align: middle;\n    }\n\n    .dataframe tbody tr th {\n        vertical-align: top;\n    }\n\n    .dataframe thead th {\n        text-align: right;\n    }\n</style>\n<table border=\"1\" class=\"dataframe\">\n  <thead>\n    <tr style=\"text-align: right;\">\n      <th></th>\n      <th>objective</th>\n      <th>a</th>\n      <th>b</th>\n      <th>min_f</th>\n      <th>min_x</th>\n    </tr>\n    <tr>\n      <th>name</th>\n      <th></th>\n      <th></th>\n      <th></th>\n      <th></th>\n      <th></th>\n    </tr>\n  </thead>\n  <tbody>\n    <tr>\n      <th>benchmark</th>\n      <td>x^3-10</td>\n      <td>-4</td>\n      <td>4</td>\n      <td>0</td>\n      <td>0</td>\n    </tr>\n  </tbody>\n</table>\n</div>"
     },
     "execution_count": 5,
     "metadata": {},
     "output_type": "execute_result"
    }
   ],
   "source": [
    "df = read_problems(test_file)\n",
    "df"
   ]
  },
  {
   "cell_type": "code",
   "execution_count": 6,
   "id": "8d88eefa",
   "metadata": {},
   "outputs": [],
   "source": [
    "points_db = {}\n",
    "psl_lipint_points_list = []\n",
    "psl_lip_points_list = []\n",
    "psqe_lipint_points_list =  []\n",
    "psqe_lip_points_list = []"
   ]
  },
  {
   "cell_type": "code",
   "execution_count": 7,
   "id": "67100fbe",
   "metadata": {},
   "outputs": [],
   "source": [
    "def log_point(x, points_list):\n",
    "    points_list.append(x)"
   ]
  },
  {
   "cell_type": "code",
   "execution_count": 10,
   "id": "718a3988",
   "metadata": {},
   "outputs": [
    {
     "name": "stdout",
     "output_type": "stream",
     "text": [
      "benchmark\n"
     ]
    },
    {
     "ename": "KeyboardInterrupt",
     "evalue": "",
     "output_type": "error",
     "traceback": [
      "\u001B[0;31m---------------------------------------------------------------------------\u001B[0m",
      "\u001B[0;31mKeyboardInterrupt\u001B[0m                         Traceback (most recent call last)",
      "Cell \u001B[0;32mIn [10], line 11\u001B[0m\n\u001B[1;32m      4\u001B[0m \u001B[38;5;66;03m#     print(points_db)\u001B[39;00m\n\u001B[1;32m      5\u001B[0m \n\u001B[1;32m      6\u001B[0m     \u001B[38;5;66;03m# prob = uvpr.UniVarProblem(test.Index, test.objective, test.a, test.b, test.min_f, test.min_x, lambda x : log_point(x, points_db[test.Index]['psl_lipint_points_list']))\u001B[39;00m\n\u001B[1;32m      7\u001B[0m     \u001B[38;5;66;03m# print(sut.psl(prob, sym = False))\u001B[39;00m\n\u001B[1;32m      8\u001B[0m     \u001B[38;5;66;03m# prob = uvpr.UniVarProblem(test.Index, test.objective, test.a, test.b, test.min_f, test.min_x, lambda x : log_point(x, points_db[test.Index]['psl_lip_points_list']))\u001B[39;00m\n\u001B[1;32m      9\u001B[0m     \u001B[38;5;66;03m# print(sut.psl(prob, sym = True))\u001B[39;00m\n\u001B[1;32m     10\u001B[0m     prob \u001B[38;5;241m=\u001B[39m uvpr\u001B[38;5;241m.\u001B[39mUniVarProblem(test\u001B[38;5;241m.\u001B[39mIndex, test\u001B[38;5;241m.\u001B[39mobjective, test\u001B[38;5;241m.\u001B[39ma, test\u001B[38;5;241m.\u001B[39mb, test\u001B[38;5;241m.\u001B[39mmin_f, test\u001B[38;5;241m.\u001B[39mmin_x, \u001B[38;5;28;01mlambda\u001B[39;00m x : log_point(x, points_db[test\u001B[38;5;241m.\u001B[39mIndex][\u001B[38;5;124m'\u001B[39m\u001B[38;5;124mpsqe_lipint_points_list\u001B[39m\u001B[38;5;124m'\u001B[39m]))\n\u001B[0;32m---> 11\u001B[0m     \u001B[38;5;28mprint\u001B[39m(sut\u001B[38;5;241m.\u001B[39mpsqe(prob, sym \u001B[38;5;241m=\u001B[39m \u001B[38;5;28;01mFalse\u001B[39;00m))\n",
      "File \u001B[0;32m~/PycharmProjects/univarsolver/solvutil.py:71\u001B[0m, in \u001B[0;36mpsqe\u001B[0;34m(prob, sym, max_steps, epsilon, global_lipschitz_interval, known_record)\u001B[0m\n\u001B[1;32m     69\u001B[0m sl \u001B[38;5;241m=\u001B[39m SortedKeyList(key\u001B[38;5;241m=\u001B[39m\u001B[38;5;28;01mlambda\u001B[39;00m s: s\u001B[38;5;241m.\u001B[39mlevel)\n\u001B[1;32m     70\u001B[0m subp \u001B[38;5;241m=\u001B[39m sub\u001B[38;5;241m.\u001B[39mSub(\u001B[38;5;241m0\u001B[39m, \u001B[38;5;241m0\u001B[39m, psqproc\u001B[38;5;241m.\u001B[39mPSQEData(ival\u001B[38;5;241m.\u001B[39mInterval([prob\u001B[38;5;241m.\u001B[39ma, prob\u001B[38;5;241m.\u001B[39mb]), \u001B[38;5;241m0\u001B[39m))\n\u001B[0;32m---> 71\u001B[0m \u001B[43mpsp\u001B[49m\u001B[38;5;241;43m.\u001B[39;49m\u001B[43mcompute_bounds\u001B[49m\u001B[43m(\u001B[49m\u001B[43msubp\u001B[49m\u001B[43m)\u001B[49m\n\u001B[1;32m     72\u001B[0m sl\u001B[38;5;241m.\u001B[39madd(subp)\n\u001B[1;32m     73\u001B[0m cnt \u001B[38;5;241m=\u001B[39m max_steps\n",
      "File \u001B[0;32m~/PycharmProjects/univarsolver/psqeprocessor.py:50\u001B[0m, in \u001B[0;36mPSQEProcessor.compute_bounds\u001B[0;34m(self, sub)\u001B[0m\n\u001B[1;32m     48\u001B[0m \u001B[38;5;28;01mdef\u001B[39;00m \u001B[38;5;21mcompute_bounds\u001B[39m(\u001B[38;5;28mself\u001B[39m, sub):\n\u001B[1;32m     49\u001B[0m     psqe \u001B[38;5;241m=\u001B[39m \u001B[38;5;28mself\u001B[39m\u001B[38;5;241m.\u001B[39mcompute_under(sub)\n\u001B[0;32m---> 50\u001B[0m     sub\u001B[38;5;241m.\u001B[39mdata\u001B[38;5;241m.\u001B[39msplit_point, sub\u001B[38;5;241m.\u001B[39mbound \u001B[38;5;241m=\u001B[39m \u001B[43mpsqe\u001B[49m\u001B[38;5;241m.\u001B[39mlower_bound_and_point()\n\u001B[1;32m     51\u001B[0m     x, v \u001B[38;5;241m=\u001B[39m psqe\u001B[38;5;241m.\u001B[39mrecord_and_point()\n\u001B[1;32m     52\u001B[0m     \u001B[38;5;28;01mif\u001B[39;00m v \u001B[38;5;241m<\u001B[39m \u001B[38;5;28mself\u001B[39m\u001B[38;5;241m.\u001B[39mrec_v:\n",
      "File \u001B[0;32m~/PycharmProjects/univarsolver/psqeprocessor.py:50\u001B[0m, in \u001B[0;36mPSQEProcessor.compute_bounds\u001B[0;34m(self, sub)\u001B[0m\n\u001B[1;32m     48\u001B[0m \u001B[38;5;28;01mdef\u001B[39;00m \u001B[38;5;21mcompute_bounds\u001B[39m(\u001B[38;5;28mself\u001B[39m, sub):\n\u001B[1;32m     49\u001B[0m     psqe \u001B[38;5;241m=\u001B[39m \u001B[38;5;28mself\u001B[39m\u001B[38;5;241m.\u001B[39mcompute_under(sub)\n\u001B[0;32m---> 50\u001B[0m     sub\u001B[38;5;241m.\u001B[39mdata\u001B[38;5;241m.\u001B[39msplit_point, sub\u001B[38;5;241m.\u001B[39mbound \u001B[38;5;241m=\u001B[39m \u001B[43mpsqe\u001B[49m\u001B[38;5;241m.\u001B[39mlower_bound_and_point()\n\u001B[1;32m     51\u001B[0m     x, v \u001B[38;5;241m=\u001B[39m psqe\u001B[38;5;241m.\u001B[39mrecord_and_point()\n\u001B[1;32m     52\u001B[0m     \u001B[38;5;28;01mif\u001B[39;00m v \u001B[38;5;241m<\u001B[39m \u001B[38;5;28mself\u001B[39m\u001B[38;5;241m.\u001B[39mrec_v:\n",
      "File \u001B[0;32m_pydevd_bundle/pydevd_cython_darwin_39_64.pyx:1179\u001B[0m, in \u001B[0;36m_pydevd_bundle.pydevd_cython_darwin_39_64.SafeCallWrapper.__call__\u001B[0;34m()\u001B[0m\n",
      "File \u001B[0;32m_pydevd_bundle/pydevd_cython_darwin_39_64.pyx:620\u001B[0m, in \u001B[0;36m_pydevd_bundle.pydevd_cython_darwin_39_64.PyDBFrame.trace_dispatch\u001B[0;34m()\u001B[0m\n",
      "File \u001B[0;32m_pydevd_bundle/pydevd_cython_darwin_39_64.pyx:1095\u001B[0m, in \u001B[0;36m_pydevd_bundle.pydevd_cython_darwin_39_64.PyDBFrame.trace_dispatch\u001B[0;34m()\u001B[0m\n",
      "File \u001B[0;32m_pydevd_bundle/pydevd_cython_darwin_39_64.pyx:1057\u001B[0m, in \u001B[0;36m_pydevd_bundle.pydevd_cython_darwin_39_64.PyDBFrame.trace_dispatch\u001B[0;34m()\u001B[0m\n",
      "File \u001B[0;32m_pydevd_bundle/pydevd_cython_darwin_39_64.pyx:317\u001B[0m, in \u001B[0;36m_pydevd_bundle.pydevd_cython_darwin_39_64.PyDBFrame.do_wait_suspend\u001B[0;34m()\u001B[0m\n",
      "File \u001B[0;32m/Applications/PyCharm.app/Contents/plugins/python/helpers/pydev/pydevd.py:1160\u001B[0m, in \u001B[0;36mPyDB.do_wait_suspend\u001B[0;34m(self, thread, frame, event, arg, send_suspend_message, is_unhandled_exception)\u001B[0m\n\u001B[1;32m   1157\u001B[0m         from_this_thread\u001B[38;5;241m.\u001B[39mappend(frame_id)\n\u001B[1;32m   1159\u001B[0m \u001B[38;5;28;01mwith\u001B[39;00m \u001B[38;5;28mself\u001B[39m\u001B[38;5;241m.\u001B[39m_threads_suspended_single_notification\u001B[38;5;241m.\u001B[39mnotify_thread_suspended(thread_id, stop_reason):\n\u001B[0;32m-> 1160\u001B[0m     \u001B[38;5;28;43mself\u001B[39;49m\u001B[38;5;241;43m.\u001B[39;49m\u001B[43m_do_wait_suspend\u001B[49m\u001B[43m(\u001B[49m\u001B[43mthread\u001B[49m\u001B[43m,\u001B[49m\u001B[43m \u001B[49m\u001B[43mframe\u001B[49m\u001B[43m,\u001B[49m\u001B[43m \u001B[49m\u001B[43mevent\u001B[49m\u001B[43m,\u001B[49m\u001B[43m \u001B[49m\u001B[43marg\u001B[49m\u001B[43m,\u001B[49m\u001B[43m \u001B[49m\u001B[43msuspend_type\u001B[49m\u001B[43m,\u001B[49m\u001B[43m \u001B[49m\u001B[43mfrom_this_thread\u001B[49m\u001B[43m)\u001B[49m\n",
      "File \u001B[0;32m/Applications/PyCharm.app/Contents/plugins/python/helpers/pydev/pydevd.py:1175\u001B[0m, in \u001B[0;36mPyDB._do_wait_suspend\u001B[0;34m(self, thread, frame, event, arg, suspend_type, from_this_thread)\u001B[0m\n\u001B[1;32m   1172\u001B[0m             \u001B[38;5;28mself\u001B[39m\u001B[38;5;241m.\u001B[39m_call_mpl_hook()\n\u001B[1;32m   1174\u001B[0m         \u001B[38;5;28mself\u001B[39m\u001B[38;5;241m.\u001B[39mprocess_internal_commands()\n\u001B[0;32m-> 1175\u001B[0m         \u001B[43mtime\u001B[49m\u001B[38;5;241;43m.\u001B[39;49m\u001B[43msleep\u001B[49m\u001B[43m(\u001B[49m\u001B[38;5;241;43m0.01\u001B[39;49m\u001B[43m)\u001B[49m\n\u001B[1;32m   1177\u001B[0m \u001B[38;5;28mself\u001B[39m\u001B[38;5;241m.\u001B[39mcancel_async_evaluation(get_current_thread_id(thread), \u001B[38;5;28mstr\u001B[39m(\u001B[38;5;28mid\u001B[39m(frame)))\n\u001B[1;32m   1179\u001B[0m \u001B[38;5;66;03m# process any stepping instructions\u001B[39;00m\n",
      "\u001B[0;31mKeyboardInterrupt\u001B[0m: "
     ]
    }
   ],
   "source": [
    "for test in df.itertuples():\n",
    "    print(test.Index)\n",
    "    points_db[test.Index] = {'psl_lipint_points_list' : [], 'psl_lip_points_list' : [], 'psqe_lipint_points_list' : [], 'psqe_lip_points_list' : []} \n",
    "#     print(points_db)\n",
    "\n",
    "    # prob = uvpr.UniVarProblem(test.Index, test.objective, test.a, test.b, test.min_f, test.min_x, lambda x : log_point(x, points_db[test.Index]['psl_lipint_points_list']))\n",
    "    # print(sut.psl(prob, sym = False))\n",
    "    # prob = uvpr.UniVarProblem(test.Index, test.objective, test.a, test.b, test.min_f, test.min_x, lambda x : log_point(x, points_db[test.Index]['psl_lip_points_list']))\n",
    "    # print(sut.psl(prob, sym = True))\n",
    "    prob = uvpr.UniVarProblem(test.Index, test.objective, test.a, test.b, test.min_f, test.min_x, lambda x : log_point(x, points_db[test.Index]['psqe_lipint_points_list']))\n",
    "    print(sut.psqe(prob, sym = False))\n",
    "    # prob = uvpr.UniVarProblem(test.Index, test.objective, test.a, test.b, test.min_f, test.min_x, lambda x : log_point(x, points_db[test.Index]['psqe_lip_points_list']))\n",
    "    # print(sut.psqe(prob, sym = True))\n"
   ]
  },
  {
   "cell_type": "code",
   "execution_count": 1,
   "id": "30ffa037",
   "metadata": {},
   "outputs": [],
   "source": [
    "def vis_trials(points_list, num_series, base_level):\n",
    "    poix = np.array(list(set(points_list[::skip])))\n",
    "    poiy = np.full(len(poix), base_level + num_series * -0.5)\n",
    "    up.plot_points(poix, poiy, num_series)"
   ]
  },
  {
   "cell_type": "code",
   "execution_count": 2,
   "id": "3bb0b182",
   "metadata": {},
   "outputs": [
    {
     "ename": "NameError",
     "evalue": "name 'df' is not defined",
     "output_type": "error",
     "traceback": [
      "\u001B[0;31m---------------------------------------------------------------------------\u001B[0m",
      "\u001B[0;31mNameError\u001B[0m                                 Traceback (most recent call last)",
      "Cell \u001B[0;32mIn [2], line 1\u001B[0m\n\u001B[0;32m----> 1\u001B[0m \u001B[38;5;28;01mfor\u001B[39;00m test \u001B[38;5;129;01min\u001B[39;00m df\u001B[38;5;241m.\u001B[39mitertuples():\n\u001B[1;32m      2\u001B[0m     \u001B[38;5;28mprint\u001B[39m(test)\n\u001B[1;32m      3\u001B[0m     prob \u001B[38;5;241m=\u001B[39m uvpr\u001B[38;5;241m.\u001B[39mUniVarProblem(test\u001B[38;5;241m.\u001B[39mIndex, test\u001B[38;5;241m.\u001B[39mobjective, test\u001B[38;5;241m.\u001B[39ma, test\u001B[38;5;241m.\u001B[39mb, test\u001B[38;5;241m.\u001B[39mmin_f, test\u001B[38;5;241m.\u001B[39mmin_x)\n",
      "\u001B[0;31mNameError\u001B[0m: name 'df' is not defined"
     ]
    }
   ],
   "source": [
    "for test in df.itertuples():\n",
    "    print(test)\n",
    "    prob = uvpr.UniVarProblem(test.Index, test.objective, test.a, test.b, test.min_f, test.min_x)\n",
    "    up.plot_problem(prob, {'function' : 'b-'}, legend = legend_size)\n",
    "    vis_trials(points_db[test.Index]['psqe_lipint_points_list'], 0, plt.ylim()[0] + legend_size)\n",
    "    vis_trials(points_db[test.Index]['psqe_lip_points_list'], 1, plt.ylim()[0] + legend_size)\n",
    "    vis_trials(points_db[test.Index]['psl_lipint_points_list'], 2, plt.ylim()[0] + legend_size)\n",
    "    vis_trials(points_db[test.Index]['psl_lip_points_list'], 3, plt.ylim()[0] + legend_size)\n",
    "#     print(\"ylim = \", plt.ylim()[0])\n",
    "    plt.show()\n"
   ]
  },
  {
   "cell_type": "code",
   "execution_count": null,
   "id": "8aec4782",
   "metadata": {},
   "outputs": [],
   "source": []
  },
  {
   "cell_type": "code",
   "execution_count": null,
   "id": "7f859061",
   "metadata": {},
   "outputs": [],
   "source": []
  }
 ],
 "metadata": {
  "kernelspec": {
   "display_name": "Python 3 (ipykernel)",
   "language": "python",
   "name": "python3"
  },
  "language_info": {
   "codemirror_mode": {
    "name": "ipython",
    "version": 3
   },
   "file_extension": ".py",
   "mimetype": "text/x-python",
   "name": "python",
   "nbconvert_exporter": "python",
   "pygments_lexer": "ipython3",
   "version": "3.10.4"
  }
 },
 "nbformat": 4,
 "nbformat_minor": 5
}
