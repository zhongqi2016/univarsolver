{
 "cells": [
  {
   "cell_type": "code",
   "execution_count": 1,
   "id": "7c5d7d43",
   "metadata": {
    "ExecuteTime": {
     "end_time": "2023-10-31T10:13:55.656834Z",
     "start_time": "2023-10-31T10:13:54.730459Z"
    }
   },
   "outputs": [],
   "source": [
    "import uniplot as up\n",
    "import pandas as pd\n",
    "import numpy as np\n",
    "import uvarprob as uvpr\n",
    "import matplotlib.pyplot as plt\n",
    "import solvutil as sut\n",
    "import time"
   ]
  },
  {
   "cell_type": "code",
   "execution_count": 2,
   "id": "da4a032c",
   "metadata": {
    "ExecuteTime": {
     "end_time": "2023-10-31T10:13:55.661234Z",
     "start_time": "2023-10-31T10:13:55.657803Z"
    }
   },
   "outputs": [],
   "source": [
    "test_file = \"tst1.csv\""
   ]
  },
  {
   "cell_type": "code",
   "execution_count": 3,
   "id": "57431414",
   "metadata": {
    "ExecuteTime": {
     "end_time": "2023-10-31T10:13:55.665609Z",
     "start_time": "2023-10-31T10:13:55.660670Z"
    }
   },
   "outputs": [],
   "source": [
    "# Maximal number of steps\n",
    "max_steps = 1e6\n",
    "# Tolerance\n",
    "epsilon = 1e-2\n",
    "# If True - global Lipschitz constant is used\n",
    "global_lipschitz_interval = True\n",
    "# If True - the record value is taken from the test database\n",
    "known_record = False\n",
    "# How many points to skip in vizualization - regular step\n",
    "skip = 1000\n",
    "# The size of the legend in plots\n",
    "legend_size = 2"
   ]
  },
  {
   "cell_type": "code",
   "execution_count": 4,
   "id": "0a503d18",
   "metadata": {
    "ExecuteTime": {
     "end_time": "2023-10-31T10:13:55.666021Z",
     "start_time": "2023-10-31T10:13:55.663186Z"
    }
   },
   "outputs": [],
   "source": [
    "def read_problems(fname):\n",
    "    data = pd.read_csv(fname, index_col='name', comment='#')\n",
    "    return data"
   ]
  },
  {
   "cell_type": "code",
   "execution_count": 5,
   "id": "ea8c08bf",
   "metadata": {
    "ExecuteTime": {
     "end_time": "2023-10-31T10:13:55.684041Z",
     "start_time": "2023-10-31T10:13:55.665854Z"
    }
   },
   "outputs": [
    {
     "data": {
      "text/plain": "                                                    objective  a  b  min_f  \\\nname                                                                         \nbenchmark1  1./(7.26231 * (10. * x - 1.34364)^2 + 0.25275)...  0  1      0   \nbenchmark2                                x^3+2.*x+cos(10.*x) -3  3      0   \n\n            min_x  \nname               \nbenchmark1      0  \nbenchmark2      0  ",
      "text/html": "<div>\n<style scoped>\n    .dataframe tbody tr th:only-of-type {\n        vertical-align: middle;\n    }\n\n    .dataframe tbody tr th {\n        vertical-align: top;\n    }\n\n    .dataframe thead th {\n        text-align: right;\n    }\n</style>\n<table border=\"1\" class=\"dataframe\">\n  <thead>\n    <tr style=\"text-align: right;\">\n      <th></th>\n      <th>objective</th>\n      <th>a</th>\n      <th>b</th>\n      <th>min_f</th>\n      <th>min_x</th>\n    </tr>\n    <tr>\n      <th>name</th>\n      <th></th>\n      <th></th>\n      <th></th>\n      <th></th>\n      <th></th>\n    </tr>\n  </thead>\n  <tbody>\n    <tr>\n      <th>benchmark1</th>\n      <td>1./(7.26231 * (10. * x - 1.34364)^2 + 0.25275)...</td>\n      <td>0</td>\n      <td>1</td>\n      <td>0</td>\n      <td>0</td>\n    </tr>\n    <tr>\n      <th>benchmark2</th>\n      <td>x^3+2.*x+cos(10.*x)</td>\n      <td>-3</td>\n      <td>3</td>\n      <td>0</td>\n      <td>0</td>\n    </tr>\n  </tbody>\n</table>\n</div>"
     },
     "execution_count": 5,
     "metadata": {},
     "output_type": "execute_result"
    }
   ],
   "source": [
    "df = read_problems(test_file)\n",
    "df"
   ]
  },
  {
   "cell_type": "code",
   "execution_count": 6,
   "id": "8d88eefa",
   "metadata": {
    "ExecuteTime": {
     "end_time": "2023-10-31T10:13:55.684306Z",
     "start_time": "2023-10-31T10:13:55.678882Z"
    }
   },
   "outputs": [],
   "source": [
    "points_db = {}\n",
    "psl_lipint_points_list = []\n",
    "psl_lip_points_list = []\n",
    "psqe_lipint_points_list = []\n",
    "psqe_lip_points_list = []"
   ]
  },
  {
   "cell_type": "code",
   "execution_count": 7,
   "id": "67100fbe",
   "metadata": {
    "ExecuteTime": {
     "end_time": "2023-10-31T10:13:56.692791Z",
     "start_time": "2023-10-31T10:13:56.679465Z"
    }
   },
   "outputs": [],
   "source": [
    "def log_point(x, points_list):\n",
    "    points_list.append(x)"
   ]
  },
  {
   "cell_type": "code",
   "execution_count": 8,
   "id": "718a3988",
   "metadata": {
    "ExecuteTime": {
     "end_time": "2023-10-31T10:13:58.263875Z",
     "start_time": "2023-10-31T10:13:57.025699Z"
    }
   },
   "outputs": [
    {
     "name": "stdout",
     "output_type": "stream",
     "text": [
      "benchmark1\n",
      "TestResult(nsteps=18426, record_value=-6.460074565402859)\n",
      "time= 0.44146512501174584\n",
      "3697664544.0541525 0\n",
      "TestResult(nsteps=19450, record_value=-6.4600745654422385)\n",
      "time= 0.2959102500171866\n",
      "3697664544.0541525 0\n",
      "TestResult(nsteps=19455, record_value=-6.460074565451496)\n",
      "time= 0.26034179198904894\n",
      "benchmark2\n",
      "TestResult(nsteps=4, record_value=-32.84574855011242)\n",
      "time= 0.0001350840029772371\n",
      "236.0 0\n",
      "TestResult(nsteps=4, record_value=-32.84574855011242)\n",
      "time= 0.00010725000174716115\n",
      "236.0 0\n",
      "TestResult(nsteps=4, record_value=-32.84574855011242)\n",
      "time= 7.479198393411934e-05\n"
     ]
    }
   ],
   "source": [
    "for test in df.itertuples():\n",
    "    print(test.Index)\n",
    "    points_db[test.Index] = {'psl_lipint_points_list': [], 'psl_lip_points_list': [], 'psqe_lipint_points_list': [],\n",
    "                             'psqe_lip_points_list': []}\n",
    "    #     print(points_db)\n",
    "\n",
    "    # prob = uvpr.UniVarProblem(test.Index, test.objective, test.a, test.b, test.min_f, test.min_x, lambda x : log_point(x, points_db[test.Index]['psl_lipint_points_list']))\n",
    "    # print(sut.psl(prob, sym = False))\n",
    "    # prob = uvpr.UniVarProblem(test.Index, test.objective, test.a, test.b, test.min_f, test.min_x, lambda x : log_point(x, points_db[test.Index]['psl_lip_points_list']))\n",
    "    # print(sut.psl(prob, sym = True))\n",
    "    prob = uvpr.UniVarProblem(test.Index, test.objective, test.a, test.b, test.min_f, test.min_x,\n",
    "                              lambda x: log_point(x, points_db[test.Index]['psqe_lipint_points_list']))\n",
    "    # T1 = time.perf_counter()\n",
    "    # print(sut.psqe(prob, sym=False,epsilon=1e-2))\n",
    "    # T2 = time.perf_counter()\n",
    "    # print('time=', T2 - T1)\n",
    "    # T1 = time.perf_counter()\n",
    "    # print(sut.new_proc(prob=prob, symm=False, max_steps=max_steps, epsilon=1e-2, global_lipschitz_interval=False,\n",
    "    #                    estimator=2, reduction=1))\n",
    "    # T2 = time.perf_counter()\n",
    "    # print('time=', T2 - T1)\n",
    "    # T1 = time.perf_counter()\n",
    "    # print(sut.new_proc(prob=prob, symm=False, max_steps=max_steps, epsilon=1e-2, global_lipschitz_interval=False,\n",
    "    #                    estimator=2, reduction=0))\n",
    "    # T2 = time.perf_counter()\n",
    "    # print('time=', T2 - T1)\n",
    "    # \n",
    "    T1 = time.perf_counter()\n",
    "    print(sut.psqe(prob, sym=False,epsilon=1e-5,global_lipschitz_interval=True))\n",
    "    T2 = time.perf_counter()\n",
    "    print('time=', T2 - T1)\n",
    "    # T1 = time.perf_counter()\n",
    "    # print(sut.new_proc(prob=prob, symm=False, max_steps=max_steps, epsilon=1e-2, global_lipschitz_interval=False,\n",
    "    #                    estimator=2, reduction=1,adaptive=True))\n",
    "    # T2 = time.perf_counter()\n",
    "    \n",
    "    # print('time=', T2 - T1)\n",
    "    T1 = time.perf_counter()\n",
    "    print(sut.new_proc(prob=prob, symm=False, max_steps=max_steps, epsilon=1e-5, global_lipschitz_interval=True,\n",
    "                       estimator=2, reduction=2,adaptive=False))\n",
    "    T2 = time.perf_counter()\n",
    "    print('time=', T2 - T1)\n",
    "    \n",
    "    T1 = time.perf_counter()\n",
    "    print(sut.new_proc(prob=prob, symm=False, max_steps=max_steps, epsilon=1e-5, global_lipschitz_interval=True,\n",
    "                       estimator=2, reduction=1,adaptive=False))\n",
    "    T2 = time.perf_counter()\n",
    "    print('time=', T2 - T1)\n",
    "    \n",
    "    T1 = time.perf_counter()\n",
    "    print(sut.)\n",
    "    T2 = time.perf_counter()\n",
    "    print('time=', T2 - T1)\n",
    "    # prob = uvpr.UniVarProblem(test.Index, test.objective, test.a, test.b, test.min_f, test.min_x, lambda x : log_point(x, points_db[test.Index]['psqe_lip_points_list']))\n",
    "    # print(sut.psqe(prob, sym = True))\n"
   ]
  },
  {
   "cell_type": "code",
   "execution_count": 10,
   "id": "30ffa037",
   "metadata": {
    "ExecuteTime": {
     "end_time": "2023-10-22T18:47:54.098510Z",
     "start_time": "2023-10-22T18:47:54.089069Z"
    }
   },
   "outputs": [],
   "source": [
    "def vis_trials(points_list, num_series, base_level):\n",
    "    poix = np.array(list(set(points_list[::skip])))\n",
    "    poiy = np.full(len(poix), base_level + num_series * -0.5)\n",
    "    up.plot_points(poix, poiy, num_series)"
   ]
  },
  {
   "cell_type": "code",
   "execution_count": 29,
   "id": "3bb0b182",
   "metadata": {
    "ExecuteTime": {
     "end_time": "2023-10-22T18:46:00.255740Z",
     "start_time": "2023-10-22T18:46:00.049197Z"
    }
   },
   "outputs": [
    {
     "name": "stdout",
     "output_type": "stream",
     "text": [
      "Pandas(Index='benchmark2', objective='x^3+2.*x+cos(10.*x)', a=-3, b=3, min_f=0, min_x=0)\n"
     ]
    },
    {
     "data": {
      "text/plain": "<Figure size 640x480 with 1 Axes>",
      "image/png": "[encoded data removed]"
     },
     "metadata": {},
     "output_type": "display_data"
    },
    {
     "name": "stdout",
     "output_type": "stream",
     "text": [
      "Pandas(Index='benchmark1', objective='1./(7.26231 * (10. * x - 1.34364)^2 + 0.25275) + 1./(3.96356 * (10. * x - 2.55069)^2 + 0.1899) + 1./(6.64323 * (10. * x - 6.51593)^2 + 0.11877) + 1./(7.13707 * (10. * x - 0.28347)^2 + 0.18655) + 1./(1.00844 * (10. * x - 7.6228)^2 + 0.18908) + 1./(2.12438 * (10. * x - 7.2154)^2 + 0.28905) + 1./(1.1261 * (10. * x - 9.01427)^2 + 0.10509) + 1./(8.2846 * (10. * x - 5.41412)^2 + 0.17624) + 1./(3.4012 * (10. * x - 2.16599)^2 + 0.10581) + 1./(3.51853 * (10. * x - 2.21692)^2 + 0.19916)-7', a=0, b=1, min_f=0, min_x=0)\n"
     ]
    },
    {
     "data": {
      "text/plain": "<Figure size 640x480 with 1 Axes>",
      "image/png": "[encoded data removed]"
     },
     "metadata": {},
     "output_type": "display_data"
    }
   ],
   "source": [
    "for test in df.itertuples():\n",
    "    print(test)\n",
    "    prob = uvpr.UniVarProblem(test.Index, test.objective, test.a, test.b, test.min_f, test.min_x)\n",
    "    up.plot_problem(prob, {'function': 'b-'}, legend=legend_size)\n",
    "    vis_trials(points_db[test.Index]['psqe_lipint_points_list'], 0, plt.ylim()[0] + legend_size)\n",
    "    vis_trials(points_db[test.Index]['psqe_lip_points_list'], 1, plt.ylim()[0] + legend_size)\n",
    "    vis_trials(points_db[test.Index]['psl_lipint_points_list'], 2, plt.ylim()[0] + legend_size)\n",
    "    vis_trials(points_db[test.Index]['psl_lip_points_list'], 3, plt.ylim()[0] + legend_size)\n",
    "    #     print(\"ylim = \", plt.ylim()[0])\n",
    "    plt.show()\n"
   ]
  },
  {
   "cell_type": "code",
   "execution_count": null,
   "id": "8aec4782",
   "metadata": {},
   "outputs": [],
   "source": []
  },
  {
   "cell_type": "code",
   "execution_count": null,
   "id": "7f859061",
   "metadata": {},
   "outputs": [],
   "source": []
  }
 ],
 "metadata": {
  "kernelspec": {
   "display_name": "Python 3 (ipykernel)",
   "language": "python",
   "name": "python3"
  },
  "language_info": {
   "codemirror_mode": {
    "name": "ipython",
    "version": 3
   },
   "file_extension": ".py",
   "mimetype": "text/x-python",
   "name": "python",
   "nbconvert_exporter": "python",
   "pygments_lexer": "ipython3",
   "version": "3.10.4"
  }
 },
 "nbformat": 4,
 "nbformat_minor": 5
}
