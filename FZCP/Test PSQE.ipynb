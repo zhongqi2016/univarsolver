{
 "cells": [
  {
   "cell_type": "markdown",
   "id": "28ab3071",
   "metadata": {},
   "source": [
    "# Test of Piecewise Smooth Quadratic Estimators"
   ]
  },
  {
   "cell_type": "code",
   "execution_count": 1,
   "id": "84d44548",
   "metadata": {},
   "outputs": [],
   "source": [
    "import sympy as sym\n",
    "import matplotlib.pyplot as plt\n",
    "import numpy as np\n",
    "import interval as ival\n",
    "import psl_bounds as pl\n",
    "import psqe_bounds as pq"
   ]
  },
  {
   "cell_type": "markdown",
   "id": "76c62d16",
   "metadata": {},
   "source": [
    "Auxiliary plot routine"
   ]
  },
  {
   "cell_type": "code",
   "execution_count": 2,
   "id": "6c727e05",
   "metadata": {},
   "outputs": [],
   "source": [
    "def plot_problem(flist, minlist, a, b):\n",
    "    colors = ['r-', 'b-', 'g-', 'y-', 'm-', 'c-']\n",
    "    step = (b - a) / 1000.\n",
    "    ta = np.arange(a, b + step, step)\n",
    "    num_points = len(ta)\n",
    "    num_funcs = len(flist)\n",
    "\n",
    "    fta = np.empty([num_funcs, num_points])\n",
    "    print(fta)\n",
    "\n",
    "    for i in range(num_funcs):\n",
    "        for j in range(num_points):\n",
    "            fta[i, j] = flist[i](ta[j])\n",
    "    lb = np.amin(fta)\n",
    "    ub = np.amax(fta)\n",
    "    d = (ub - lb) * 0.1\n",
    "    for i in range(num_funcs):\n",
    "        plt.plot(ta, fta[i, :], colors[i])\n",
    "    for point in min_list:\n",
    "        plt.scatter(point[0], point[1], s=20)\n",
    "    plt.ylim([lb - d, ub + d])\n",
    "    plt.show()"
   ]
  },
  {
   "cell_type": "markdown",
   "id": "5b08695d",
   "metadata": {},
   "source": [
    "Test problem"
   ]
  },
  {
   "cell_type": "code",
   "execution_count": 3,
   "id": "8ea42530",
   "metadata": {},
   "outputs": [
    {
     "name": "stdout",
     "output_type": "stream",
     "text": [
      "x**3 + 2*x**2 - 4*x + 1 3*x**2 + 4*x - 4 6*x + 4\n",
      "9.0 16.0\n",
      "[-8.0, 16.0] [-2.0, 16.0]\n"
     ]
    }
   ],
   "source": [
    "x = sym.symbols('x')\n",
    "e_f = x ** 3 + 2 * x ** 2 - 4 * x + 1\n",
    "e_nf = -e_f\n",
    "e_df = sym.diff(e_f)\n",
    "e_ndf = -e_df\n",
    "e_ddf = sym.diff(e_df)\n",
    "print(e_f, e_df, e_ddf)\n",
    "f = sym.lambdify(x, e_f)\n",
    "nf = sym.lambdify(x, e_nf)\n",
    "df = sym.lambdify(x, e_df)\n",
    "ndf = sym.lambdify(x, e_ndf)\n",
    "ddf = sym.lambdify(x, e_ddf)\n",
    "print(f(2.), df(2.))\n",
    "a = -1.\n",
    "b = 2.\n",
    "idef = ival.Interval([a, b])\n",
    "di = df(idef)\n",
    "\n",
    "# print(f(idef), df(idef), ddf(idef))\n",
    "ddi = ddf(idef)\n",
    "print(di, ddi)"
   ]
  },
  {
   "cell_type": "code",
   "execution_count": 4,
   "id": "553741de",
   "metadata": {},
   "outputs": [
    {
     "name": "stdout",
     "output_type": "stream",
     "text": [
      "Piecewise linear estimator a = -1.0, b = 2.0, c = 0.875, alp = -8.0, bet = 16.0, fa = 6.0, fb = 9.0\n",
      "Piecewise linear estimator a = -1.0, b = 2.0, c = 0.40625, alp = -16.0, bet = 16.0, fa = 6.0, fb = 9.0\n",
      "Estimator a = -1.0, b = 2.0, c = 0.25, d = 1.75, alp = -2.0, bet = 16.0, fa = 6.0, fb = 9.0, dfa = -5.0, dfb = 16.0\n",
      "Estimator a = -1.0, b = 2.0, c = -0.38247282608695654, d = 1.7737771739130435, alp = -16.0, bet = 16.0, fa = 6.0, fb = 9.0, dfa = -5.0, dfb = 16.0\n",
      "(0.5475543478260869, -7.057958707466919)\n",
      "[(0.875, -9.0), (0.40625, -16.5), (0.71875, -3.5703125), (0.5475543478260869, -7.057958707466919)]\n"
     ]
    }
   ],
   "source": [
    "\n",
    "# estim = pq.PSQE_Under(a, b, ddi.x[0], ddi.x[1], f, df)\n",
    "l = max(-di.x[0], di.x[1])\n",
    "L = max(-ddi.x[0], ddi.x[1])\n",
    "# print(L)\n",
    "estim_pl = pl.PSL_Bounds(a, b, di.x[0], di.x[1], f, True)\n",
    "estim_plip = pl.PSL_Bounds(a, b, -l, l, f, True)\n",
    "estim_pl_ob = pl.PSL_Bounds(a, b, di.x[0], di.x[1], f, False)\n",
    "\n",
    "estim_int = pq.PSQE_Bounds(a, b, ddi.x[0], ddi.x[1], f, df, True)\n",
    "estim_lip = pq.PSQE_Bounds(a, b, -L, L, f, df, True)\n",
    "estim_int_ob = pq.PSQE_Bounds(a, b, ddi.x[0], ddi.x[1], f, df, False)\n",
    "\n",
    "print(estim_pl)\n",
    "print(estim_plip)\n",
    "print(estim_int)\n",
    "print(estim_lip)\n",
    "print(estim_lip.lower_bound_and_point())\n",
    "min_list = [estim_pl.lower_bound_and_point(), estim_plip.lower_bound_and_point(), estim_int.lower_bound_and_point(),\n",
    "            estim_lip.lower_bound_and_point()]\n",
    "print(min_list)"
   ]
  },
  {
   "cell_type": "markdown",
   "id": "8349f7f9",
   "metadata": {},
   "source": [
    "Vizualize test problem"
   ]
  },
  {
   "cell_type": "code",
   "execution_count": 5,
   "id": "8a1468da",
   "metadata": {},
   "outputs": [
    {
     "name": "stdout",
     "output_type": "stream",
     "text": [
      "[[0.00000000e+000 2.16054642e-314 2.69384353e-319 ... 4.96844977e+180\n",
      "  2.42834334e+198 1.22681370e-259]\n",
      " [1.33629952e-152 2.57026717e+151 2.47935593e-091 ... 8.87693540e+252\n",
      "  2.41317562e+185 2.18174346e+243]\n",
      " [5.98150244e-154 2.54723493e+151 9.31729203e+242 ... 5.48369079e+247\n",
      "  1.44421179e+214 8.76393933e+252]\n",
      " [2.44077856e-154 1.67761111e+150 3.18489772e-114 ... 3.39066966e-009\n",
      "  1.63154555e-086 8.06274510e+000]\n",
      " [3.44981361e+175 1.81786144e+185 4.35604441e-114 ... 2.17237419e-153\n",
      "  2.25064918e-153 2.18183985e+243]]\n"
     ]
    },
    {
     "ename": "TypeError",
     "evalue": "'PSQE_Bounds' object is not callable",
     "output_type": "error",
     "traceback": [
      "\u001B[0;31m---------------------------------------------------------------------------\u001B[0m",
      "\u001B[0;31mTypeError\u001B[0m                                 Traceback (most recent call last)",
      "Cell \u001B[0;32mIn [5], line 1\u001B[0m\n\u001B[0;32m----> 1\u001B[0m plot_problem([f, estim_int_ob, estim_int\u001B[38;5;241m.\u001B[39mestimator,estim_pl,estim_pl_ob], min_list, a, b)\n",
      "Cell \u001B[0;32mIn [2], line 13\u001B[0m, in \u001B[0;36mplot_problem\u001B[0;34m(flist, minlist, a, b)\u001B[0m\n\u001B[1;32m     11\u001B[0m \u001B[38;5;28;01mfor\u001B[39;00m i \u001B[38;5;129;01min\u001B[39;00m \u001B[38;5;28mrange\u001B[39m(num_funcs):\n\u001B[1;32m     12\u001B[0m     \u001B[38;5;28;01mfor\u001B[39;00m j \u001B[38;5;129;01min\u001B[39;00m \u001B[38;5;28mrange\u001B[39m(num_points):\n\u001B[0;32m---> 13\u001B[0m         fta[i, j] \u001B[38;5;241m=\u001B[39m \u001B[43mflist\u001B[49m\u001B[43m[\u001B[49m\u001B[43mi\u001B[49m\u001B[43m]\u001B[49m\u001B[43m(\u001B[49m\u001B[43mta\u001B[49m\u001B[43m[\u001B[49m\u001B[43mj\u001B[49m\u001B[43m]\u001B[49m\u001B[43m)\u001B[49m\n\u001B[1;32m     14\u001B[0m lb \u001B[38;5;241m=\u001B[39m np\u001B[38;5;241m.\u001B[39mamin(fta)\n\u001B[1;32m     15\u001B[0m ub \u001B[38;5;241m=\u001B[39m np\u001B[38;5;241m.\u001B[39mamax(fta)\n",
      "\u001B[0;31mTypeError\u001B[0m: 'PSQE_Bounds' object is not callable"
     ]
    }
   ],
   "source": [
    "plot_problem([f, estim_int_ob, estim_int.estimator, estim_pl, estim_pl_ob], min_list, a, b)"
   ]
  },
  {
   "cell_type": "code",
   "execution_count": 5,
   "id": "8683dffa",
   "metadata": {},
   "outputs": [],
   "source": []
  },
  {
   "cell_type": "code",
   "execution_count": null,
   "outputs": [],
   "source": [],
   "metadata": {
    "collapsed": false
   }
  }
 ],
 "metadata": {
  "kernelspec": {
   "display_name": "Python 3 (ipykernel)",
   "language": "python",
   "name": "python3"
  },
  "language_info": {
   "codemirror_mode": {
    "name": "ipython",
    "version": 3
   },
   "file_extension": ".py",
   "mimetype": "text/x-python",
   "name": "python",
   "nbconvert_exporter": "python",
   "pygments_lexer": "ipython3",
   "version": "3.10.4"
  }
 },
 "nbformat": 4,
 "nbformat_minor": 5
}
