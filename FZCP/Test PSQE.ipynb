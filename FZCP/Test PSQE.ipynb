{
 "cells": [
  {
   "cell_type": "markdown",
   "id": "28ab3071",
   "metadata": {},
   "source": [
    "# Test of Piecewise Smooth Quadratic Estimators"
   ]
  },
  {
   "cell_type": "code",
   "execution_count": 1,
   "id": "84d44548",
   "metadata": {},
   "outputs": [],
   "source": [
    "import sympy as sym\n",
    "import matplotlib.pyplot as plt\n",
    "import numpy as np\n",
    "from interval import *\n",
    "import psl_bounds as pl\n",
    "import psqe_bounds as pq"
   ]
  },
  {
   "cell_type": "markdown",
   "id": "76c62d16",
   "metadata": {},
   "source": [
    "Auxiliary plot routine"
   ]
  },
  {
   "cell_type": "code",
   "execution_count": 2,
   "id": "6c727e05",
   "metadata": {},
   "outputs": [],
   "source": [
    "def plot_problem(flist, min_list, a, b):\n",
    "    colors = ['r-', 'b-', 'g-', 'y-', 'm-', 'c-']\n",
    "    step = (b - a) / 1000.\n",
    "    ta = np.arange(a, b + step, step)\n",
    "    num_points = len(ta)\n",
    "    num_funcs = len(flist)\n",
    "\n",
    "    fta = np.empty([num_funcs, num_points])\n",
    "    print(fta)\n",
    "\n",
    "    for i in range(num_funcs):\n",
    "        for j in range(num_points):\n",
    "            fta[i, j] = flist[i](ta[j])\n",
    "    lb = np.amin(fta)\n",
    "    ub = np.amax(fta)\n",
    "    d = (ub - lb) * 0.1\n",
    "    for i in range(num_funcs):\n",
    "        plt.plot(ta, fta[i, :], colors[i])\n",
    "    # for point in min_list:\n",
    "    #     plt.scatter(point[0], point[1], s=20)\n",
    "    plt.ylim([lb - d, ub + d])\n",
    "    plt.axhline(y=0, linestyle='--', color='black')\n",
    "    plt.text(0.5, 1, r'$\\Phi(x)$', fontsize=18)\n",
    "    plt.text(-0.2, 0.5, r'$f(x)$', fontsize=18)\n",
    "    plt.text(-0.5, -2, r'$\\phi(x)$', fontsize=18)\n",
    "    plt.scatter(0.62, 0, s=22)\n",
    "    plt.scatter(-0.22, 0, s=22)\n",
    "    plt.scatter(-0.31, 0, s=22)\n",
    "    plt.savefig('./first_root.png', dpi=500)\n",
    "    plt.show()"
   ]
  },
  {
   "cell_type": "markdown",
   "id": "5b08695d",
   "metadata": {},
   "source": [
    "Test problem"
   ]
  },
  {
   "cell_type": "code",
   "execution_count": 3,
   "outputs": [],
   "source": [
    "x = sym.symbols('x')\n",
    "e_f = x ** 3 + 2 * x ** 2 - 4 * x - 1\n",
    "# e_f = x ** 3 + 2 * x - 10 + sin(10 * x)"
   ],
   "metadata": {
    "collapsed": false
   }
  },
  {
   "cell_type": "code",
   "execution_count": 4,
   "id": "8ea42530",
   "metadata": {},
   "outputs": [
    {
     "name": "stdout",
     "output_type": "stream",
     "text": [
      "x**3 + 2*x**2 - 4*x - 1 3*x**2 + 4*x - 4 6*x + 4\n",
      "f 4.0\n",
      "f 7.0\n",
      "7.0 16.0\n",
      "[-8.0, 16.0] [-2.0, 16.0]\n"
     ]
    }
   ],
   "source": [
    "# x = sym.symbols('x')\n",
    "# e_f = x ** 3 + 2 * x ** 2 - 4 * x-1+sin(x)\n",
    "e_nf = -e_f\n",
    "e_df = sym.diff(e_f)\n",
    "e_ndf = -e_df\n",
    "e_ddf = sym.diff(e_df)\n",
    "e_nddf = -e_ddf\n",
    "print(e_f, e_df, e_ddf)\n",
    "module_sin = {\"sin\": sin}\n",
    "module_cos = {\"cos\": cos}\n",
    "f = sym.lambdify(x, e_f, modules=[module_sin, module_cos])\n",
    "print('f', f(-1.))\n",
    "print('f', f(2.))\n",
    "\n",
    "nf = sym.lambdify(x, e_nf)\n",
    "df = sym.lambdify(x, e_df, modules=[module_sin, module_cos])\n",
    "ndf = sym.lambdify(x, e_ndf)\n",
    "ddf = sym.lambdify(x, e_ddf, modules=[module_sin, module_cos])\n",
    "nddf = sym.lambdify(x, e_nddf)\n",
    "print(f(2.), df(2.))\n",
    "a = -1.\n",
    "b = 2.\n",
    "idef = Interval([a, b])\n",
    "di = df(idef)\n",
    "\n",
    "# print(f(idef), df(idef), ddf(idef))\n",
    "ddi = ddf(idef)\n",
    "print(di, ddi)"
   ]
  },
  {
   "cell_type": "code",
   "execution_count": 5,
   "id": "553741de",
   "metadata": {},
   "outputs": [
    {
     "name": "stdout",
     "output_type": "stream",
     "text": [
      "Piecewise linear estimator a = -1.0, b = 2.0, c = 0.875, alp = -8.0, bet = 16.0, fa = 4.0, fb = 7.0\n",
      "Piecewise linear estimator a = -1.0, b = 2.0, c = 0.40625, alp = -16.0, bet = 16.0, fa = 4.0, fb = 7.0\n",
      "Estimator a = -1.0, b = 2.0, c = 0.25, d = 1.75, alp = -2.0, bet = 16.0, fa = 4.0, fb = 7.0, dfa = -5.0, dfb = 16.0\n",
      "Estimator a = -1.0, b = 2.0, c = -0.75, d = 0.75, alp = -16.0, bet = 2.0, fa = -4.0, fb = -7.0, dfa = 5.0, dfb = -16.0\n",
      "[(0.71875, -5.5703125), (2.0, 7.0)]\n"
     ]
    }
   ],
   "source": [
    "\n",
    "# estim = pq.PSQE_Under(a, b, ddi.x[0], ddi.x[1], f, df)\n",
    "l = max(-di.x[0], di.x[1])\n",
    "L = max(-ddi.x[0], ddi.x[1])\n",
    "# print(L)\n",
    "estim_pl = pl.PSL_Bounds(a, b, di.x[0], di.x[1], f, True)\n",
    "estim_plip = pl.PSL_Bounds(a, b, -l, l, f, True)\n",
    "estim_pl_ob = pl.PSL_Bounds(a, b, di.x[0], di.x[1], f, False)\n",
    "\n",
    "estim_int = pq.PSQE_Bounds(a, b, ddi.x[0], ddi.x[1], f, df, True)\n",
    "estim_lip = pq.PSQE_Bounds(a, b, -L, L, f, df, True)\n",
    "estim_int_ob = pq.PSQE_Bounds(a, b, ddi.x[0], ddi.x[1], f, df, False)\n",
    "\n",
    "print(estim_pl)\n",
    "print(estim_plip)\n",
    "print(estim_int)\n",
    "# print(estim_lip)\n",
    "print(estim_int_ob)\n",
    "min_list = [estim_int.lower_bound_and_point(),\n",
    "            estim_int_ob.lower_bound_and_point()]\n",
    "print(min_list)"
   ]
  },
  {
   "cell_type": "markdown",
   "id": "8349f7f9",
   "metadata": {},
   "source": [
    "Vizualize test problem"
   ]
  },
  {
   "cell_type": "code",
   "execution_count": 6,
   "id": "8a1468da",
   "metadata": {},
   "outputs": [
    {
     "name": "stdout",
     "output_type": "stream",
     "text": [
      "[[0.00000000e+000 5.30498949e-313 0.00000000e+000 ... 4.44659081e-323\n",
      "  1.90979621e-313 1.18575755e-322]\n",
      " [2.33687836e-314 9.88131292e-324 2.45565631e-314 ... 2.33763869e-314\n",
      "  2.33763765e-314 2.33763784e-314]\n",
      " [2.33763862e-314 2.33763858e-314 2.33763843e-314 ... 5.59282311e-321\n",
      "  2.45566435e-314 8.25089629e-322]]\n"
     ]
    },
    {
     "data": {
      "text/plain": "<Figure size 640x480 with 1 Axes>",
      "image/png": "[encoded data removed]"
     },
     "metadata": {},
     "output_type": "display_data"
    }
   ],
   "source": [
    "plot_problem([f, estim_int.estimator, estim_int_ob.nestimator], min_list, a, b)"
   ]
  },
  {
   "cell_type": "code",
   "execution_count": 6,
   "id": "8683dffa",
   "metadata": {},
   "outputs": [],
   "source": []
  },
  {
   "cell_type": "code",
   "execution_count": 6,
   "outputs": [],
   "source": [],
   "metadata": {
    "collapsed": false
   }
  }
 ],
 "metadata": {
  "kernelspec": {
   "display_name": "Python 3 (ipykernel)",
   "language": "python",
   "name": "python3"
  },
  "language_info": {
   "codemirror_mode": {
    "name": "ipython",
    "version": 3
   },
   "file_extension": ".py",
   "mimetype": "text/x-python",
   "name": "python",
   "nbconvert_exporter": "python",
   "pygments_lexer": "ipython3",
   "version": "3.10.4"
  }
 },
 "nbformat": 4,
 "nbformat_minor": 5
}
