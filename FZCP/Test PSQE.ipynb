{
 "cells": [
  {
   "cell_type": "markdown",
   "id": "28ab3071",
   "metadata": {},
   "source": [
    "# Test of Piecewise Smooth Quadratic Estimators"
   ]
  },
  {
   "cell_type": "code",
   "execution_count": 8,
   "id": "84d44548",
   "metadata": {},
   "outputs": [],
   "source": [
    "import sympy as sym\n",
    "import matplotlib.pyplot as plt\n",
    "import numpy as np\n",
    "from interval import *\n",
    "import psl_bounds as pl\n",
    "import psqe_bounds as pq"
   ]
  },
  {
   "cell_type": "markdown",
   "id": "76c62d16",
   "metadata": {},
   "source": [
    "Auxiliary plot routine"
   ]
  },
  {
   "cell_type": "code",
   "execution_count": 9,
   "id": "6c727e05",
   "metadata": {},
   "outputs": [],
   "source": [
    "def plot_problem(flist, min_list, a, b):\n",
    "    colors = ['r-', 'b-', 'g-', 'y-', 'm-', 'c-']\n",
    "    step = (b - a) / 1000.\n",
    "    ta = np.arange(a, b + step, step)\n",
    "    num_points = len(ta)\n",
    "    num_funcs = len(flist)\n",
    "\n",
    "    fta = np.empty([num_funcs, num_points])\n",
    "    print(fta)\n",
    "\n",
    "    for i in range(num_funcs):\n",
    "        for j in range(num_points):\n",
    "            fta[i, j] = flist[i](ta[j])\n",
    "    lb = np.amin(fta)\n",
    "    ub = np.amax(fta)\n",
    "    d = (ub - lb) * 0.1\n",
    "    for i in range(num_funcs):\n",
    "        plt.plot(ta, fta[i, :], colors[i])\n",
    "    # for point in min_list:\n",
    "    #     plt.scatter(point[0], point[1], s=20)\n",
    "    plt.ylim([lb - d, ub + d])\n",
    "    plt.axhline(y=0, linestyle='--', color='black')\n",
    "    plt.text(0.5, 1, r'$\\Phi(x)$', fontsize=18)\n",
    "    plt.text(-0.2, 0.5, r'$f(x)$', fontsize=18)\n",
    "    plt.text(-0.5, -2, r'$\\phi(x)$', fontsize=18)\n",
    "    plt.scatter(0.62, 0, s=22)\n",
    "    plt.scatter(-0.22, 0, s=22)\n",
    "    plt.scatter(-0.31, 0, s=22)\n",
    "    plt.savefig('./first_root.png', dpi=500)\n",
    "    plt.show()"
   ]
  },
  {
   "cell_type": "markdown",
   "id": "5b08695d",
   "metadata": {},
   "source": [
    "Test problem"
   ]
  },
  {
   "cell_type": "code",
   "execution_count": 10,
   "outputs": [],
   "source": [
    "x = sym.symbols('x')\n",
    "# e_f = x ** 3 + 2 * x ** 2 - 4 * x - 1\n",
    "e_f = x ** 3 + 2 * x - 10 + sin(10 * x)"
   ],
   "metadata": {
    "collapsed": false
   }
  },
  {
   "cell_type": "code",
   "execution_count": 11,
   "id": "8ea42530",
   "metadata": {},
   "outputs": [
    {
     "name": "stdout",
     "output_type": "stream",
     "text": [
      "x**3 + 2*x + sin(10*x) - 10 3*x**2 + 10*cos(10*x) + 2 6*x - 100*sin(10*x)\n",
      "f -12.4559788891106\n",
      "f 2.91294525072763\n",
      "2.91294525072763 18.0808206181339\n",
      "[-8, 39.0] [-118.0, 118.0]\n"
     ]
    }
   ],
   "source": [
    "# x = sym.symbols('x')\n",
    "# e_f = x ** 3 + 2 * x ** 2 - 4 * x-1+sin(x)\n",
    "e_nf = -e_f\n",
    "e_df = sym.diff(e_f)\n",
    "e_ndf = -e_df\n",
    "e_ddf = sym.diff(e_df)\n",
    "e_nddf = -e_ddf\n",
    "print(e_f, e_df, e_ddf)\n",
    "module_sin = {\"sin\": sin}\n",
    "module_cos = {\"cos\": cos}\n",
    "f = sym.lambdify(x, e_f, modules=[module_sin, module_cos])\n",
    "print('f', f(-1.))\n",
    "print('f', f(2.))\n",
    "\n",
    "nf = sym.lambdify(x, e_nf)\n",
    "df = sym.lambdify(x, e_df, modules=[module_sin, module_cos])\n",
    "ndf = sym.lambdify(x, e_ndf)\n",
    "ddf = sym.lambdify(x, e_ddf, modules=[module_sin, module_cos])\n",
    "nddf = sym.lambdify(x, e_nddf)\n",
    "print(f(2.), df(2.))\n",
    "a = -3.\n",
    "b = 3.\n",
    "idef = Interval([a, b])\n",
    "di = df(idef)\n",
    "\n",
    "# print(f(idef), df(idef), ddf(idef))\n",
    "ddi = ddf(idef)\n",
    "print(di, ddi)"
   ]
  },
  {
   "cell_type": "code",
   "execution_count": 12,
   "id": "553741de",
   "metadata": {},
   "outputs": [
    {
     "name": "stdout",
     "output_type": "stream",
     "text": [
      "Piecewise linear estimator a = -3.0, b = 3.0, c = 0.616511984003952, alp = -8, bet = 39.0, fa = -42.0119683759071, fb = 22.0119683759071\n",
      "Piecewise linear estimator a = -3.0, b = 3.0, c = -0.820819701946337, alp = -39.0, bet = 39.0, fa = -42.0119683759071, fb = 22.0119683759071\n",
      "Estimator a = -3.0, b = 3.0, c = -1.33159442056294, d = 1.66840557943706, alp = -118.0, bet = 118.0, fa = -42.0119683759071, fb = 22.0119683759071, dfa = 30.5425144988758, dfb = 30.5425144988758\n",
      "Estimator a = -3.0, b = 3.0, c = -1.66840557943706, d = 1.33159442056294, alp = -118.0, bet = 118.0, fa = 42.0119683759071, fb = -22.0119683759071, dfa = -30.5425144988758, dfb = -30.5425144988758\n",
      "[(0.0779762902395851, -272.512205984639), (-0.0779762902395853, 252.512205984639)]\n"
     ]
    }
   ],
   "source": [
    "\n",
    "# estim = pq.PSQE_Under(a, b, ddi.x[0], ddi.x[1], f, df)\n",
    "l = max(-di.x[0], di.x[1])\n",
    "L = max(-ddi.x[0], ddi.x[1])\n",
    "# print(L)\n",
    "estim_pl = pl.PSL_Bounds(a, b, di.x[0], di.x[1], f, True)\n",
    "estim_plip = pl.PSL_Bounds(a, b, -l, l, f, True)\n",
    "estim_pl_ob = pl.PSL_Bounds(a, b, di.x[0], di.x[1], f, False)\n",
    "\n",
    "estim_int = pq.PSQE_Bounds(a, b, ddi.x[0], ddi.x[1], f, df, True)\n",
    "estim_lip = pq.PSQE_Bounds(a, b, -L, L, f, df, True)\n",
    "estim_int_ob = pq.PSQE_Bounds(a, b, ddi.x[0], ddi.x[1], f, df, False)\n",
    "\n",
    "print(estim_pl)\n",
    "print(estim_plip)\n",
    "print(estim_int)\n",
    "# print(estim_lip)\n",
    "print(estim_int_ob)\n",
    "min_list = [estim_int.lower_bound_and_point(),\n",
    "            estim_int_ob.lower_bound_and_point()]\n",
    "print(min_list)"
   ]
  },
  {
   "cell_type": "markdown",
   "id": "8349f7f9",
   "metadata": {},
   "source": [
    "Vizualize test problem"
   ]
  },
  {
   "cell_type": "code",
   "execution_count": 13,
   "id": "8a1468da",
   "metadata": {},
   "outputs": [
    {
     "name": "stdout",
     "output_type": "stream",
     "text": [
      "[[ 0.00000000e+000  3.98463943e-320  0.00000000e+000 ...  8.89318163e-322\n",
      "   2.82368562e-314  2.12199580e-314]\n",
      " [ 2.37329638e-314  4.94065646e-324  4.94065646e-324 ...  2.82368962e-314\n",
      "   1.74020930e+121  0.00000000e+000]\n",
      " [-1.86198177e-215  2.16504277e-314 -2.81825889e+154 ...  2.12199635e-314\n",
      "   2.82369390e-314  2.12199591e-314]]\n"
     ]
    },
    {
     "data": {
      "text/plain": "<Figure size 640x480 with 1 Axes>",
      "image/png": "[encoded data removed]"
     },
     "metadata": {},
     "output_type": "display_data"
    }
   ],
   "source": [
    "plot_problem([f, estim_int.estimator, estim_int_ob.nestimator], min_list, a, b)"
   ]
  },
  {
   "cell_type": "code",
   "execution_count": 13,
   "id": "8683dffa",
   "metadata": {},
   "outputs": [],
   "source": []
  },
  {
   "cell_type": "code",
   "execution_count": 13,
   "outputs": [],
   "source": [],
   "metadata": {
    "collapsed": false
   }
  }
 ],
 "metadata": {
  "kernelspec": {
   "display_name": "Python 3 (ipykernel)",
   "language": "python",
   "name": "python3"
  },
  "language_info": {
   "codemirror_mode": {
    "name": "ipython",
    "version": 3
   },
   "file_extension": ".py",
   "mimetype": "text/x-python",
   "name": "python",
   "nbconvert_exporter": "python",
   "pygments_lexer": "ipython3",
   "version": "3.10.4"
  }
 },
 "nbformat": 4,
 "nbformat_minor": 5
}
