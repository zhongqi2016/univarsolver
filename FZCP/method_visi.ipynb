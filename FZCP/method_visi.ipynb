{
 "cells": [
  {
   "cell_type": "code",
   "execution_count": 1,
   "id": "7c5d7d43",
   "metadata": {},
   "outputs": [],
   "source": [
    "import sys\n",
    "import time\n",
    "\n",
    "sys.path.append(\"..\")\n",
    "import uniplot as up\n",
    "import pandas as pd\n",
    "import numpy as np\n",
    "import matplotlib.pyplot as plt\n",
    "import solv_fzcp as sfzcp\n",
    "import uvarprob as uvpr"
   ]
  },
  {
   "cell_type": "code",
   "execution_count": 2,
   "id": "da4a032c",
   "metadata": {},
   "outputs": [],
   "source": [
    "test_file = \"../tst2.csv\""
   ]
  },
  {
   "cell_type": "code",
   "execution_count": 3,
   "id": "57431414",
   "metadata": {},
   "outputs": [],
   "source": [
    "# Maximal number of steps\n",
    "max_steps = 1e6\n",
    "# Tolerance\n",
    "epsilon = 1e-2\n",
    "# If True - global Lipschitz constant is used\n",
    "global_lipschitz_interval = True\n",
    "# If True - the record value is taken from the test database\n",
    "known_record = False\n",
    "# How many points to skip in vizualization - regular step\n",
    "skip = 1000\n",
    "# The size of the legend in plots\n",
    "legend_size = 2"
   ]
  },
  {
   "cell_type": "code",
   "execution_count": 4,
   "id": "0a503d18",
   "metadata": {},
   "outputs": [],
   "source": [
    "def read_problems(fname):\n",
    "    data = pd.read_csv(fname, index_col='name', comment='#')\n",
    "    return data"
   ]
  },
  {
   "cell_type": "code",
   "execution_count": 5,
   "id": "ea8c08bf",
   "metadata": {},
   "outputs": [
    {
     "data": {
      "text/plain": "                                              objective    a      b  min_f  \\\nname                                                                         \n1                                   x^3+2.*x+cos(10.*x) -3.0    3.0      0   \n2                                 -(x^2.)*sin(1.*x)+1.0  0.2    7.0      0   \n3                             (3.*x-1.4)*sin(18.*x)+1.7  0.0    7.0      0   \n4                                     (x+ 1.)^3/x^2-7.1  0.1    7.0      0   \n5                                       sin(x)/x+cos(x)  0.1   10.0      0   \n6                      x^3-3.0*x^2+2.0*x+5.0*sin(5.0*x) -5.0    5.0      0   \n7      1/16.0*x^6 - 3/5.0*x^5 - 13/2.0 * x^4 + 211/1... -5.0    5.0      0   \n8                                      log(x)+1.0/x^2-2  0.1   10.0      0   \n9      x^7 + x^6 - 3.0*x^5 - 10.0*x^4 + 14.0*x^3 - 1... -5.0    5.0      0   \n11                    cos(x)+2.0*cos(2.0*x)*exp(-x)+1.0  0.2    7.0      0   \n12     sin(x) + 0.5*sin(2.0*x) + 0.33*sin(3.0*x) + 0...  0.1  100.0      0   \n13                          x^3.0+x^2.0+sin(10.0*x)-1.1 -2.0    2.0      0   \n10     x^8 - x^7 + 2.0*x^6 - 11.0*x^5 + 21.0*x^4 - 3... -5.0    5.0      0   \n\n      min_x  \nname         \n1         0  \n2         0  \n3         0  \n4         0  \n5         0  \n6         0  \n7         0  \n8         0  \n9         0  \n11        0  \n12        0  \n13        0  \n10        0  ",
      "text/html": "<div>\n<style scoped>\n    .dataframe tbody tr th:only-of-type {\n        vertical-align: middle;\n    }\n\n    .dataframe tbody tr th {\n        vertical-align: top;\n    }\n\n    .dataframe thead th {\n        text-align: right;\n    }\n</style>\n<table border=\"1\" class=\"dataframe\">\n  <thead>\n    <tr style=\"text-align: right;\">\n      <th></th>\n      <th>objective</th>\n      <th>a</th>\n      <th>b</th>\n      <th>min_f</th>\n      <th>min_x</th>\n    </tr>\n    <tr>\n      <th>name</th>\n      <th></th>\n      <th></th>\n      <th></th>\n      <th></th>\n      <th></th>\n    </tr>\n  </thead>\n  <tbody>\n    <tr>\n      <th>1</th>\n      <td>x^3+2.*x+cos(10.*x)</td>\n      <td>-3.0</td>\n      <td>3.0</td>\n      <td>0</td>\n      <td>0</td>\n    </tr>\n    <tr>\n      <th>2</th>\n      <td>-(x^2.)*sin(1.*x)+1.0</td>\n      <td>0.2</td>\n      <td>7.0</td>\n      <td>0</td>\n      <td>0</td>\n    </tr>\n    <tr>\n      <th>3</th>\n      <td>(3.*x-1.4)*sin(18.*x)+1.7</td>\n      <td>0.0</td>\n      <td>7.0</td>\n      <td>0</td>\n      <td>0</td>\n    </tr>\n    <tr>\n      <th>4</th>\n      <td>(x+ 1.)^3/x^2-7.1</td>\n      <td>0.1</td>\n      <td>7.0</td>\n      <td>0</td>\n      <td>0</td>\n    </tr>\n    <tr>\n      <th>5</th>\n      <td>sin(x)/x+cos(x)</td>\n      <td>0.1</td>\n      <td>10.0</td>\n      <td>0</td>\n      <td>0</td>\n    </tr>\n    <tr>\n      <th>6</th>\n      <td>x^3-3.0*x^2+2.0*x+5.0*sin(5.0*x)</td>\n      <td>-5.0</td>\n      <td>5.0</td>\n      <td>0</td>\n      <td>0</td>\n    </tr>\n    <tr>\n      <th>7</th>\n      <td>1/16.0*x^6 - 3/5.0*x^5 - 13/2.0 * x^4 + 211/1...</td>\n      <td>-5.0</td>\n      <td>5.0</td>\n      <td>0</td>\n      <td>0</td>\n    </tr>\n    <tr>\n      <th>8</th>\n      <td>log(x)+1.0/x^2-2</td>\n      <td>0.1</td>\n      <td>10.0</td>\n      <td>0</td>\n      <td>0</td>\n    </tr>\n    <tr>\n      <th>9</th>\n      <td>x^7 + x^6 - 3.0*x^5 - 10.0*x^4 + 14.0*x^3 - 1...</td>\n      <td>-5.0</td>\n      <td>5.0</td>\n      <td>0</td>\n      <td>0</td>\n    </tr>\n    <tr>\n      <th>11</th>\n      <td>cos(x)+2.0*cos(2.0*x)*exp(-x)+1.0</td>\n      <td>0.2</td>\n      <td>7.0</td>\n      <td>0</td>\n      <td>0</td>\n    </tr>\n    <tr>\n      <th>12</th>\n      <td>sin(x) + 0.5*sin(2.0*x) + 0.33*sin(3.0*x) + 0...</td>\n      <td>0.1</td>\n      <td>100.0</td>\n      <td>0</td>\n      <td>0</td>\n    </tr>\n    <tr>\n      <th>13</th>\n      <td>x^3.0+x^2.0+sin(10.0*x)-1.1</td>\n      <td>-2.0</td>\n      <td>2.0</td>\n      <td>0</td>\n      <td>0</td>\n    </tr>\n    <tr>\n      <th>10</th>\n      <td>x^8 - x^7 + 2.0*x^6 - 11.0*x^5 + 21.0*x^4 - 3...</td>\n      <td>-5.0</td>\n      <td>5.0</td>\n      <td>0</td>\n      <td>0</td>\n    </tr>\n  </tbody>\n</table>\n</div>"
     },
     "execution_count": 5,
     "metadata": {},
     "output_type": "execute_result"
    }
   ],
   "source": [
    "df = read_problems(test_file)\n",
    "df"
   ]
  },
  {
   "cell_type": "code",
   "execution_count": 6,
   "id": "8d88eefa",
   "metadata": {},
   "outputs": [],
   "source": [
    "points_db = {}\n",
    "psl_lipint_points_list = []\n",
    "psl_lip_points_list = []\n",
    "psqe_lipint_points_list = []\n",
    "psqe_lip_points_list = []\n",
    "bnb2_lipint_points_list = []\n",
    "bnb2_lip_points_list = []"
   ]
  },
  {
   "cell_type": "code",
   "execution_count": 7,
   "id": "67100fbe",
   "metadata": {},
   "outputs": [],
   "source": [
    "def log_point(x, points_list):\n",
    "    points_list.append(x)"
   ]
  },
  {
   "cell_type": "code",
   "execution_count": 8,
   "id": "718a3988",
   "metadata": {},
   "outputs": [
    {
     "name": "stdout",
     "output_type": "stream",
     "text": [
      "1\n",
      "PSQE, Lipschitz interval: TestResult(nsteps=7, first_crossing_zero_point=[-0.130453438877509])\n",
      "time= 0.064814875004231\n",
      "2\n",
      "PSQE, Lipschitz interval: TestResult(nsteps=9, first_crossing_zero_point=[1.0682235423486324])\n",
      "time= 0.02773837500717491\n",
      "3\n",
      "PSQE, Lipschitz interval: TestResult(nsteps=49, first_crossing_zero_point=[1.2655389138246325])\n",
      "time= 0.04865954100387171\n",
      "4\n",
      "PSQE, Lipschitz interval: TestResult(nsteps=705, first_crossing_zero_point=[1.3646408837297082])\n",
      "time= 0.017788915996789\n",
      "5\n",
      "PSQE, Lipschitz interval: TestResult(nsteps=55, first_crossing_zero_point=[2.028757838110434])\n",
      "time= 0.03302362500107847\n",
      "6\n",
      "PSQE, Lipschitz interval: TestResult(nsteps=10, first_crossing_zero_point=[-0.8759863888031947])\n",
      "time= 0.022823207997134887\n",
      "7\n",
      "PSQE, Lipschitz interval: TestResult(nsteps=11, first_crossing_zero_point=[-1.1593583789803303])\n",
      "time= 0.017458541013184004\n",
      "8\n",
      "PSQE, Lipschitz interval: TestResult(nsteps=9, first_crossing_zero_point=[0.6391981064536456])\n",
      "time= 0.01125445899378974\n",
      "9\n",
      "PSQE, Lipschitz interval: TestResult(nsteps=198, first_crossing_zero_point=[0.19904835662325915])\n",
      "time= 0.20137541698932182\n",
      "11\n",
      "PSQE, Lipschitz interval: TestResult(nsteps=16, first_crossing_zero_point=[])\n",
      "time= 0.02776495899888687\n",
      "12\n",
      "PSQE, Lipschitz interval: TestResult(nsteps=8, first_crossing_zero_point=[1.3273827924424428])\n",
      "time= 0.1022345410019625\n",
      "13\n",
      "PSQE, Lipschitz interval: TestResult(nsteps=11, first_crossing_zero_point=[-0.4928107871180947])\n",
      "time= 0.025090874987654388\n",
      "10\n",
      "PSQE, Lipschitz interval: TestResult(nsteps=163, first_crossing_zero_point=[0.12872327924251922])\n",
      "time= 0.10990066599333659\n"
     ]
    }
   ],
   "source": [
    "for test in df.itertuples():\n",
    "    print(test.Index)\n",
    "    points_db[test.Index] = {'psl_lipint_points_list': [], 'psl_lip_points_list': [], 'psqe_lipint_points_list': [],\n",
    "                             'psqe_lip_points_list': [], 'bnb2_pslint_points_list': [],'bnb2_psl_points_list':[],'bnb2_lipint_points_list': [],\n",
    "                             'bnb2_lip_points_list': []}\n",
    "\n",
    "    #\n",
    "    # T1 = time.perf_counter()\n",
    "    # prob = uvpr.UniVarProblem(test.Index, test.objective, test.a, test.b, test.min_f, test.min_x,\n",
    "    #                           lambda x: log_point(x, points_db[test.Index]['bnb2_psl_points_list']))\n",
    "    # print('Piyavskii, Lipschitz constant:',sfzcp.new_method(prob, symm=True, epsilon=1e-9,global_lipschitz_interval=False, estimator=1))\n",
    "    # T2 = time.perf_counter()\n",
    "    # print('time=',T2-T1)\n",
    "    #\n",
    "    # T1 = time.perf_counter()\n",
    "    # prob = uvpr.UniVarProblem(test.Index, test.objective, test.a, test.b, test.min_f, test.min_x,\n",
    "    #                           lambda x: log_point(x, points_db[test.Index]['bnb2_pslint_points_list']))\n",
    "    # print('Piyavskii, Lipschitz interval:',sfzcp.new_method(prob, symm=False, epsilon=1e-9,global_lipschitz_interval=False, estimator=1))\n",
    "    # T2 = time.perf_counter()\n",
    "    # print('time=',T2-T1)\n",
    "    #\n",
    "    # T1 = time.perf_counter()\n",
    "    # prob = uvpr.UniVarProblem(test.Index, test.objective, test.a, test.b, test.min_f, test.min_x,\n",
    "    #                           lambda x: log_point(x, points_db[test.Index]['bnb2_lip_points_list']))\n",
    "    # print('PSQE, Lipschitz constant:',sfzcp.new_method(prob, symm=True, epsilon=1e-9,global_lipschitz_interval=False, estimator=2))\n",
    "    # T2 = time.perf_counter()\n",
    "    # print('time=',T2-T1)\n",
    "\n",
    "    T1 = time.perf_counter()\n",
    "    prob = uvpr.UniVarProblem(test.Index, test.objective, test.a, test.b, test.min_f, test.min_x,\n",
    "                              lambda x: log_point(x, points_db[test.Index]['bnb2_lipint_points_list']))\n",
    "    print('PSQE, Lipschitz interval:',sfzcp.new_method(prob, symm=False, epsilon=1e-5,global_lipschitz_interval=True, estimator=2))\n",
    "    T2 = time.perf_counter()\n",
    "    print('time=',T2-T1)\n"
   ]
  },
  {
   "cell_type": "code",
   "execution_count": 9,
   "outputs": [
    {
     "name": "stdout",
     "output_type": "stream",
     "text": [
      "test.Index,PC_N,PI_N,QC_N,QI_N,PC_R,PI_R,QC_R,QI_R\n",
      "1 & 105 & 51 & 33 & 33 & 53 & 37 & 7 & 7 \\\\\n",
      "1 & 0.026 & 0.004 & 0.013 & 0.005 & 0.018 & 0.002 & 0.007 & 0.001 \\\\\n",
      "2 & 406 & 406 & 34 & 34 & 242 & 242 & 9 & 9 \\\\\n",
      "2 & 0.071 & 0.026 & 0.012 & 0.005 & 0.067 & 0.016 & 0.010 & 0.001 \\\\\n",
      "3 & 647 & 647 & 83 & 83 & 366 & 366 & 49 & 49 \\\\\n",
      "3 & 0.113 & 0.043 & 0.026 & 0.012 & 0.102 & 0.025 & 0.036 & 0.007 \\\\\n",
      "4 & 300595 & 82497 & 5433 & 1209 & 258437 & 81611 & 3729 & 705 \\\\\n",
      "4 & 0.923 & 0.223 & 0.032 & 0.006 & 0.740 & 0.226 & 0.022 & 0.004 \\\\\n",
      "5 & 1113 & 1113 & 103 & 103 & 689 & 689 & 55 & 55 \\\\\n",
      "5 & 0.187 & 0.176 & 0.020 & 0.016 & 0.173 & 0.172 & 0.022 & 0.009 \\\\\n",
      "6 & 640 & 420 & 30 & 30 & 422 & 349 & 10 & 10 \\\\\n",
      "6 & 0.140 & 0.032 & 0.011 & 0.005 & 0.150 & 0.028 & 0.014 & 0.012 \\\\\n",
      "7 & 991 & 963 & 35 & 33 & 630 & 601 & 11 & 11 \\\\\n",
      "7 & 0.005 & 0.004 & 0.000 & 0.000 & 0.003 & 0.002 & 0.000 & 0.000 \\\\\n",
      "8 & 2511 & 73 & 93 & 31 & 1617 & 77 & 57 & 9 \\\\\n",
      "8 & 0.435 & 0.006 & 0.010 & 0.002 & 0.430 & 0.011 & 0.020 & 0.005 \\\\\n",
      "9 & 83551 & 49359 & 301 & 295 & 66777 & 47455 & 204 & 198 \\\\\n",
      "9 & 17.129 & 9.566 & 0.128 & 0.054 & 19.355 & 13.939 & 0.185 & 0.178 \\\\\n",
      "11 & 139 & 139 & 25 & 25 & 85 & 85 & 16 & 16 \\\\\n",
      "11 & 0.042 & 0.012 & 0.009 & 0.005 & 0.039 & 0.007 & 0.014 & 0.003 \\\\\n",
      "12 & 1026 & 136 & 34 & 34 & 609 & 130 & 8 & 8 \\\\\n",
      "12 & 1.208 & 0.138 & 0.059 & 0.022 & 1.203 & 0.296 & 0.063 & 0.036 \\\\\n",
      "13 & 195 & 147 & 35 & 35 & 108 & 93 & 11 & 11 \\\\\n",
      "13 & 0.035 & 0.011 & 0.012 & 0.006 & 0.031 & 0.007 & 0.010 & 0.008 \\\\\n",
      "10 & 132296 & 127150 & 520 & 274 & 113465 & 110938 & 351 & 163 \\\\\n",
      "10 & 15.079 & 14.310 & 0.171 & 0.049 & 16.983 & 16.567 & 0.280 & 0.088 \\\\\n"
     ]
    }
   ],
   "source": [
    "print('test.Index,PC_N,PI_N,QC_N,QI_N,PC_R,PI_R,QC_R,QI_R')\n",
    "eps=1e-5\n",
    "for test in df.itertuples():\n",
    "\n",
    "    points_db[test.Index] = {'bnb2_pslint_points_list': []}\n",
    "    prob = uvpr.UniVarProblem(test.Index, test.objective, test.a, test.b, test.min_f, test.min_x,\n",
    "                              lambda x: log_point(x, points_db[test.Index]['bnb2_pslint_points_list']))\n",
    "    T1 = time.perf_counter()\n",
    "    PC_N=sfzcp.new_method(prob, symm=True, epsilon=eps,global_lipschitz_interval=True, estimator=1,reduction=False).nsteps\n",
    "    T2 = time.perf_counter()\n",
    "    time_PC_N=T2-T1\n",
    "    T1 = time.perf_counter()\n",
    "    PI_N=sfzcp.new_method(prob, symm=False, epsilon=eps,global_lipschitz_interval=True, estimator=1,reduction=False).nsteps\n",
    "    T2 = time.perf_counter()\n",
    "    time_PI_N=T2-T1\n",
    "    T1 = time.perf_counter()\n",
    "    QC_N=sfzcp.new_method(prob, symm=True, epsilon=eps,global_lipschitz_interval=True, estimator=2,reduction=False).nsteps\n",
    "    T2 = time.perf_counter()\n",
    "    time_QC_N=T2-T1\n",
    "    T1 = time.perf_counter()\n",
    "    QI_N=sfzcp.new_method(prob, symm=False, epsilon=eps,global_lipschitz_interval=True, estimator=2,reduction=False).nsteps\n",
    "    T2 = time.perf_counter()\n",
    "    time_QI_N=T2-T1\n",
    "\n",
    "    T1 = time.perf_counter()\n",
    "    PC_R=sfzcp.new_method(prob, symm=True, epsilon=eps,global_lipschitz_interval=True, estimator=1,reduction=True).nsteps\n",
    "    T2 = time.perf_counter()\n",
    "    time_PC_R=T2-T1\n",
    "    T1 = time.perf_counter()\n",
    "    PI_R=sfzcp.new_method(prob, symm=False, epsilon=eps,global_lipschitz_interval=True, estimator=1,reduction=True).nsteps\n",
    "    T2 = time.perf_counter()\n",
    "    time_PI_R=T2-T1\n",
    "    T1 = time.perf_counter()\n",
    "    QC_R=sfzcp.new_method(prob, symm=True, epsilon=eps,global_lipschitz_interval=True, estimator=2,reduction=True).nsteps\n",
    "    T2 = time.perf_counter()\n",
    "    time_QC_R=T2-T1\n",
    "    T1 = time.perf_counter()\n",
    "    QI_R=sfzcp.new_method(prob, symm=False, epsilon=eps,global_lipschitz_interval=True, estimator=2,reduction=True).nsteps\n",
    "    T2 = time.perf_counter()\n",
    "    time_QI_R=T2-T1\n",
    "\n",
    "    print('%s & %d & %d & %d & %d & %d & %d & %d & %d \\\\\\\\' %(test.Index,PC_N,PI_N,QC_N,QI_N,PC_R,PI_R,QC_R,QI_R))\n",
    "    print('%s & %.3f & %.3f & %.3f & %.3f & %.3f & %.3f & %.3f & %.3f \\\\\\\\' %(test.Index,time_PC_N,time_PI_N,time_QC_N,time_QI_N,time_PC_R,time_PI_R,time_QC_R,time_QI_R))"
   ],
   "metadata": {
    "collapsed": false
   }
  },
  {
   "cell_type": "code",
   "execution_count": 22,
   "outputs": [
    {
     "name": "stdout",
     "output_type": "stream",
     "text": [
      "test.Index,PC_N,PI_N,QC_N,QI_N,PC_R,PI_R,QC_R,QI_R\n",
      "10 & 82 & 58 & 72 & 226 & 18 & 13 & 15 & 10 \\\\\n",
      "1 & 69 & 65 & 61 & 179 & 11 & 10 & 7 & 7 \\\\\n",
      "2 & 59 & 53 & 293 & 291 & 11 & 9 & 7 & 7 \\\\\n",
      "3 & 76 & 76 & 78 & 220 & 27 & 25 & 19 & 19 \\\\\n",
      "4 & 84 & 110 & 158 & 578 & 31 & 26 & 16 & 14 \\\\\n",
      "5 & 70 & 76 & 84 & 148 & 12 & 11 & 7 & 7 \\\\\n",
      "6 & 67 & 67 & 69 & 113 & 14 & 12 & 8 & 8 \\\\\n",
      "7 & 65 & 83 & 81 & 339 & 14 & 11 & 6 & 6 \\\\\n",
      "8 & 62 & 84 & 66 & 166 & 11 & 10 & 8 & 8 \\\\\n",
      "9 & 88 & 72 & 74 & 430 & 23 & 19 & 16 & 15 \\\\\n",
      "11 & 21 & 15 & 9 & 9 & 12 & 11 & 7 & 5 \\\\\n",
      "12 & 71 & 83 & 83 & 103 & 18 & 18 & 9 & 8 \\\\\n",
      "13 & 76 & 66 & 64 & 248 & 18 & 14 & 11 & 9 \\\\\n"
     ]
    }
   ],
   "source": [
    "print('test.Index,PC_N,PI_N,QC_N,QI_N,PC_R,PI_R,QC_R,QI_R')\n",
    "for test in df.itertuples():\n",
    "\n",
    "    points_db[test.Index] = {'bnb2_pslint_points_list': []}\n",
    "    prob = uvpr.UniVarProblem(test.Index, test.objective, test.a, test.b, test.min_f, test.min_x,\n",
    "                              lambda x: log_point(x, points_db[test.Index]['bnb2_pslint_points_list']))\n",
    "    PC_N=sfzcp.new_method(prob, symm=True, epsilon=1e-10,global_lipschitz_interval=False, estimator=1,reduction=False).nsteps\n",
    "\n",
    "    PI_N=sfzcp.new_method(prob, symm=False, epsilon=1e-10,global_lipschitz_interval=False, estimator=1,reduction=False).nsteps\n",
    "    QC_N=sfzcp.new_method(prob, symm=True, epsilon=1e-10,global_lipschitz_interval=False, estimator=2,reduction=False).nsteps\n",
    "    QI_N=sfzcp.new_method(prob, symm=False, epsilon=1e-10,global_lipschitz_interval=False, estimator=2,reduction=False).nsteps\n",
    "\n",
    "    PC_R=sfzcp.new_method(prob, symm=True, epsilon=1e-10,global_lipschitz_interval=False, estimator=1,reduction=True).nsteps\n",
    "    PI_R=sfzcp.new_method(prob, symm=False, epsilon=1e-10,global_lipschitz_interval=False, estimator=1,reduction=True).nsteps\n",
    "    QC_R=sfzcp.new_method(prob, symm=True, epsilon=1e-10,global_lipschitz_interval=False, estimator=2,reduction=True).nsteps\n",
    "    QI_R=sfzcp.new_method(prob, symm=False, epsilon=1e-10,global_lipschitz_interval=False, estimator=2,reduction=True).nsteps\n",
    "\n",
    "    print('%s & %d & %d & %d & %d & %d & %d & %d & %d \\\\\\\\' %(test.Index,PC_N,PI_N,QC_N,QI_N,PC_R,PI_R,QC_R,QI_R))\n",
    "    # P: Piyavskii estimator\n",
    "    # Q: Piecewise smooth quadratic estimator\n",
    "    # C: Lipschitz constant\n",
    "    # I: Lipschitz interval\n",
    "    # N: without reduction\n",
    "    # R: with reduction"
   ],
   "metadata": {
    "collapsed": false
   }
  },
  {
   "cell_type": "code",
   "execution_count": 11,
   "id": "30ffa037",
   "metadata": {},
   "outputs": [],
   "source": [
    "def vis_trials(points_list, num_series, base_level):\n",
    "    poix = np.array(list(set(points_list[::skip])))\n",
    "    poiy = np.full(len(poix), base_level + num_series * -0.5)\n",
    "    up.plot_points(poix, poiy, num_series)"
   ]
  },
  {
   "cell_type": "code",
   "execution_count": 12,
   "id": "3bb0b182",
   "metadata": {},
   "outputs": [
    {
     "name": "stdout",
     "output_type": "stream",
     "text": [
      "Pandas(Index=1, objective='x^3+2.*x+cos(10.*x)', a=-3.0, b=3.0, min_f=0, min_x=0)\n"
     ]
    },
    {
     "ename": "KeyError",
     "evalue": "'bnb2_psl_points_list'",
     "output_type": "error",
     "traceback": [
      "\u001B[0;31m---------------------------------------------------------------------------\u001B[0m",
      "\u001B[0;31mKeyError\u001B[0m                                  Traceback (most recent call last)",
      "Cell \u001B[0;32mIn[12], line 5\u001B[0m\n\u001B[1;32m      3\u001B[0m prob \u001B[38;5;241m=\u001B[39m uvpr\u001B[38;5;241m.\u001B[39mUniVarProblem(test\u001B[38;5;241m.\u001B[39mIndex, test\u001B[38;5;241m.\u001B[39mobjective, test\u001B[38;5;241m.\u001B[39ma, test\u001B[38;5;241m.\u001B[39mb, test\u001B[38;5;241m.\u001B[39mmin_f, test\u001B[38;5;241m.\u001B[39mmin_x)\n\u001B[1;32m      4\u001B[0m up\u001B[38;5;241m.\u001B[39mplot_problem(prob, {\u001B[38;5;124m'\u001B[39m\u001B[38;5;124mfunction\u001B[39m\u001B[38;5;124m'\u001B[39m: \u001B[38;5;124m'\u001B[39m\u001B[38;5;124mb-\u001B[39m\u001B[38;5;124m'\u001B[39m}, legend\u001B[38;5;241m=\u001B[39mlegend_size)\n\u001B[0;32m----> 5\u001B[0m vis_trials(\u001B[43mpoints_db\u001B[49m\u001B[43m[\u001B[49m\u001B[43mtest\u001B[49m\u001B[38;5;241;43m.\u001B[39;49m\u001B[43mIndex\u001B[49m\u001B[43m]\u001B[49m\u001B[43m[\u001B[49m\u001B[38;5;124;43m'\u001B[39;49m\u001B[38;5;124;43mbnb2_psl_points_list\u001B[39;49m\u001B[38;5;124;43m'\u001B[39;49m\u001B[43m]\u001B[49m, \u001B[38;5;241m0\u001B[39m, plt\u001B[38;5;241m.\u001B[39mylim()[\u001B[38;5;241m0\u001B[39m] \u001B[38;5;241m+\u001B[39m legend_size)\n\u001B[1;32m      6\u001B[0m vis_trials(points_db[test\u001B[38;5;241m.\u001B[39mIndex][\u001B[38;5;124m'\u001B[39m\u001B[38;5;124mbnb2_pslint_points_list\u001B[39m\u001B[38;5;124m'\u001B[39m], \u001B[38;5;241m1\u001B[39m, plt\u001B[38;5;241m.\u001B[39mylim()[\u001B[38;5;241m0\u001B[39m] \u001B[38;5;241m+\u001B[39m legend_size)\n\u001B[1;32m      7\u001B[0m vis_trials(points_db[test\u001B[38;5;241m.\u001B[39mIndex][\u001B[38;5;124m'\u001B[39m\u001B[38;5;124mbnb2_lip_points_list\u001B[39m\u001B[38;5;124m'\u001B[39m], \u001B[38;5;241m2\u001B[39m, plt\u001B[38;5;241m.\u001B[39mylim()[\u001B[38;5;241m0\u001B[39m] \u001B[38;5;241m+\u001B[39m legend_size)\n",
      "\u001B[0;31mKeyError\u001B[0m: 'bnb2_psl_points_list'"
     ]
    },
    {
     "data": {
      "text/plain": "<Figure size 640x480 with 1 Axes>",
      "image/png": "[encoded data removed]"
     },
     "metadata": {},
     "output_type": "display_data"
    }
   ],
   "source": [
    "for test in df.itertuples():\n",
    "    print(test)\n",
    "    prob = uvpr.UniVarProblem(test.Index, test.objective, test.a, test.b, test.min_f, test.min_x)\n",
    "    up.plot_problem(prob, {'function': 'b-'}, legend=legend_size)\n",
    "    vis_trials(points_db[test.Index]['bnb2_psl_points_list'], 0, plt.ylim()[0] + legend_size)\n",
    "    vis_trials(points_db[test.Index]['bnb2_pslint_points_list'], 1, plt.ylim()[0] + legend_size)\n",
    "    vis_trials(points_db[test.Index]['bnb2_lip_points_list'], 2, plt.ylim()[0] + legend_size)\n",
    "    vis_trials(points_db[test.Index]['bnb2_lipint_points_list'], 3, plt.ylim()[0] + legend_size)\n",
    "    # vis_trials(points_db[test.Index]['psl_lipint_points_list'], 4, plt.ylim()[0] + legend_size)\n",
    "    # vis_trials(points_db[test.Index]['psl_lip_points_list'], 5, plt.ylim()[0] + legend_size)\n",
    "    #     print(\"ylim = \", plt.ylim()[0])\n",
    "    file_name=test.Index+'.png'\n",
    "    plt.savefig(file_name, dpi=500)\n",
    "    plt.show()"
   ]
  },
  {
   "cell_type": "code",
   "execution_count": null,
   "id": "8aec4782",
   "metadata": {},
   "outputs": [],
   "source": []
  },
  {
   "cell_type": "code",
   "execution_count": null,
   "id": "7f859061",
   "metadata": {},
   "outputs": [],
   "source": []
  }
 ],
 "metadata": {
  "kernelspec": {
   "display_name": "Python 3 (ipykernel)",
   "language": "python",
   "name": "python3"
  },
  "language_info": {
   "codemirror_mode": {
    "name": "ipython",
    "version": 3
   },
   "file_extension": ".py",
   "mimetype": "text/x-python",
   "name": "python",
   "nbconvert_exporter": "python",
   "pygments_lexer": "ipython3",
   "version": "3.10.4"
  }
 },
 "nbformat": 4,
 "nbformat_minor": 5
}
