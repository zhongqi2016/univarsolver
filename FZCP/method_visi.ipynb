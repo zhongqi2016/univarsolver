{
 "cells": [
  {
   "cell_type": "code",
   "execution_count": 1,
   "id": "7c5d7d43",
   "metadata": {},
   "outputs": [],
   "source": [
    "import sys\n",
    "import time\n",
    "\n",
    "sys.path.append(\"..\")\n",
    "import uniplot as up\n",
    "import pandas as pd\n",
    "import numpy as np\n",
    "import matplotlib.pyplot as plt\n",
    "import solv_fzcp as sfzcp\n",
    "import uvarprob as uvpr"
   ]
  },
  {
   "cell_type": "code",
   "execution_count": 2,
   "id": "da4a032c",
   "metadata": {},
   "outputs": [],
   "source": [
    "test_file = \"../tst2.csv\""
   ]
  },
  {
   "cell_type": "code",
   "execution_count": 3,
   "id": "57431414",
   "metadata": {},
   "outputs": [],
   "source": [
    "# Maximal number of steps\n",
    "max_steps = 1e6\n",
    "# Tolerance\n",
    "epsilon = 1e-2\n",
    "# If True - global Lipschitz constant is used\n",
    "global_lipschitz_interval = True\n",
    "# If True - the record value is taken from the test database\n",
    "known_record = False\n",
    "# How many points to skip in vizualization - regular step\n",
    "skip = 1000\n",
    "# The size of the legend in plots\n",
    "legend_size = 2"
   ]
  },
  {
   "cell_type": "code",
   "execution_count": 4,
   "id": "0a503d18",
   "metadata": {},
   "outputs": [],
   "source": [
    "def read_problems(fname):\n",
    "    data = pd.read_csv(fname, index_col='name', comment='#')\n",
    "    return data"
   ]
  },
  {
   "cell_type": "code",
   "execution_count": 5,
   "id": "ea8c08bf",
   "metadata": {},
   "outputs": [
    {
     "data": {
      "text/plain": "                                              objective    a      b  min_f  \\\nname                                                                         \n1                                   x^3+2.*x+cos(10.*x) -3.0    3.0      0   \n2                                 -(x^2.)*sin(1.*x)+1.0  0.2    7.0      0   \n3                             (3.*x-1.4)*sin(18.*x)+1.7  0.0    7.0      0   \n4                                     (x+ 1.)^3/x^2-7.1  0.1    7.0      0   \n5                                       sin(x)/x+cos(x)  0.1   10.0      0   \n6                      x^3-3.0*x^2+2.0*x+5.0*sin(5.0*x) -5.0    5.0      0   \n7      1/16.0*x^6 - 3/5.0*x^5 - 13/2.0 * x^4 + 211/1... -5.0    5.0      0   \n8                                      log(x)+1.0/x^2-2  0.1   10.0      0   \n9      x^7 + x^6 - 3.0*x^5 - 10.0*x^4 + 14.0*x^3 - 1... -5.0    5.0      0   \n11                    cos(x)+2.0*cos(2.0*x)*exp(-x)+1.0  0.2    7.0      0   \n12     sin(x) + 0.5*sin(2.0*x) + 0.33*sin(3.0*x) + 0...  0.1  100.0      0   \n13                          x^3.0+x^2.0+sin(10.0*x)-1.1 -2.0    2.0      0   \n10     x^8 - x^7 + 2.0*x^6 - 11.0*x^5 + 21.0*x^4 - 3... -5.0    5.0      0   \n\n      min_x  \nname         \n1         0  \n2         0  \n3         0  \n4         0  \n5         0  \n6         0  \n7         0  \n8         0  \n9         0  \n11        0  \n12        0  \n13        0  \n10        0  ",
      "text/html": "<div>\n<style scoped>\n    .dataframe tbody tr th:only-of-type {\n        vertical-align: middle;\n    }\n\n    .dataframe tbody tr th {\n        vertical-align: top;\n    }\n\n    .dataframe thead th {\n        text-align: right;\n    }\n</style>\n<table border=\"1\" class=\"dataframe\">\n  <thead>\n    <tr style=\"text-align: right;\">\n      <th></th>\n      <th>objective</th>\n      <th>a</th>\n      <th>b</th>\n      <th>min_f</th>\n      <th>min_x</th>\n    </tr>\n    <tr>\n      <th>name</th>\n      <th></th>\n      <th></th>\n      <th></th>\n      <th></th>\n      <th></th>\n    </tr>\n  </thead>\n  <tbody>\n    <tr>\n      <th>1</th>\n      <td>x^3+2.*x+cos(10.*x)</td>\n      <td>-3.0</td>\n      <td>3.0</td>\n      <td>0</td>\n      <td>0</td>\n    </tr>\n    <tr>\n      <th>2</th>\n      <td>-(x^2.)*sin(1.*x)+1.0</td>\n      <td>0.2</td>\n      <td>7.0</td>\n      <td>0</td>\n      <td>0</td>\n    </tr>\n    <tr>\n      <th>3</th>\n      <td>(3.*x-1.4)*sin(18.*x)+1.7</td>\n      <td>0.0</td>\n      <td>7.0</td>\n      <td>0</td>\n      <td>0</td>\n    </tr>\n    <tr>\n      <th>4</th>\n      <td>(x+ 1.)^3/x^2-7.1</td>\n      <td>0.1</td>\n      <td>7.0</td>\n      <td>0</td>\n      <td>0</td>\n    </tr>\n    <tr>\n      <th>5</th>\n      <td>sin(x)/x+cos(x)</td>\n      <td>0.1</td>\n      <td>10.0</td>\n      <td>0</td>\n      <td>0</td>\n    </tr>\n    <tr>\n      <th>6</th>\n      <td>x^3-3.0*x^2+2.0*x+5.0*sin(5.0*x)</td>\n      <td>-5.0</td>\n      <td>5.0</td>\n      <td>0</td>\n      <td>0</td>\n    </tr>\n    <tr>\n      <th>7</th>\n      <td>1/16.0*x^6 - 3/5.0*x^5 - 13/2.0 * x^4 + 211/1...</td>\n      <td>-5.0</td>\n      <td>5.0</td>\n      <td>0</td>\n      <td>0</td>\n    </tr>\n    <tr>\n      <th>8</th>\n      <td>log(x)+1.0/x^2-2</td>\n      <td>0.1</td>\n      <td>10.0</td>\n      <td>0</td>\n      <td>0</td>\n    </tr>\n    <tr>\n      <th>9</th>\n      <td>x^7 + x^6 - 3.0*x^5 - 10.0*x^4 + 14.0*x^3 - 1...</td>\n      <td>-5.0</td>\n      <td>5.0</td>\n      <td>0</td>\n      <td>0</td>\n    </tr>\n    <tr>\n      <th>11</th>\n      <td>cos(x)+2.0*cos(2.0*x)*exp(-x)+1.0</td>\n      <td>0.2</td>\n      <td>7.0</td>\n      <td>0</td>\n      <td>0</td>\n    </tr>\n    <tr>\n      <th>12</th>\n      <td>sin(x) + 0.5*sin(2.0*x) + 0.33*sin(3.0*x) + 0...</td>\n      <td>0.1</td>\n      <td>100.0</td>\n      <td>0</td>\n      <td>0</td>\n    </tr>\n    <tr>\n      <th>13</th>\n      <td>x^3.0+x^2.0+sin(10.0*x)-1.1</td>\n      <td>-2.0</td>\n      <td>2.0</td>\n      <td>0</td>\n      <td>0</td>\n    </tr>\n    <tr>\n      <th>10</th>\n      <td>x^8 - x^7 + 2.0*x^6 - 11.0*x^5 + 21.0*x^4 - 3...</td>\n      <td>-5.0</td>\n      <td>5.0</td>\n      <td>0</td>\n      <td>0</td>\n    </tr>\n  </tbody>\n</table>\n</div>"
     },
     "execution_count": 5,
     "metadata": {},
     "output_type": "execute_result"
    }
   ],
   "source": [
    "df = read_problems(test_file)\n",
    "df"
   ]
  },
  {
   "cell_type": "code",
   "execution_count": 6,
   "id": "8d88eefa",
   "metadata": {},
   "outputs": [],
   "source": [
    "points_db = {}\n",
    "psl_lipint_points_list = []\n",
    "psl_lip_points_list = []\n",
    "psqe_lipint_points_list = []\n",
    "psqe_lip_points_list = []\n",
    "bnb2_lipint_points_list = []\n",
    "bnb2_lip_points_list = []"
   ]
  },
  {
   "cell_type": "code",
   "execution_count": 7,
   "id": "67100fbe",
   "metadata": {},
   "outputs": [],
   "source": [
    "def log_point(x, points_list):\n",
    "    points_list.append(x)"
   ]
  },
  {
   "cell_type": "code",
   "execution_count": 8,
   "id": "718a3988",
   "metadata": {},
   "outputs": [
    {
     "name": "stdout",
     "output_type": "stream",
     "text": [
      "1\n",
      "PSQE, Lipschitz interval: TestResult(nsteps=7, first_crossing_zero_point=[-0.130453438877509])\n",
      "time= 0.08536162500968203\n",
      "2\n",
      "PSQE, Lipschitz interval: TestResult(nsteps=9, first_crossing_zero_point=[1.06822354234863])\n",
      "time= 0.048510583001188934\n",
      "3\n",
      "PSQE, Lipschitz interval: TestResult(nsteps=49, first_crossing_zero_point=[1.26553891382463])\n",
      "time= 0.17118216599919833\n",
      "4\n",
      "PSQE, Lipschitz interval: TestResult(nsteps=705, first_crossing_zero_point=[1.3646408837297082])\n",
      "time= 0.022731333010597154\n",
      "5\n",
      "PSQE, Lipschitz interval: TestResult(nsteps=55, first_crossing_zero_point=[2.02875783811043])\n",
      "time= 0.14673495799070224\n",
      "6\n",
      "PSQE, Lipschitz interval: TestResult(nsteps=10, first_crossing_zero_point=[-0.875986388803195])\n",
      "time= 0.05871320799633395\n",
      "7\n",
      "PSQE, Lipschitz interval: TestResult(nsteps=11, first_crossing_zero_point=[-1.1593583789803303])\n",
      "time= 0.018491916998755187\n",
      "8\n",
      "PSQE, Lipschitz interval: TestResult(nsteps=9, first_crossing_zero_point=[0.639198106453646])\n",
      "time= 0.039480292005464435\n",
      "9\n",
      "PSQE, Lipschitz interval: TestResult(nsteps=198, first_crossing_zero_point=[0.199048356623259])\n",
      "time= 0.980751291004708\n",
      "11\n",
      "PSQE, Lipschitz interval: TestResult(nsteps=16, first_crossing_zero_point=[])\n",
      "time= 0.06957525000325404\n",
      "12\n",
      "PSQE, Lipschitz interval: TestResult(nsteps=8, first_crossing_zero_point=[1.32738279244244])\n",
      "time= 0.11886349999986123\n",
      "13\n",
      "PSQE, Lipschitz interval: TestResult(nsteps=11, first_crossing_zero_point=[-0.492810787118095])\n",
      "time= 0.059342417007428594\n",
      "10\n",
      "PSQE, Lipschitz interval: TestResult(nsteps=163, first_crossing_zero_point=[0.128723279242519])\n",
      "time= 0.7489006249961676\n"
     ]
    }
   ],
   "source": [
    "for test in df.itertuples():\n",
    "    print(test.Index)\n",
    "    points_db[test.Index] = {'psl_lipint_points_list': [], 'psl_lip_points_list': [], 'psqe_lipint_points_list': [],\n",
    "                             'psqe_lip_points_list': [], 'bnb2_pslint_points_list': [],'bnb2_psl_points_list':[],'bnb2_lipint_points_list': [],\n",
    "                             'bnb2_lip_points_list': []}\n",
    "\n",
    "    #\n",
    "    # T1 = time.perf_counter()\n",
    "    # prob = uvpr.UniVarProblem(test.Index, test.objective, test.a, test.b, test.min_f, test.min_x,\n",
    "    #                           lambda x: log_point(x, points_db[test.Index]['bnb2_psl_points_list']))\n",
    "    # print('Piyavskii, Lipschitz constant:',sfzcp.new_method(prob, symm=True, epsilon=1e-9,global_lipschitz_interval=False, estimator=1))\n",
    "    # T2 = time.perf_counter()\n",
    "    # print('time=',T2-T1)\n",
    "    #\n",
    "    # T1 = time.perf_counter()\n",
    "    # prob = uvpr.UniVarProblem(test.Index, test.objective, test.a, test.b, test.min_f, test.min_x,\n",
    "    #                           lambda x: log_point(x, points_db[test.Index]['bnb2_pslint_points_list']))\n",
    "    # print('Piyavskii, Lipschitz interval:',sfzcp.new_method(prob, symm=False, epsilon=1e-9,global_lipschitz_interval=False, estimator=1))\n",
    "    # T2 = time.perf_counter()\n",
    "    # print('time=',T2-T1)\n",
    "    #\n",
    "    # T1 = time.perf_counter()\n",
    "    # prob = uvpr.UniVarProblem(test.Index, test.objective, test.a, test.b, test.min_f, test.min_x,\n",
    "    #                           lambda x: log_point(x, points_db[test.Index]['bnb2_lip_points_list']))\n",
    "    # print('PSQE, Lipschitz constant:',sfzcp.new_method(prob, symm=True, epsilon=1e-9,global_lipschitz_interval=False, estimator=2))\n",
    "    # T2 = time.perf_counter()\n",
    "    # print('time=',T2-T1)\n",
    "\n",
    "    T1 = time.perf_counter()\n",
    "    prob = uvpr.UniVarProblem(test.Index, test.objective, test.a, test.b, test.min_f, test.min_x,\n",
    "                              lambda x: log_point(x, points_db[test.Index]['bnb2_lipint_points_list']))\n",
    "    print('PSQE, Lipschitz interval:',sfzcp.new_method(prob, symm=False, epsilon=1e-5,global_lipschitz_interval=True, estimator=2))\n",
    "    T2 = time.perf_counter()\n",
    "    print('time=',T2-T1)\n"
   ]
  },
  {
   "cell_type": "code",
   "execution_count": 10,
   "outputs": [
    {
     "name": "stdout",
     "output_type": "stream",
     "text": [
      "test.Index,PC_N,PI_N,QC_N,QI_N,PC_R,PI_R,QC_R,QI_R\n",
      "1 & 78 & 36 & 22 & 22 & 41 & 27 & 17 & 17 \\\\\n",
      "1 & 0.034 & 0.006 & 0.052 & 0.018 & 0.034 & 0.011 & 0.049 & 0.013 \\\\\n",
      "2 & 222 & 222 & 22 & 22 & 138 & 138 & 8 & 8 \\\\\n",
      "2 & 0.058 & 0.031 & 0.048 & 0.017 & 0.067 & 0.029 & 0.022 & 0.007 \\\\\n",
      "3 & 568 & 568 & 74 & 74 & 326 & 326 & 53 & 53 \\\\\n",
      "3 & 0.146 & 0.080 & 0.181 & 0.132 & 0.194 & 0.173 & 0.403 & 0.051 \\\\\n",
      "4 & 3008 & 2846 & 2382 & 994 & 3008 & 2844 & 2054 & 630 \\\\\n",
      "4 & 0.012 & 0.010 & 0.019 & 0.010 & 0.012 & 0.011 & 0.017 & 0.006 \\\\\n",
      "5 & 611 & 611 & 91 & 91 & 366 & 366 & 61 & 61 \\\\\n",
      "5 & 0.147 & 0.080 & 0.197 & 0.168 & 0.139 & 0.055 & 0.144 & 0.048 \\\\\n",
      "6 & 183 & 137 & 21 & 21 & 117 & 104 & 14 & 14 \\\\\n",
      "6 & 0.054 & 0.019 & 0.049 & 0.040 & 0.101 & 0.039 & 0.050 & 0.054 \\\\\n",
      "7 & 462 & 452 & 28 & 26 & 269 & 259 & 15 & 16 \\\\\n",
      "7 & 0.003 & 0.003 & 0.000 & 0.000 & 0.002 & 0.001 & 0.000 & 0.000 \\\\\n",
      "8 & 684 & 44 & 84 & 22 & 443 & 47 & 54 & 14 \\\\\n",
      "8 & 0.154 & 0.006 & 0.185 & 0.044 & 0.243 & 0.017 & 0.155 & 0.042 \\\\\n",
      "9 & 6192 & 4750 & 286 & 280 & 4904 & 4411 & 193 & 188 \\\\\n",
      "9 & 1.692 & 1.276 & 0.670 & 0.616 & 5.607 & 5.391 & 0.824 & 0.871 \\\\\n",
      "11 & 139 & 139 & 25 & 25 & 85 & 85 & 16 & 16 \\\\\n",
      "11 & 0.054 & 0.025 & 0.066 & 0.024 & 0.070 & 0.022 & 0.050 & 0.017 \\\\\n",
      "12 & 555 & 87 & 23 & 23 & 343 & 78 & 18 & 18 \\\\\n",
      "12 & 0.703 & 0.075 & 0.082 & 0.050 & 0.817 & 0.200 & 0.124 & 0.040 \\\\\n",
      "13 & 98 & 78 & 24 & 24 & 58 & 50 & 17 & 16 \\\\\n",
      "13 & 0.026 & 0.012 & 0.053 & 0.042 & 0.037 & 0.020 & 0.054 & 0.044 \\\\\n"
     ]
    },
    {
     "ename": "KeyboardInterrupt",
     "evalue": "",
     "output_type": "error",
     "traceback": [
      "\u001B[0;31m---------------------------------------------------------------------------\u001B[0m",
      "\u001B[0;31mKeyboardInterrupt\u001B[0m                         Traceback (most recent call last)",
      "Cell \u001B[0;32mIn[10], line 30\u001B[0m\n\u001B[1;32m     28\u001B[0m time_PC_R\u001B[38;5;241m=\u001B[39mT2\u001B[38;5;241m-\u001B[39mT1\n\u001B[1;32m     29\u001B[0m T1 \u001B[38;5;241m=\u001B[39m time\u001B[38;5;241m.\u001B[39mperf_counter()\n\u001B[0;32m---> 30\u001B[0m PI_R\u001B[38;5;241m=\u001B[39m\u001B[43msfzcp\u001B[49m\u001B[38;5;241;43m.\u001B[39;49m\u001B[43mnew_method\u001B[49m\u001B[43m(\u001B[49m\u001B[43mprob\u001B[49m\u001B[43m,\u001B[49m\u001B[43m \u001B[49m\u001B[43msymm\u001B[49m\u001B[38;5;241;43m=\u001B[39;49m\u001B[38;5;28;43;01mFalse\u001B[39;49;00m\u001B[43m,\u001B[49m\u001B[43m \u001B[49m\u001B[43mepsilon\u001B[49m\u001B[38;5;241;43m=\u001B[39;49m\u001B[43meps\u001B[49m\u001B[43m,\u001B[49m\u001B[43mglobal_lipschitz_interval\u001B[49m\u001B[38;5;241;43m=\u001B[39;49m\u001B[38;5;28;43;01mTrue\u001B[39;49;00m\u001B[43m,\u001B[49m\u001B[43m \u001B[49m\u001B[43mestimator\u001B[49m\u001B[38;5;241;43m=\u001B[39;49m\u001B[38;5;241;43m1\u001B[39;49m\u001B[43m,\u001B[49m\u001B[43mreduction\u001B[49m\u001B[38;5;241;43m=\u001B[39;49m\u001B[38;5;28;43;01mTrue\u001B[39;49;00m\u001B[43m)\u001B[49m\u001B[38;5;241m.\u001B[39mnsteps\n\u001B[1;32m     31\u001B[0m T2 \u001B[38;5;241m=\u001B[39m time\u001B[38;5;241m.\u001B[39mperf_counter()\n\u001B[1;32m     32\u001B[0m time_PI_R\u001B[38;5;241m=\u001B[39mT2\u001B[38;5;241m-\u001B[39mT1\n",
      "File \u001B[0;32m~/PycharmProjects/univarsolver/FZCP/solv_fzcp.py:75\u001B[0m, in \u001B[0;36mnew_method\u001B[0;34m(prob, symm, max_steps, epsilon, global_lipschitz_interval, known_record, estimator, reduction)\u001B[0m\n\u001B[1;32m     73\u001B[0m sl\u001B[38;5;241m.\u001B[39mappend(subp)\n\u001B[1;32m     74\u001B[0m cnt \u001B[38;5;241m=\u001B[39m max_steps\n\u001B[0;32m---> 75\u001B[0m steps \u001B[38;5;241m=\u001B[39m \u001B[43mbnb\u001B[49m\u001B[38;5;241;43m.\u001B[39;49m\u001B[43mbnb_fzcp\u001B[49m\u001B[43m(\u001B[49m\u001B[43msl\u001B[49m\u001B[43m,\u001B[49m\u001B[43m \u001B[49m\u001B[43mcnt\u001B[49m\u001B[43m,\u001B[49m\u001B[43m \u001B[49m\u001B[43mpsp\u001B[49m\u001B[43m)\u001B[49m\n\u001B[1;32m     76\u001B[0m \u001B[38;5;28;01mreturn\u001B[39;00m TestResult(nsteps\u001B[38;5;241m=\u001B[39msteps, first_crossing_zero_point\u001B[38;5;241m=\u001B[39mpsp\u001B[38;5;241m.\u001B[39mres_list)\n",
      "File \u001B[0;32m~/PycharmProjects/univarsolver/bnb.py:37\u001B[0m, in \u001B[0;36mbnb_fzcp\u001B[0;34m(subs, max_steps, processor)\u001B[0m\n\u001B[1;32m     35\u001B[0m \u001B[38;5;28;01mwhile\u001B[39;00m \u001B[38;5;28mlen\u001B[39m(subs) \u001B[38;5;241m>\u001B[39m \u001B[38;5;241m0\u001B[39m \u001B[38;5;129;01mand\u001B[39;00m steps \u001B[38;5;241m<\u001B[39m\u001B[38;5;241m=\u001B[39m max_steps \u001B[38;5;129;01mand\u001B[39;00m processor\u001B[38;5;241m.\u001B[39mrunning:\n\u001B[1;32m     36\u001B[0m     s \u001B[38;5;241m=\u001B[39m subs\u001B[38;5;241m.\u001B[39mpop()\n\u001B[0;32m---> 37\u001B[0m     new_subs \u001B[38;5;241m=\u001B[39m \u001B[43mprocessor\u001B[49m\u001B[38;5;241;43m.\u001B[39;49m\u001B[43mfzcp_process\u001B[49m\u001B[43m(\u001B[49m\u001B[43ms\u001B[49m\u001B[43m)\u001B[49m\n\u001B[1;32m     38\u001B[0m     subs\u001B[38;5;241m.\u001B[39mextend(new_subs)\n\u001B[1;32m     39\u001B[0m     steps \u001B[38;5;241m=\u001B[39m steps \u001B[38;5;241m+\u001B[39m \u001B[38;5;241m1\u001B[39m\n",
      "File \u001B[0;32m~/PycharmProjects/univarsolver/FZCP/processor_new.py:100\u001B[0m, in \u001B[0;36mProcessorNew.fzcp_process\u001B[0;34m(self, sub)\u001B[0m\n\u001B[1;32m     98\u001B[0m         \u001B[38;5;28;01mreturn\u001B[39;00m lst\n\u001B[1;32m     99\u001B[0m width_of_interval \u001B[38;5;241m=\u001B[39m sub\u001B[38;5;241m.\u001B[39mdata\u001B[38;5;241m.\u001B[39mival\u001B[38;5;241m.\u001B[39mx[\u001B[38;5;241m1\u001B[39m] \u001B[38;5;241m-\u001B[39m sub\u001B[38;5;241m.\u001B[39mdata\u001B[38;5;241m.\u001B[39mival\u001B[38;5;241m.\u001B[39mx[\u001B[38;5;241m0\u001B[39m]\n\u001B[0;32m--> 100\u001B[0m in_bounds \u001B[38;5;241m=\u001B[39m \u001B[38;5;28;43mself\u001B[39;49m\u001B[38;5;241;43m.\u001B[39;49m\u001B[43mupdate_interval\u001B[49m\u001B[43m(\u001B[49m\u001B[43msub\u001B[49m\u001B[43m)\u001B[49m\n\u001B[1;32m    102\u001B[0m \u001B[38;5;28;01mif\u001B[39;00m in_bounds \u001B[38;5;129;01mand\u001B[39;00m sub\u001B[38;5;241m.\u001B[39mdata\u001B[38;5;241m.\u001B[39mival[\u001B[38;5;241m0\u001B[39m] \u001B[38;5;241m<\u001B[39m\u001B[38;5;241m=\u001B[39m \u001B[38;5;28mself\u001B[39m\u001B[38;5;241m.\u001B[39mrec_x:\n\u001B[1;32m    103\u001B[0m     sub\u001B[38;5;241m.\u001B[39mdata\u001B[38;5;241m.\u001B[39msplit_point \u001B[38;5;241m=\u001B[39m sub\u001B[38;5;241m.\u001B[39mdata\u001B[38;5;241m.\u001B[39mival\u001B[38;5;241m.\u001B[39mx[\u001B[38;5;241m0\u001B[39m] \u001B[38;5;241m+\u001B[39m (sub\u001B[38;5;241m.\u001B[39mdata\u001B[38;5;241m.\u001B[39mival\u001B[38;5;241m.\u001B[39mx[\u001B[38;5;241m1\u001B[39m] \u001B[38;5;241m-\u001B[39m sub\u001B[38;5;241m.\u001B[39mdata\u001B[38;5;241m.\u001B[39mival\u001B[38;5;241m.\u001B[39mx[\u001B[38;5;241m0\u001B[39m]) \u001B[38;5;241m/\u001B[39m \u001B[38;5;241m2\u001B[39m\n",
      "File \u001B[0;32m~/PycharmProjects/univarsolver/FZCP/processor_new.py:183\u001B[0m, in \u001B[0;36mProcessorNew.update_interval\u001B[0;34m(self, sub)\u001B[0m\n\u001B[1;32m    178\u001B[0m left_end \u001B[38;5;241m=\u001B[39m lower_estimator\u001B[38;5;241m.\u001B[39mget_left_end()\n\u001B[1;32m    179\u001B[0m \u001B[38;5;66;03m# reocrd_x, record_v = lower_estimator.lower_bound_and_point()\u001B[39;00m\n\u001B[1;32m    180\u001B[0m \u001B[38;5;66;03m# if record_v > 0 and left_end is not None:\u001B[39;00m\n\u001B[1;32m    181\u001B[0m \u001B[38;5;66;03m#     print('erro', lower_estimator.a, lower_estimator.b, left_end)\u001B[39;00m\n\u001B[1;32m    182\u001B[0m \u001B[38;5;66;03m# if left_end is not None:\u001B[39;00m\n\u001B[0;32m--> 183\u001B[0m upper_estimator \u001B[38;5;241m=\u001B[39m \u001B[38;5;28;43mself\u001B[39;49m\u001B[38;5;241;43m.\u001B[39;49m\u001B[43mcompute_bounds\u001B[49m\u001B[43m(\u001B[49m\u001B[43msub\u001B[49m\u001B[43m,\u001B[49m\u001B[43m \u001B[49m\u001B[43munder\u001B[49m\u001B[38;5;241;43m=\u001B[39;49m\u001B[38;5;28;43;01mFalse\u001B[39;49;00m\u001B[43m)\u001B[49m\n\u001B[1;32m    184\u001B[0m right_end \u001B[38;5;241m=\u001B[39m upper_estimator\u001B[38;5;241m.\u001B[39mget_right_end()\n\u001B[1;32m    185\u001B[0m \u001B[38;5;28;01mif\u001B[39;00m left_end \u001B[38;5;129;01mis\u001B[39;00m \u001B[38;5;129;01mnot\u001B[39;00m \u001B[38;5;28;01mNone\u001B[39;00m:\n",
      "File \u001B[0;32m~/PycharmProjects/univarsolver/FZCP/processor_new.py:68\u001B[0m, in \u001B[0;36mProcessorNew.compute_bounds\u001B[0;34m(self, sub, under)\u001B[0m\n\u001B[1;32m     66\u001B[0m         L \u001B[38;5;241m=\u001B[39m \u001B[38;5;28mmax\u001B[39m(\u001B[38;5;241m-\u001B[39mdi[\u001B[38;5;241m0\u001B[39m], di[\u001B[38;5;241m1\u001B[39m])\n\u001B[1;32m     67\u001B[0m         di \u001B[38;5;241m=\u001B[39m ival\u001B[38;5;241m.\u001B[39mInterval([\u001B[38;5;241m-\u001B[39mL, L])\n\u001B[0;32m---> 68\u001B[0m     \u001B[38;5;28;01mreturn\u001B[39;00m \u001B[43mpsl\u001B[49m\u001B[38;5;241;43m.\u001B[39;49m\u001B[43mPSL_Bounds\u001B[49m\u001B[43m(\u001B[49m\u001B[43msub\u001B[49m\u001B[38;5;241;43m.\u001B[39;49m\u001B[43mdata\u001B[49m\u001B[38;5;241;43m.\u001B[39;49m\u001B[43mival\u001B[49m\u001B[43m[\u001B[49m\u001B[38;5;241;43m0\u001B[39;49m\u001B[43m]\u001B[49m\u001B[43m,\u001B[49m\u001B[43m \u001B[49m\u001B[43msub\u001B[49m\u001B[38;5;241;43m.\u001B[39;49m\u001B[43mdata\u001B[49m\u001B[38;5;241;43m.\u001B[39;49m\u001B[43mival\u001B[49m\u001B[43m[\u001B[49m\u001B[38;5;241;43m1\u001B[39;49m\u001B[43m]\u001B[49m\u001B[43m,\u001B[49m\u001B[43m \u001B[49m\u001B[43mdi\u001B[49m\u001B[43m[\u001B[49m\u001B[38;5;241;43m0\u001B[39;49m\u001B[43m]\u001B[49m\u001B[43m,\u001B[49m\u001B[43m \u001B[49m\u001B[43mdi\u001B[49m\u001B[43m[\u001B[49m\u001B[38;5;241;43m1\u001B[39;49m\u001B[43m]\u001B[49m\u001B[43m,\u001B[49m\u001B[43m \u001B[49m\u001B[38;5;28;43mself\u001B[39;49m\u001B[38;5;241;43m.\u001B[39;49m\u001B[43mproblem\u001B[49m\u001B[38;5;241;43m.\u001B[39;49m\u001B[43mobjective\u001B[49m\u001B[43m,\u001B[49m\n\u001B[1;32m     69\u001B[0m \u001B[43m                          \u001B[49m\u001B[43munder\u001B[49m\u001B[43m)\u001B[49m\n\u001B[1;32m     70\u001B[0m \u001B[38;5;28;01melse\u001B[39;00m:\n\u001B[1;32m     71\u001B[0m     \u001B[38;5;28;01mif\u001B[39;00m \u001B[38;5;28mself\u001B[39m\u001B[38;5;241m.\u001B[39mglobal_lipint:\n",
      "File \u001B[0;32m~/PycharmProjects/univarsolver/FZCP/psl_bounds.py:36\u001B[0m, in \u001B[0;36mPSL_Bounds.__init__\u001B[0;34m(self, a, b, alp, bet, f, under)\u001B[0m\n\u001B[1;32m     34\u001B[0m     \u001B[38;5;28mself\u001B[39m\u001B[38;5;241m.\u001B[39mbet \u001B[38;5;241m=\u001B[39m \u001B[38;5;241m-\u001B[39malp\n\u001B[1;32m     35\u001B[0m     \u001B[38;5;28mself\u001B[39m\u001B[38;5;241m.\u001B[39mfa \u001B[38;5;241m=\u001B[39m \u001B[38;5;241m-\u001B[39mf(a)\n\u001B[0;32m---> 36\u001B[0m     \u001B[38;5;28mself\u001B[39m\u001B[38;5;241m.\u001B[39mfb \u001B[38;5;241m=\u001B[39m \u001B[38;5;241m-\u001B[39m\u001B[43mf\u001B[49m\u001B[43m(\u001B[49m\u001B[43mb\u001B[49m\u001B[43m)\u001B[49m\n\u001B[1;32m     38\u001B[0m \u001B[38;5;28mself\u001B[39m\u001B[38;5;241m.\u001B[39mc \u001B[38;5;241m=\u001B[39m (\u001B[38;5;28mself\u001B[39m\u001B[38;5;241m.\u001B[39mfa \u001B[38;5;241m-\u001B[39m \u001B[38;5;28mself\u001B[39m\u001B[38;5;241m.\u001B[39mfb \u001B[38;5;241m+\u001B[39m \u001B[38;5;28mself\u001B[39m\u001B[38;5;241m.\u001B[39mbet \u001B[38;5;241m*\u001B[39m \u001B[38;5;28mself\u001B[39m\u001B[38;5;241m.\u001B[39mb \u001B[38;5;241m-\u001B[39m \u001B[38;5;28mself\u001B[39m\u001B[38;5;241m.\u001B[39malp \u001B[38;5;241m*\u001B[39m \u001B[38;5;28mself\u001B[39m\u001B[38;5;241m.\u001B[39ma) \u001B[38;5;241m/\u001B[39m (\u001B[38;5;28mself\u001B[39m\u001B[38;5;241m.\u001B[39mbet \u001B[38;5;241m-\u001B[39m \u001B[38;5;28mself\u001B[39m\u001B[38;5;241m.\u001B[39malp)\n",
      "File \u001B[0;32m~/PycharmProjects/univarsolver/uvarprob.py:51\u001B[0m, in \u001B[0;36mUniVarProblem.__init__.<locals>.obj_log\u001B[0;34m(x)\u001B[0m\n\u001B[1;32m     49\u001B[0m \u001B[38;5;28;01mdef\u001B[39;00m \u001B[38;5;21mobj_log\u001B[39m(x):\n\u001B[1;32m     50\u001B[0m     logger(x)\n\u001B[0;32m---> 51\u001B[0m     \u001B[38;5;28;01mreturn\u001B[39;00m \u001B[43mobj_f\u001B[49m\u001B[43m(\u001B[49m\u001B[43mx\u001B[49m\u001B[43m)\u001B[49m\n",
      "File \u001B[0;32m<lambdifygenerated-115>:2\u001B[0m, in \u001B[0;36m_lambdifygenerated\u001B[0;34m(x)\u001B[0m\n\u001B[1;32m      1\u001B[0m \u001B[38;5;28;01mdef\u001B[39;00m \u001B[38;5;21m_lambdifygenerated\u001B[39m(x):\n\u001B[0;32m----> 2\u001B[0m     \u001B[38;5;28;01mreturn\u001B[39;00m \u001B[43mx\u001B[49m\u001B[38;5;241;43m*\u001B[39;49m\u001B[38;5;241;43m*\u001B[39;49m\u001B[38;5;241;43m8\u001B[39;49m\u001B[43m \u001B[49m\u001B[38;5;241;43m-\u001B[39;49m\u001B[43m \u001B[49m\u001B[43mx\u001B[49m\u001B[38;5;241;43m*\u001B[39;49m\u001B[38;5;241;43m*\u001B[39;49m\u001B[38;5;241;43m7\u001B[39;49m\u001B[43m \u001B[49m\u001B[38;5;241;43m+\u001B[39;49m\u001B[43m \u001B[49m\u001B[38;5;241;43m2.0\u001B[39;49m\u001B[38;5;241;43m*\u001B[39;49m\u001B[43mx\u001B[49m\u001B[38;5;241;43m*\u001B[39;49m\u001B[38;5;241;43m*\u001B[39;49m\u001B[38;5;241;43m6\u001B[39;49m\u001B[43m \u001B[49m\u001B[38;5;241;43m-\u001B[39;49m\u001B[43m \u001B[49m\u001B[38;5;241;43m11.0\u001B[39;49m\u001B[38;5;241;43m*\u001B[39;49m\u001B[43mx\u001B[49m\u001B[38;5;241;43m*\u001B[39;49m\u001B[38;5;241;43m*\u001B[39;49m\u001B[38;5;241;43m5\u001B[39;49m\u001B[43m \u001B[49m\u001B[38;5;241;43m+\u001B[39;49m\u001B[43m \u001B[49m\u001B[38;5;241;43m21.0\u001B[39;49m\u001B[38;5;241;43m*\u001B[39;49m\u001B[43mx\u001B[49m\u001B[38;5;241;43m*\u001B[39;49m\u001B[38;5;241;43m*\u001B[39;49m\u001B[38;5;241;43m4\u001B[39;49m\u001B[43m \u001B[49m\u001B[38;5;241;43m-\u001B[39;49m\u001B[43m \u001B[49m\u001B[38;5;241;43m31.0\u001B[39;49m\u001B[38;5;241;43m*\u001B[39;49m\u001B[43mx\u001B[49m\u001B[38;5;241;43m*\u001B[39;49m\u001B[38;5;241;43m*\u001B[39;49m\u001B[38;5;241;43m3\u001B[39;49m\u001B[43m \u001B[49m\u001B[38;5;241;43m+\u001B[39;49m\u001B[43m \u001B[49m\u001B[38;5;241;43m20.0\u001B[39;49m\u001B[38;5;241;43m*\u001B[39;49m\u001B[43mx\u001B[49m\u001B[38;5;241;43m*\u001B[39;49m\u001B[38;5;241;43m*\u001B[39;49m\u001B[38;5;241;43m2\u001B[39;49m \u001B[38;5;241m-\u001B[39m \u001B[38;5;241m10.0\u001B[39m\u001B[38;5;241m*\u001B[39mx \u001B[38;5;241m+\u001B[39m sin(x\u001B[38;5;241m*\u001B[39m\u001B[38;5;241m*\u001B[39m\u001B[38;5;241m2\u001B[39m) \u001B[38;5;241m+\u001B[39m \u001B[38;5;241m1.0\u001B[39m\n",
      "File \u001B[0;32m~/miniforge3/envs/py39/lib/python3.10/site-packages/sympy/core/decorators.py:65\u001B[0m, in \u001B[0;36m__sympifyit.<locals>.__sympifyit_wrapper\u001B[0;34m(a, b)\u001B[0m\n\u001B[1;32m     63\u001B[0m     \u001B[38;5;28;01mif\u001B[39;00m \u001B[38;5;129;01mnot\u001B[39;00m \u001B[38;5;28mhasattr\u001B[39m(b, \u001B[38;5;124m'\u001B[39m\u001B[38;5;124m_op_priority\u001B[39m\u001B[38;5;124m'\u001B[39m):\n\u001B[1;32m     64\u001B[0m         b \u001B[38;5;241m=\u001B[39m sympify(b, strict\u001B[38;5;241m=\u001B[39m\u001B[38;5;28;01mTrue\u001B[39;00m)\n\u001B[0;32m---> 65\u001B[0m     \u001B[38;5;28;01mreturn\u001B[39;00m \u001B[43mfunc\u001B[49m\u001B[43m(\u001B[49m\u001B[43ma\u001B[49m\u001B[43m,\u001B[49m\u001B[43m \u001B[49m\u001B[43mb\u001B[49m\u001B[43m)\u001B[49m\n\u001B[1;32m     66\u001B[0m \u001B[38;5;28;01mexcept\u001B[39;00m SympifyError:\n\u001B[1;32m     67\u001B[0m     \u001B[38;5;28;01mreturn\u001B[39;00m retval\n",
      "File \u001B[0;32m~/miniforge3/envs/py39/lib/python3.10/site-packages/sympy/core/numbers.py:1281\u001B[0m, in \u001B[0;36mFloat.__add__\u001B[0;34m(self, other)\u001B[0m\n\u001B[1;32m   1279\u001B[0m \u001B[38;5;28;01mif\u001B[39;00m \u001B[38;5;28misinstance\u001B[39m(other, Number) \u001B[38;5;129;01mand\u001B[39;00m global_parameters\u001B[38;5;241m.\u001B[39mevaluate:\n\u001B[1;32m   1280\u001B[0m     rhs, prec \u001B[38;5;241m=\u001B[39m other\u001B[38;5;241m.\u001B[39m_as_mpf_op(\u001B[38;5;28mself\u001B[39m\u001B[38;5;241m.\u001B[39m_prec)\n\u001B[0;32m-> 1281\u001B[0m     \u001B[38;5;28;01mreturn\u001B[39;00m \u001B[43mFloat\u001B[49m\u001B[38;5;241;43m.\u001B[39;49m\u001B[43m_new\u001B[49m\u001B[43m(\u001B[49m\u001B[43mmlib\u001B[49m\u001B[38;5;241;43m.\u001B[39;49m\u001B[43mmpf_add\u001B[49m\u001B[43m(\u001B[49m\u001B[38;5;28;43mself\u001B[39;49m\u001B[38;5;241;43m.\u001B[39;49m\u001B[43m_mpf_\u001B[49m\u001B[43m,\u001B[49m\u001B[43m \u001B[49m\u001B[43mrhs\u001B[49m\u001B[43m,\u001B[49m\u001B[43m \u001B[49m\u001B[43mprec\u001B[49m\u001B[43m,\u001B[49m\u001B[43m \u001B[49m\u001B[43mrnd\u001B[49m\u001B[43m)\u001B[49m\u001B[43m,\u001B[49m\u001B[43m \u001B[49m\u001B[43mprec\u001B[49m\u001B[43m)\u001B[49m\n\u001B[1;32m   1282\u001B[0m \u001B[38;5;28;01mreturn\u001B[39;00m Number\u001B[38;5;241m.\u001B[39m\u001B[38;5;21m__add__\u001B[39m(\u001B[38;5;28mself\u001B[39m, other)\n",
      "File \u001B[0;32m~/miniforge3/envs/py39/lib/python3.10/site-packages/sympy/core/numbers.py:1191\u001B[0m, in \u001B[0;36mFloat._new\u001B[0;34m(cls, _mpf_, _prec, zero)\u001B[0m\n\u001B[1;32m   1188\u001B[0m     \u001B[38;5;28;01mreturn\u001B[39;00m S\u001B[38;5;241m.\u001B[39mNegativeInfinity\n\u001B[1;32m   1190\u001B[0m obj \u001B[38;5;241m=\u001B[39m Expr\u001B[38;5;241m.\u001B[39m\u001B[38;5;21m__new__\u001B[39m(\u001B[38;5;28mcls\u001B[39m)\n\u001B[0;32m-> 1191\u001B[0m obj\u001B[38;5;241m.\u001B[39m_mpf_ \u001B[38;5;241m=\u001B[39m \u001B[43mmpf_norm\u001B[49m\u001B[43m(\u001B[49m\u001B[43m_mpf_\u001B[49m\u001B[43m,\u001B[49m\u001B[43m \u001B[49m\u001B[43m_prec\u001B[49m\u001B[43m)\u001B[49m\n\u001B[1;32m   1192\u001B[0m obj\u001B[38;5;241m.\u001B[39m_prec \u001B[38;5;241m=\u001B[39m _prec\n\u001B[1;32m   1193\u001B[0m \u001B[38;5;28;01mreturn\u001B[39;00m obj\n",
      "File \u001B[0;32m~/miniforge3/envs/py39/lib/python3.10/site-packages/sympy/core/numbers.py:175\u001B[0m, in \u001B[0;36mmpf_norm\u001B[0;34m(mpf, prec)\u001B[0m\n\u001B[1;32m    173\u001B[0m \u001B[38;5;66;03m# Necessary if mpmath is using the gmpy backend\u001B[39;00m\n\u001B[1;32m    174\u001B[0m \u001B[38;5;28;01mfrom\u001B[39;00m \u001B[38;5;21;01mmpmath\u001B[39;00m\u001B[38;5;21;01m.\u001B[39;00m\u001B[38;5;21;01mlibmp\u001B[39;00m\u001B[38;5;21;01m.\u001B[39;00m\u001B[38;5;21;01mbackend\u001B[39;00m \u001B[38;5;28;01mimport\u001B[39;00m MPZ\n\u001B[0;32m--> 175\u001B[0m rv \u001B[38;5;241m=\u001B[39m mpf_normalize(sign, \u001B[43mMPZ\u001B[49m\u001B[43m(\u001B[49m\u001B[43mman\u001B[49m\u001B[43m)\u001B[49m, expt, bc, prec, rnd)\n\u001B[1;32m    176\u001B[0m \u001B[38;5;28;01mreturn\u001B[39;00m rv\n",
      "\u001B[0;31mKeyboardInterrupt\u001B[0m: "
     ]
    }
   ],
   "source": [
    "print('test.Index,PC_N,PI_N,QC_N,QI_N,PC_R,PI_R,QC_R,QI_R')\n",
    "eps=1e-3\n",
    "for test in df.itertuples():\n",
    "\n",
    "    points_db[test.Index] = {'bnb2_pslint_points_list': []}\n",
    "    prob = uvpr.UniVarProblem(test.Index, test.objective, test.a, test.b, test.min_f, test.min_x,\n",
    "                              lambda x: log_point(x, points_db[test.Index]['bnb2_pslint_points_list']))\n",
    "    T1 = time.perf_counter()\n",
    "    PC_N=sfzcp.new_method(prob, symm=True, epsilon=eps,global_lipschitz_interval=True, estimator=1,reduction=False).nsteps\n",
    "    T2 = time.perf_counter()\n",
    "    time_PC_N=T2-T1\n",
    "    T1 = time.perf_counter()\n",
    "    PI_N=sfzcp.new_method(prob, symm=False, epsilon=eps,global_lipschitz_interval=True, estimator=1,reduction=False).nsteps\n",
    "    T2 = time.perf_counter()\n",
    "    time_PI_N=T2-T1\n",
    "    T1 = time.perf_counter()\n",
    "    QC_N=sfzcp.new_method(prob, symm=True, epsilon=eps,global_lipschitz_interval=True, estimator=2,reduction=False).nsteps\n",
    "    T2 = time.perf_counter()\n",
    "    time_QC_N=T2-T1\n",
    "    T1 = time.perf_counter()\n",
    "    QI_N=sfzcp.new_method(prob, symm=False, epsilon=eps,global_lipschitz_interval=True, estimator=2,reduction=False).nsteps\n",
    "    T2 = time.perf_counter()\n",
    "    time_QI_N=T2-T1\n",
    "\n",
    "    T1 = time.perf_counter()\n",
    "    PC_R=sfzcp.new_method(prob, symm=True, epsilon=eps,global_lipschitz_interval=True, estimator=1,reduction=True).nsteps\n",
    "    T2 = time.perf_counter()\n",
    "    time_PC_R=T2-T1\n",
    "    T1 = time.perf_counter()\n",
    "    PI_R=sfzcp.new_method(prob, symm=False, epsilon=eps,global_lipschitz_interval=True, estimator=1,reduction=True).nsteps\n",
    "    T2 = time.perf_counter()\n",
    "    time_PI_R=T2-T1\n",
    "    T1 = time.perf_counter()\n",
    "    QC_R=sfzcp.new_method(prob, symm=True, epsilon=eps,global_lipschitz_interval=True, estimator=2,reduction=True).nsteps\n",
    "    T2 = time.perf_counter()\n",
    "    time_QC_R=T2-T1\n",
    "    T1 = time.perf_counter()\n",
    "    QI_R=sfzcp.new_method(prob, symm=False, epsilon=eps,global_lipschitz_interval=True, estimator=2,reduction=True).nsteps\n",
    "    T2 = time.perf_counter()\n",
    "    time_QI_R=T2-T1\n",
    "\n",
    "    print('%s & %d & %d & %d & %d & %d & %d & %d & %d \\\\\\\\' %(test.Index,PC_N,PI_N,QC_N,QI_N,PC_R,PI_R,QC_R,QI_R))\n",
    "    print('%s & %.3f & %.3f & %.3f & %.3f & %.3f & %.3f & %.3f & %.3f \\\\\\\\' %(test.Index,time_PC_N,time_PI_N,time_QC_N,time_QI_N,time_PC_R,time_PI_R,time_QC_R,time_QI_R))"
   ],
   "metadata": {
    "collapsed": false
   }
  },
  {
   "cell_type": "code",
   "execution_count": 22,
   "outputs": [
    {
     "name": "stdout",
     "output_type": "stream",
     "text": [
      "test.Index,PC_N,PI_N,QC_N,QI_N,PC_R,PI_R,QC_R,QI_R\n",
      "10 & 82 & 58 & 72 & 226 & 18 & 13 & 15 & 10 \\\\\n",
      "1 & 69 & 65 & 61 & 179 & 11 & 10 & 7 & 7 \\\\\n",
      "2 & 59 & 53 & 293 & 291 & 11 & 9 & 7 & 7 \\\\\n",
      "3 & 76 & 76 & 78 & 220 & 27 & 25 & 19 & 19 \\\\\n",
      "4 & 84 & 110 & 158 & 578 & 31 & 26 & 16 & 14 \\\\\n",
      "5 & 70 & 76 & 84 & 148 & 12 & 11 & 7 & 7 \\\\\n",
      "6 & 67 & 67 & 69 & 113 & 14 & 12 & 8 & 8 \\\\\n",
      "7 & 65 & 83 & 81 & 339 & 14 & 11 & 6 & 6 \\\\\n",
      "8 & 62 & 84 & 66 & 166 & 11 & 10 & 8 & 8 \\\\\n",
      "9 & 88 & 72 & 74 & 430 & 23 & 19 & 16 & 15 \\\\\n",
      "11 & 21 & 15 & 9 & 9 & 12 & 11 & 7 & 5 \\\\\n",
      "12 & 71 & 83 & 83 & 103 & 18 & 18 & 9 & 8 \\\\\n",
      "13 & 76 & 66 & 64 & 248 & 18 & 14 & 11 & 9 \\\\\n"
     ]
    }
   ],
   "source": [
    "print('test.Index,PC_N,PI_N,QC_N,QI_N,PC_R,PI_R,QC_R,QI_R')\n",
    "for test in df.itertuples():\n",
    "\n",
    "    points_db[test.Index] = {'bnb2_pslint_points_list': []}\n",
    "    prob = uvpr.UniVarProblem(test.Index, test.objective, test.a, test.b, test.min_f, test.min_x,\n",
    "                              lambda x: log_point(x, points_db[test.Index]['bnb2_pslint_points_list']))\n",
    "    PC_N=sfzcp.new_method(prob, symm=True, epsilon=1e-10,global_lipschitz_interval=False, estimator=1,reduction=False).nsteps\n",
    "\n",
    "    PI_N=sfzcp.new_method(prob, symm=False, epsilon=1e-10,global_lipschitz_interval=False, estimator=1,reduction=False).nsteps\n",
    "    QC_N=sfzcp.new_method(prob, symm=True, epsilon=1e-10,global_lipschitz_interval=False, estimator=2,reduction=False).nsteps\n",
    "    QI_N=sfzcp.new_method(prob, symm=False, epsilon=1e-10,global_lipschitz_interval=False, estimator=2,reduction=False).nsteps\n",
    "\n",
    "    PC_R=sfzcp.new_method(prob, symm=True, epsilon=1e-10,global_lipschitz_interval=False, estimator=1,reduction=True).nsteps\n",
    "    PI_R=sfzcp.new_method(prob, symm=False, epsilon=1e-10,global_lipschitz_interval=False, estimator=1,reduction=True).nsteps\n",
    "    QC_R=sfzcp.new_method(prob, symm=True, epsilon=1e-10,global_lipschitz_interval=False, estimator=2,reduction=True).nsteps\n",
    "    QI_R=sfzcp.new_method(prob, symm=False, epsilon=1e-10,global_lipschitz_interval=False, estimator=2,reduction=True).nsteps\n",
    "\n",
    "    print('%s & %d & %d & %d & %d & %d & %d & %d & %d \\\\\\\\' %(test.Index,PC_N,PI_N,QC_N,QI_N,PC_R,PI_R,QC_R,QI_R))\n",
    "    # P: Piyavskii estimator\n",
    "    # Q: Piecewise smooth quadratic estimator\n",
    "    # C: Lipschitz constant\n",
    "    # I: Lipschitz interval\n",
    "    # N: without reduction\n",
    "    # R: with reduction"
   ],
   "metadata": {
    "collapsed": false
   }
  },
  {
   "cell_type": "code",
   "execution_count": 11,
   "id": "30ffa037",
   "metadata": {},
   "outputs": [],
   "source": [
    "def vis_trials(points_list, num_series, base_level):\n",
    "    poix = np.array(list(set(points_list[::skip])))\n",
    "    poiy = np.full(len(poix), base_level + num_series * -0.5)\n",
    "    up.plot_points(poix, poiy, num_series)"
   ]
  },
  {
   "cell_type": "code",
   "execution_count": 12,
   "id": "3bb0b182",
   "metadata": {},
   "outputs": [
    {
     "name": "stdout",
     "output_type": "stream",
     "text": [
      "Pandas(Index=1, objective='x^3+2.*x+cos(10.*x)', a=-3.0, b=3.0, min_f=0, min_x=0)\n"
     ]
    },
    {
     "ename": "KeyError",
     "evalue": "'bnb2_psl_points_list'",
     "output_type": "error",
     "traceback": [
      "\u001B[0;31m---------------------------------------------------------------------------\u001B[0m",
      "\u001B[0;31mKeyError\u001B[0m                                  Traceback (most recent call last)",
      "Cell \u001B[0;32mIn[12], line 5\u001B[0m\n\u001B[1;32m      3\u001B[0m prob \u001B[38;5;241m=\u001B[39m uvpr\u001B[38;5;241m.\u001B[39mUniVarProblem(test\u001B[38;5;241m.\u001B[39mIndex, test\u001B[38;5;241m.\u001B[39mobjective, test\u001B[38;5;241m.\u001B[39ma, test\u001B[38;5;241m.\u001B[39mb, test\u001B[38;5;241m.\u001B[39mmin_f, test\u001B[38;5;241m.\u001B[39mmin_x)\n\u001B[1;32m      4\u001B[0m up\u001B[38;5;241m.\u001B[39mplot_problem(prob, {\u001B[38;5;124m'\u001B[39m\u001B[38;5;124mfunction\u001B[39m\u001B[38;5;124m'\u001B[39m: \u001B[38;5;124m'\u001B[39m\u001B[38;5;124mb-\u001B[39m\u001B[38;5;124m'\u001B[39m}, legend\u001B[38;5;241m=\u001B[39mlegend_size)\n\u001B[0;32m----> 5\u001B[0m vis_trials(\u001B[43mpoints_db\u001B[49m\u001B[43m[\u001B[49m\u001B[43mtest\u001B[49m\u001B[38;5;241;43m.\u001B[39;49m\u001B[43mIndex\u001B[49m\u001B[43m]\u001B[49m\u001B[43m[\u001B[49m\u001B[38;5;124;43m'\u001B[39;49m\u001B[38;5;124;43mbnb2_psl_points_list\u001B[39;49m\u001B[38;5;124;43m'\u001B[39;49m\u001B[43m]\u001B[49m, \u001B[38;5;241m0\u001B[39m, plt\u001B[38;5;241m.\u001B[39mylim()[\u001B[38;5;241m0\u001B[39m] \u001B[38;5;241m+\u001B[39m legend_size)\n\u001B[1;32m      6\u001B[0m vis_trials(points_db[test\u001B[38;5;241m.\u001B[39mIndex][\u001B[38;5;124m'\u001B[39m\u001B[38;5;124mbnb2_pslint_points_list\u001B[39m\u001B[38;5;124m'\u001B[39m], \u001B[38;5;241m1\u001B[39m, plt\u001B[38;5;241m.\u001B[39mylim()[\u001B[38;5;241m0\u001B[39m] \u001B[38;5;241m+\u001B[39m legend_size)\n\u001B[1;32m      7\u001B[0m vis_trials(points_db[test\u001B[38;5;241m.\u001B[39mIndex][\u001B[38;5;124m'\u001B[39m\u001B[38;5;124mbnb2_lip_points_list\u001B[39m\u001B[38;5;124m'\u001B[39m], \u001B[38;5;241m2\u001B[39m, plt\u001B[38;5;241m.\u001B[39mylim()[\u001B[38;5;241m0\u001B[39m] \u001B[38;5;241m+\u001B[39m legend_size)\n",
      "\u001B[0;31mKeyError\u001B[0m: 'bnb2_psl_points_list'"
     ]
    },
    {
     "data": {
      "text/plain": "<Figure size 640x480 with 1 Axes>",
      "image/png": "[encoded data removed]"
     },
     "metadata": {},
     "output_type": "display_data"
    }
   ],
   "source": [
    "for test in df.itertuples():\n",
    "    print(test)\n",
    "    prob = uvpr.UniVarProblem(test.Index, test.objective, test.a, test.b, test.min_f, test.min_x)\n",
    "    up.plot_problem(prob, {'function': 'b-'}, legend=legend_size)\n",
    "    vis_trials(points_db[test.Index]['bnb2_psl_points_list'], 0, plt.ylim()[0] + legend_size)\n",
    "    vis_trials(points_db[test.Index]['bnb2_pslint_points_list'], 1, plt.ylim()[0] + legend_size)\n",
    "    vis_trials(points_db[test.Index]['bnb2_lip_points_list'], 2, plt.ylim()[0] + legend_size)\n",
    "    vis_trials(points_db[test.Index]['bnb2_lipint_points_list'], 3, plt.ylim()[0] + legend_size)\n",
    "    # vis_trials(points_db[test.Index]['psl_lipint_points_list'], 4, plt.ylim()[0] + legend_size)\n",
    "    # vis_trials(points_db[test.Index]['psl_lip_points_list'], 5, plt.ylim()[0] + legend_size)\n",
    "    #     print(\"ylim = \", plt.ylim()[0])\n",
    "    file_name=test.Index+'.png'\n",
    "    plt.savefig(file_name, dpi=500)\n",
    "    plt.show()"
   ]
  },
  {
   "cell_type": "code",
   "execution_count": null,
   "id": "8aec4782",
   "metadata": {},
   "outputs": [],
   "source": []
  },
  {
   "cell_type": "code",
   "execution_count": null,
   "id": "7f859061",
   "metadata": {},
   "outputs": [],
   "source": []
  }
 ],
 "metadata": {
  "kernelspec": {
   "display_name": "Python 3 (ipykernel)",
   "language": "python",
   "name": "python3"
  },
  "language_info": {
   "codemirror_mode": {
    "name": "ipython",
    "version": 3
   },
   "file_extension": ".py",
   "mimetype": "text/x-python",
   "name": "python",
   "nbconvert_exporter": "python",
   "pygments_lexer": "ipython3",
   "version": "3.10.4"
  }
 },
 "nbformat": 4,
 "nbformat_minor": 5
}
