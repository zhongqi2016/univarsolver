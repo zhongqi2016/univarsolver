{
 "cells": [
  {
   "cell_type": "code",
   "execution_count": 1,
   "id": "7c5d7d43",
   "metadata": {
    "ExecuteTime": {
     "end_time": "2023-08-29T06:21:48.896045Z",
     "start_time": "2023-08-29T06:21:47.867352Z"
    }
   },
   "outputs": [],
   "source": [
    "import sys\n",
    "import time\n",
    "\n",
    "sys.path.append(\"..\")\n",
    "import uniplot as up\n",
    "import pandas as pd\n",
    "import numpy as np\n",
    "import matplotlib.pyplot as plt\n",
    "import solv_fzcp as sfzcp\n",
    "import uvarprob as uvpr"
   ]
  },
  {
   "cell_type": "code",
   "execution_count": 9,
   "id": "da4a032c",
   "metadata": {
    "ExecuteTime": {
     "end_time": "2023-08-29T06:24:12.311732Z",
     "start_time": "2023-08-29T06:24:12.305168Z"
    }
   },
   "outputs": [],
   "source": [
    "test_file = \"../test_casado.csv\""
   ]
  },
  {
   "cell_type": "code",
   "execution_count": 10,
   "id": "57431414",
   "metadata": {
    "ExecuteTime": {
     "end_time": "2023-08-29T06:24:13.034560Z",
     "start_time": "2023-08-29T06:24:13.030069Z"
    }
   },
   "outputs": [],
   "source": [
    "# Maximal number of steps\n",
    "max_steps = 1e6\n",
    "# Tolerance\n",
    "epsilon = 1e-2\n",
    "# If True - global Lipschitz constant is used\n",
    "global_lipschitz_interval = True\n",
    "# If True - the record value is taken from the test database\n",
    "known_record = False\n",
    "# How many points to skip in vizualization - regular step\n",
    "skip = 1000\n",
    "# The size of the legend in plots\n",
    "legend_size = 2"
   ]
  },
  {
   "cell_type": "code",
   "execution_count": 11,
   "id": "0a503d18",
   "metadata": {
    "ExecuteTime": {
     "end_time": "2023-08-29T06:24:13.522594Z",
     "start_time": "2023-08-29T06:24:13.514656Z"
    }
   },
   "outputs": [],
   "source": [
    "def read_problems(fname):\n",
    "    data = pd.read_csv(fname, index_col='name', comment='#')\n",
    "    return data"
   ]
  },
  {
   "cell_type": "code",
   "execution_count": 12,
   "id": "ea8c08bf",
   "metadata": {
    "ExecuteTime": {
     "end_time": "2023-08-29T06:24:13.917315Z",
     "start_time": "2023-08-29T06:24:13.908695Z"
    }
   },
   "outputs": [
    {
     "data": {
      "text/plain": "                                              objective     a     b  min_f  \\\nname                                                                         \n1                                   -0.5*x^2*(log(x))+5   0.2   7.0      0   \n2                                -exp(-x)*sin(2*pi*x)+1   0.2   7.0      0   \n3                                   -(sqrt(x))*sin(x)+1   0.2   7.0      0   \n4            x*sin(x)+sin(10.0*x/3.0)+log(x)-0.84*x+1.3   0.2   7.0      0   \n5                                          x+sin(5.0*x)   0.2   7.0      0   \n6                                           -x*sin(x)+5   0.2   7.0      0   \n7                    sin(x)*cos(x)-1.5*(sin(x))^2.0+1.2   0.2   7.0      0   \n8                                   2*cos(x)+cos(2*x)+5   0.2   7.0      0   \n9                                    2.0*sin(x)*exp(-x)   0.2   7.0      0   \n10                            (3*x-1.4)*sin(18.0*x)+1.7   0.2   7.0      0   \n11                                      (x+1)^3/x^2-7.1   0.2   7.0      0   \n12                                      exp(sin(3.0*x))   0.2   7.0      0   \n13     12+cos(2.0*x+1)+2*cos(3.0*x+2)+3*cos(4.0*x+3)...   0.2   7.0      0   \n14                                 2*(x-3)^2-exp(x/2)+5   0.2   7.0      0   \n15                                       -exp(sin(x))+4   0.2   7.0      0   \n16                                   sqrt(x)*(sin(x))^2   0.2   7.0      0   \n17                                  cos(x)-sin(5.0*x)+1   0.2   7.0      0   \n18                                    -x-sin(3.0*x)+1.6   0.2   7.0      0   \n19                        cos(x)+2.0*cos(2.0*x)*exp(-x)   0.2   7.0      0   \n20     -(sin(2*x+1)+2*sin(3*x+2)+3*sin(4*x+3)+4*sin(... -10.0  10.0      0   \n21                                log(3.0*x)*log(2*x)-1   0.1   7.0      0   \n22      -cos(2.0*x)-cos(3*x)-cos(4*x)-cos(5*x)-cos(6*x) -10.0  10.0      0   \n23                             -exp(-x)*sin(2*pi*x)+0.5   0.0   4.0      0   \n24                              (x^2-5*x+6)/(x^2+1)-0.5  -5.0   5.0      0   \n25                                     -exp(sin(3*x))+1  -3.0   2.0      0   \n26                                        -x+sin(3*x)+1   0.0   6.5      0   \n27                             (x+sin(x))*exp(-x^2)+0.8  -5.0   5.0      0   \n\n      min_x  \nname         \n1         0  \n2         0  \n3         0  \n4         0  \n5         0  \n6         0  \n7         0  \n8         0  \n9         0  \n10        0  \n11        0  \n12        0  \n13        0  \n14        0  \n15        0  \n16        0  \n17        0  \n18        0  \n19        0  \n20        0  \n21        0  \n22        0  \n23        0  \n24        0  \n25        0  \n26        0  \n27        0  ",
      "text/html": "<div>\n<style scoped>\n    .dataframe tbody tr th:only-of-type {\n        vertical-align: middle;\n    }\n\n    .dataframe tbody tr th {\n        vertical-align: top;\n    }\n\n    .dataframe thead th {\n        text-align: right;\n    }\n</style>\n<table border=\"1\" class=\"dataframe\">\n  <thead>\n    <tr style=\"text-align: right;\">\n      <th></th>\n      <th>objective</th>\n      <th>a</th>\n      <th>b</th>\n      <th>min_f</th>\n      <th>min_x</th>\n    </tr>\n    <tr>\n      <th>name</th>\n      <th></th>\n      <th></th>\n      <th></th>\n      <th></th>\n      <th></th>\n    </tr>\n  </thead>\n  <tbody>\n    <tr>\n      <th>1</th>\n      <td>-0.5*x^2*(log(x))+5</td>\n      <td>0.2</td>\n      <td>7.0</td>\n      <td>0</td>\n      <td>0</td>\n    </tr>\n    <tr>\n      <th>2</th>\n      <td>-exp(-x)*sin(2*pi*x)+1</td>\n      <td>0.2</td>\n      <td>7.0</td>\n      <td>0</td>\n      <td>0</td>\n    </tr>\n    <tr>\n      <th>3</th>\n      <td>-(sqrt(x))*sin(x)+1</td>\n      <td>0.2</td>\n      <td>7.0</td>\n      <td>0</td>\n      <td>0</td>\n    </tr>\n    <tr>\n      <th>4</th>\n      <td>x*sin(x)+sin(10.0*x/3.0)+log(x)-0.84*x+1.3</td>\n      <td>0.2</td>\n      <td>7.0</td>\n      <td>0</td>\n      <td>0</td>\n    </tr>\n    <tr>\n      <th>5</th>\n      <td>x+sin(5.0*x)</td>\n      <td>0.2</td>\n      <td>7.0</td>\n      <td>0</td>\n      <td>0</td>\n    </tr>\n    <tr>\n      <th>6</th>\n      <td>-x*sin(x)+5</td>\n      <td>0.2</td>\n      <td>7.0</td>\n      <td>0</td>\n      <td>0</td>\n    </tr>\n    <tr>\n      <th>7</th>\n      <td>sin(x)*cos(x)-1.5*(sin(x))^2.0+1.2</td>\n      <td>0.2</td>\n      <td>7.0</td>\n      <td>0</td>\n      <td>0</td>\n    </tr>\n    <tr>\n      <th>8</th>\n      <td>2*cos(x)+cos(2*x)+5</td>\n      <td>0.2</td>\n      <td>7.0</td>\n      <td>0</td>\n      <td>0</td>\n    </tr>\n    <tr>\n      <th>9</th>\n      <td>2.0*sin(x)*exp(-x)</td>\n      <td>0.2</td>\n      <td>7.0</td>\n      <td>0</td>\n      <td>0</td>\n    </tr>\n    <tr>\n      <th>10</th>\n      <td>(3*x-1.4)*sin(18.0*x)+1.7</td>\n      <td>0.2</td>\n      <td>7.0</td>\n      <td>0</td>\n      <td>0</td>\n    </tr>\n    <tr>\n      <th>11</th>\n      <td>(x+1)^3/x^2-7.1</td>\n      <td>0.2</td>\n      <td>7.0</td>\n      <td>0</td>\n      <td>0</td>\n    </tr>\n    <tr>\n      <th>12</th>\n      <td>exp(sin(3.0*x))</td>\n      <td>0.2</td>\n      <td>7.0</td>\n      <td>0</td>\n      <td>0</td>\n    </tr>\n    <tr>\n      <th>13</th>\n      <td>12+cos(2.0*x+1)+2*cos(3.0*x+2)+3*cos(4.0*x+3)...</td>\n      <td>0.2</td>\n      <td>7.0</td>\n      <td>0</td>\n      <td>0</td>\n    </tr>\n    <tr>\n      <th>14</th>\n      <td>2*(x-3)^2-exp(x/2)+5</td>\n      <td>0.2</td>\n      <td>7.0</td>\n      <td>0</td>\n      <td>0</td>\n    </tr>\n    <tr>\n      <th>15</th>\n      <td>-exp(sin(x))+4</td>\n      <td>0.2</td>\n      <td>7.0</td>\n      <td>0</td>\n      <td>0</td>\n    </tr>\n    <tr>\n      <th>16</th>\n      <td>sqrt(x)*(sin(x))^2</td>\n      <td>0.2</td>\n      <td>7.0</td>\n      <td>0</td>\n      <td>0</td>\n    </tr>\n    <tr>\n      <th>17</th>\n      <td>cos(x)-sin(5.0*x)+1</td>\n      <td>0.2</td>\n      <td>7.0</td>\n      <td>0</td>\n      <td>0</td>\n    </tr>\n    <tr>\n      <th>18</th>\n      <td>-x-sin(3.0*x)+1.6</td>\n      <td>0.2</td>\n      <td>7.0</td>\n      <td>0</td>\n      <td>0</td>\n    </tr>\n    <tr>\n      <th>19</th>\n      <td>cos(x)+2.0*cos(2.0*x)*exp(-x)</td>\n      <td>0.2</td>\n      <td>7.0</td>\n      <td>0</td>\n      <td>0</td>\n    </tr>\n    <tr>\n      <th>20</th>\n      <td>-(sin(2*x+1)+2*sin(3*x+2)+3*sin(4*x+3)+4*sin(...</td>\n      <td>-10.0</td>\n      <td>10.0</td>\n      <td>0</td>\n      <td>0</td>\n    </tr>\n    <tr>\n      <th>21</th>\n      <td>log(3.0*x)*log(2*x)-1</td>\n      <td>0.1</td>\n      <td>7.0</td>\n      <td>0</td>\n      <td>0</td>\n    </tr>\n    <tr>\n      <th>22</th>\n      <td>-cos(2.0*x)-cos(3*x)-cos(4*x)-cos(5*x)-cos(6*x)</td>\n      <td>-10.0</td>\n      <td>10.0</td>\n      <td>0</td>\n      <td>0</td>\n    </tr>\n    <tr>\n      <th>23</th>\n      <td>-exp(-x)*sin(2*pi*x)+0.5</td>\n      <td>0.0</td>\n      <td>4.0</td>\n      <td>0</td>\n      <td>0</td>\n    </tr>\n    <tr>\n      <th>24</th>\n      <td>(x^2-5*x+6)/(x^2+1)-0.5</td>\n      <td>-5.0</td>\n      <td>5.0</td>\n      <td>0</td>\n      <td>0</td>\n    </tr>\n    <tr>\n      <th>25</th>\n      <td>-exp(sin(3*x))+1</td>\n      <td>-3.0</td>\n      <td>2.0</td>\n      <td>0</td>\n      <td>0</td>\n    </tr>\n    <tr>\n      <th>26</th>\n      <td>-x+sin(3*x)+1</td>\n      <td>0.0</td>\n      <td>6.5</td>\n      <td>0</td>\n      <td>0</td>\n    </tr>\n    <tr>\n      <th>27</th>\n      <td>(x+sin(x))*exp(-x^2)+0.8</td>\n      <td>-5.0</td>\n      <td>5.0</td>\n      <td>0</td>\n      <td>0</td>\n    </tr>\n  </tbody>\n</table>\n</div>"
     },
     "execution_count": 12,
     "metadata": {},
     "output_type": "execute_result"
    }
   ],
   "source": [
    "df = read_problems(test_file)\n",
    "df"
   ]
  },
  {
   "cell_type": "code",
   "execution_count": 13,
   "id": "8d88eefa",
   "metadata": {
    "ExecuteTime": {
     "end_time": "2023-08-29T06:24:20.712593Z",
     "start_time": "2023-08-29T06:24:20.710720Z"
    }
   },
   "outputs": [],
   "source": [
    "points_db = {}\n",
    "psl_lipint_points_list = []\n",
    "psl_lip_points_list = []\n",
    "psqe_lipint_points_list = []\n",
    "psqe_lip_points_list = []\n",
    "bnb2_lipint_points_list = []\n",
    "bnb2_lip_points_list = []"
   ]
  },
  {
   "cell_type": "code",
   "execution_count": 14,
   "id": "67100fbe",
   "metadata": {
    "ExecuteTime": {
     "end_time": "2023-08-29T06:24:21.251446Z",
     "start_time": "2023-08-29T06:24:21.241722Z"
    }
   },
   "outputs": [],
   "source": [
    "def log_point(x, points_list):\n",
    "    points_list.append(x)"
   ]
  },
  {
   "cell_type": "code",
   "execution_count": 17,
   "outputs": [
    {
     "name": "stdout",
     "output_type": "stream",
     "text": [
      "test.Index,PL_N,PI_N,QL_N,QI_N,PL_R,PI_R,QL_R,QI_R\n",
      "1 & 0.188 & 0.253 & 0.179 & 0.127 & 0.115 & 0.151 & 0.117 & 0.036 & 0.034 \\\\\n",
      "2 & 0.020 & 0.243 & 0.202 & 0.179 & 0.165 & 0.104 & 0.092 & 0.100 & 0.094 \\\\\n",
      "3 & 0.190 & 0.277 & 0.231 & 0.159 & 0.146 & 0.164 & 0.139 & 0.075 & 0.070 \\\\\n",
      "4 & 0.456 & 0.339 & 0.263 & 0.215 & 0.182 & 0.225 & 0.153 & 0.098 & 0.078 \\\\\n",
      "5 & 0.246 & 0.178 & 0.117 & 0.112 & 0.100 & 0.129 & 0.074 & 0.036 & 0.033 \\\\\n",
      "6 & 0.029 & 0.056 & 0.044 & 0.031 & 0.027 & 0.030 & 0.026 & 0.022 & 0.020 \\\\\n",
      "7 & 0.359 & 0.220 & 0.189 & 0.182 & 0.170 & 0.162 & 0.137 & 0.068 & 0.064 \\\\\n",
      "8 & 0.017 & 0.041 & 0.032 & 0.027 & 0.024 & 0.023 & 0.020 & 0.026 & 0.024 \\\\\n",
      "9 & 0.181 & 1.498 & 1.245 & 0.171 & 0.157 & 0.694 & 0.589 & 0.095 & 0.087 \\\\\n",
      "10 & 0.357 & 1.454 & 1.197 & 0.321 & 0.292 & 0.641 & 0.534 & 0.156 & 0.143 \\\\\n",
      "11 & 1.822 & 318.990 & 59.998 & 4.652 & 1.334 & 183.905 & 29.252 & 2.501 & 0.645 \\\\\n",
      "12 & 0.020 & 0.322 & 0.265 & 0.207 & 0.119 & 0.134 & 0.114 & 0.106 & 0.077 \\\\\n",
      "13 & 1.375 & 0.466 & 0.416 & 0.336 & 0.318 & 0.290 & 0.257 & 0.153 & 0.145 \\\\\n",
      "14 & 0.428 & 0.788 & 0.505 & 0.145 & 0.130 & 0.389 & 0.270 & 0.044 & 0.040 \\\\\n",
      "15 & 0.015 & 0.048 & 0.037 & 0.045 & 0.025 & 0.029 & 0.025 & 0.031 & 0.024 \\\\\n",
      "16 & 0.266 & 23.545 & 19.406 & 0.608 & 0.549 & 13.001 & 11.042 & 0.349 & 0.311 \\\\\n",
      "17 & 0.258 & 0.279 & 0.235 & 0.143 & 0.130 & 0.157 & 0.133 & 0.048 & 0.044 \\\\\n",
      "18 & 0.372 & 0.264 & 0.169 & 0.129 & 0.115 & 0.104 & 0.066 & 0.050 & 0.044 \\\\\n",
      "19 & 0.391 & 0.284 & 0.243 & 0.183 & 0.170 & 0.176 & 0.152 & 0.089 & 0.083 \\\\\n",
      "20 & 2.313 & 0.556 & 0.498 & 0.254 & 0.239 & 0.301 & 0.269 & 0.142 & 0.135 \\\\\n",
      "21 & 0.230 & 0.209 & 0.119 & 0.163 & 0.151 & 0.136 & 0.108 & 0.052 & 0.049 \\\\\n",
      "22 & 2.711 & 0.599 & 0.527 & 0.209 & 0.196 & 0.347 & 0.307 & 0.105 & 0.100 \\\\\n",
      "23 & 0.307 & 0.142 & 0.120 & 0.163 & 0.153 & 0.102 & 0.088 & 0.057 & 0.054 \\\\\n",
      "24 & 0.497 & 12.386 & 10.172 & 1.374 & 0.977 & 5.679 & 4.733 & 0.752 & 0.512 \\\\\n",
      "25 & 0.174 & 0.217 & 0.181 & 0.170 & 0.156 & 0.174 & 0.145 & 0.080 & 0.066 \\\\\n",
      "26 & 0.179 & 0.105 & 0.085 & 0.120 & 0.107 & 0.035 & 0.029 & 0.036 & 0.032 \\\\\n",
      "27 & 0.806 & 5.456 & 4.589 & 0.756 & 0.702 & 2.635 & 2.148 & 0.393 & 0.365 \\\\\n",
      "Min & 0.2 & 1.7 & 1.3 & 1.1 & 1.0 & 0.9 & 0.8 & 1.1 & 1.0 \\\\\n",
      "Max & 27.2 & 494.5 & 93.0 & 7.2 & 3.4 & 285.1 & 45.3 & 3.9 & 1.0 \\\\\n",
      "Average & 5.3 & 27.3 & 10.6 & 2.7 & 2.2 & 15.3 & 5.6 & 1.2 & 1.0 \\\\\n",
      "test.Index,PL_N,PI_N,QL_N,QI_N,PL_R,PI_R,QL_R,QI_R\n",
      "1 & 19 & 83 & 71 & 31 & 31 & 39 & 36 & 4 & 4 \\\\\n",
      "2 & 1 & 67 & 67 & 31 & 31 & 25 & 25 & 15 & 15 \\\\\n",
      "3 & 25 & 84 & 84 & 30 & 30 & 39 & 39 & 7 & 7 \\\\\n",
      "4 & 37 & 89 & 79 & 39 & 35 & 42 & 32 & 10 & 8 \\\\\n",
      "5 & 40 & 63 & 49 & 29 & 29 & 29 & 20 & 6 & 6 \\\\\n",
      "6 & 3 & 15 & 15 & 5 & 5 & 7 & 7 & 3 & 3 \\\\\n",
      "7 & 27 & 57 & 57 & 31 & 31 & 25 & 25 & 6 & 6 \\\\\n",
      "8 & 1 & 7 & 7 & 3 & 3 & 3 & 3 & 3 & 3 \\\\\n",
      "9 & 22 & 522 & 522 & 34 & 34 & 230 & 230 & 11 & 11 \\\\\n",
      "10 & 37 & 534 & 534 & 76 & 76 & 221 & 221 & 30 & 30 \\\\\n",
      "11 & 250 & 157726 & 32660 & 1362 & 430 & 88356 & 15430 & 682 & 183 \\\\\n",
      "12 & 1 & 99 & 99 & 43 & 25 & 37 & 37 & 19 & 14 \\\\\n",
      "13 & 51 & 95 & 95 & 45 & 45 & 41 & 41 & 15 & 15 \\\\\n",
      "14 & 48 & 282 & 214 & 36 & 36 & 124 & 99 & 6 & 6 \\\\\n",
      "15 & 1 & 9 & 9 & 7 & 3 & 5 & 5 & 4 & 3 \\\\\n",
      "16 & 33 & 9459 & 8993 & 119 & 117 & 5184 & 5035 & 64 & 61 \\\\\n",
      "17 & 26 & 89 & 89 & 31 & 31 & 40 & 40 & 7 & 7 \\\\\n",
      "18 & 51 & 93 & 71 & 33 & 33 & 29 & 20 & 7 & 7 \\\\\n",
      "19 & 36 & 77 & 77 & 29 & 29 & 34 & 34 & 7 & 7 \\\\\n",
      "20 & 90 & 114 & 114 & 30 & 30 & 51 & 51 & 11 & 11 \\\\\n",
      "21 & 21 & 59 & 37 & 33 & 33 & 27 & 21 & 5 & 5 \\\\\n",
      "22 & 140 & 142 & 142 & 28 & 28 & 69 & 69 & 7 & 7 \\\\\n",
      "23 & 32 & 36 & 36 & 28 & 28 & 16 & 16 & 5 & 5 \\\\\n",
      "24 & 50 & 4949 & 4919 & 355 & 277 & 2221 & 2206 & 174 & 123 \\\\\n",
      "25 & 21 & 64 & 64 & 34 & 34 & 33 & 33 & 8 & 7 \\\\\n",
      "26 & 19 & 32 & 32 & 30 & 30 & 5 & 5 & 4 & 4 \\\\\n",
      "27 & 102 & 1861 & 1837 & 147 & 147 & 874 & 832 & 63 & 63 \\\\\n",
      "Min & 0.1 & 2.3 & 2.3 & 1.0 & 1.0 & 1.0 & 1.0 & 1.0 & 1.0 \\\\\n",
      "Max & 20.0 & 861.9 & 178.5 & 7.8 & 7.8 & 482.8 & 84.3 & 3.7 & 1.0 \\\\\n",
      "Average & 4.0 & 51.7 & 25.1 & 4.1 & 3.8 & 27.2 & 11.9 & 1.2 & 1.0 \\\\\n"
     ]
    }
   ],
   "source": [
    "from FZCP.test import test_last\n",
    "\n",
    "test_last(df, 1e-5, repeat=100)"
   ],
   "metadata": {
    "collapsed": false,
    "ExecuteTime": {
     "end_time": "2023-08-29T07:04:44.698978Z",
     "start_time": "2023-08-29T07:03:19.896500Z"
    }
   },
   "id": "dd57fb9425ef4396"
  },
  {
   "cell_type": "code",
   "execution_count": null,
   "outputs": [],
   "source": [
    "from FZCP.test import test_alg3\n",
    "\n",
    "test_alg3(df, 1e-5, global_lip=True, repeat=10)"
   ],
   "metadata": {
    "collapsed": false
   },
   "id": "6ee6fc7d7cac9ab8"
  },
  {
   "cell_type": "code",
   "execution_count": null,
   "outputs": [],
   "source": [
    "from FZCP.test import test_alg3\n",
    "\n",
    "test_alg3(df, 1e-5, global_lip=False, repeat=1)"
   ],
   "metadata": {
    "collapsed": false
   },
   "id": "4ed73e8683b4a1b"
  },
  {
   "cell_type": "code",
   "execution_count": null,
   "outputs": [],
   "source": [
    "from FZCP.test import test_casado\n",
    "\n",
    "test_casado(df, 1e-5, repeat=100)"
   ],
   "metadata": {
    "collapsed": false
   },
   "id": "ea6b04a37ebec7f4"
  },
  {
   "cell_type": "code",
   "execution_count": 8,
   "id": "718a3988",
   "metadata": {},
   "outputs": [
    {
     "name": "stdout",
     "output_type": "stream",
     "text": [
      "1\n",
      "error d>b\n",
      "a= 3.0116907417774206 b= 3.0116908431053164 c= 3.0116908320426967 d= 3.0116908444430215 delt= 1.2400324568309995e-08 fa= 1.412606653872217e-07 fb= -3.4777202362334947e-07 alp= -3.4459101490553135 beta= 3.4459101490553135\n",
      "PSQE, Lipschitz interval: TestResult(nsteps=41, first_crossing_zero_point=[3.0116907417774206])\n",
      "time= 0.000310583011014387\n",
      "Casado: TestResult(nsteps=26, first_crossing_zero_point=[3.011690792344809])\n",
      "time= 0.0003095419961027801\n",
      "2\n",
      "PSQE, Lipschitz interval: TestResult(nsteps=31, first_crossing_zero_point=[])\n",
      "time= 0.0002435839851386845\n",
      "Casado: TestResult(nsteps=1, first_crossing_zero_point=[])\n",
      "time= 1.8041988369077444e-05\n",
      "3\n",
      "PSQE, Lipschitz interval: TestResult(nsteps=42, first_crossing_zero_point=[1.1747961461544036])\n",
      "time= 0.0002727080136537552\n",
      "Casado: TestResult(nsteps=33, first_crossing_zero_point=[1.1747961554858224])\n",
      "time= 0.0002772080188151449\n",
      "4\n",
      "PSQE, Lipschitz interval: TestResult(nsteps=50, first_crossing_zero_point=[2.9609137624502173])\n",
      "time= 0.00036504201125353575\n",
      "Casado: TestResult(nsteps=43, first_crossing_zero_point=[2.9609137754173322])\n",
      "time= 0.0006029579963069409\n",
      "5\n",
      "PSQE, Lipschitz interval: TestResult(nsteps=42, first_crossing_zero_point=[0.8209239214658738])\n",
      "time= 0.0001882920041680336\n",
      "Casado: TestResult(nsteps=58, first_crossing_zero_point=[0.8209239836450141])\n",
      "time= 0.00038425001548603177\n",
      "6\n",
      "PSQE, Lipschitz interval: TestResult(nsteps=5, first_crossing_zero_point=[])\n",
      "time= 4.862502100877464e-05\n",
      "Casado: TestResult(nsteps=3, first_crossing_zero_point=[])\n",
      "time= 2.670797402970493e-05\n",
      "7\n",
      "PSQE, Lipschitz interval: TestResult(nsteps=40, first_crossing_zero_point=[1.3407544702291485])\n",
      "time= 0.000270042015472427\n",
      "Casado: TestResult(nsteps=43, first_crossing_zero_point=[1.3407545235916056])\n",
      "time= 0.0005677499866578728\n",
      "8\n",
      "PSQE, Lipschitz interval: TestResult(nsteps=3, first_crossing_zero_point=[])\n",
      "time= 4.6542001655325294e-05\n",
      "Casado: TestResult(nsteps=1, first_crossing_zero_point=[])\n",
      "time= 1.6792007954791188e-05\n",
      "9\n",
      "PSQE, Lipschitz interval: TestResult(nsteps=43, first_crossing_zero_point=[3.1415926486253736])\n",
      "time= 0.0002465000143274665\n",
      "Casado: TestResult(nsteps=32, first_crossing_zero_point=[3.1415926423645497])\n",
      "time= 0.0002615830162540078\n",
      "10\n",
      "PSQE, Lipschitz interval: TestResult(nsteps=87, first_crossing_zero_point=[1.2655388742685325])\n",
      "time= 0.00041354101267643273\n",
      "Casado: TestResult(nsteps=45, first_crossing_zero_point=[1.2655388950400612])\n",
      "time= 0.0004773339896928519\n",
      "11\n",
      "PSQE, Lipschitz interval: TestResult(nsteps=1372, first_crossing_zero_point=[1.3646464228630069])\n",
      "time= 0.00481337500968948\n",
      "Casado: TestResult(nsteps=373, first_crossing_zero_point=[1.3646464686852167])\n",
      "time= 0.0025585830153431743\n",
      "12\n",
      "PSQE, Lipschitz interval: TestResult(nsteps=43, first_crossing_zero_point=[])\n",
      "time= 0.0002375839976593852\n",
      "Casado: TestResult(nsteps=1, first_crossing_zero_point=[])\n",
      "time= 1.3874989235773683e-05\n",
      "13\n",
      "PSQE, Lipschitz interval: TestResult(nsteps=55, first_crossing_zero_point=[4.783076751232146])\n",
      "time= 0.0005690419930033386\n",
      "Casado: TestResult(nsteps=62, first_crossing_zero_point=[4.783076752203064])\n",
      "time= 0.001787624991266057\n",
      "14\n",
      "PSQE, Lipschitz interval: TestResult(nsteps=48, first_crossing_zero_point=[3.28111974298954])\n",
      "time= 0.00024045800091698766\n",
      "Casado: TestResult(nsteps=64, first_crossing_zero_point=[3.281119783822789])\n",
      "time= 0.0006467500061262399\n",
      "15\n",
      "PSQE, Lipschitz interval: TestResult(nsteps=7, first_crossing_zero_point=[])\n",
      "time= 8.23330192361027e-05\n",
      "Casado: TestResult(nsteps=1, first_crossing_zero_point=[])\n",
      "time= 1.3707991456612945e-05\n",
      "16\n",
      "PSQE, Lipschitz interval: TestResult(nsteps=62, first_crossing_zero_point=[3.1415925979614254])\n",
      "time= 0.0003817089891526848\n",
      "Casado: TestResult(nsteps=33, first_crossing_zero_point=[3.1415926393616562])\n",
      "time= 0.0002795000036712736\n",
      "17\n",
      "PSQE, Lipschitz interval: TestResult(nsteps=39, first_crossing_zero_point=[1.5707963049411773])\n",
      "time= 0.0002090419875457883\n",
      "Casado: TestResult(nsteps=34, first_crossing_zero_point=[1.570796310289236])\n",
      "time= 0.00033000000985339284\n",
      "18\n",
      "PSQE, Lipschitz interval: TestResult(nsteps=44, first_crossing_zero_point=[1.9685712218284608])\n",
      "time= 0.0002047500165645033\n",
      "Casado: TestResult(nsteps=55, first_crossing_zero_point=[1.968571252696047])\n",
      "time= 0.0004343329928815365\n",
      "19\n",
      "PSQE, Lipschitz interval: TestResult(nsteps=37, first_crossing_zero_point=[1.140713596343994])\n",
      "time= 0.00026450000586919487\n",
      "Casado: TestResult(nsteps=43, first_crossing_zero_point=[1.140713589111921])\n",
      "time= 0.0004932500014547259\n",
      "20\n",
      "PSQE, Lipschitz interval: TestResult(nsteps=39, first_crossing_zero_point=[-9.140465259552002])\n",
      "time= 0.0004320419975556433\n",
      "Casado: TestResult(nsteps=112, first_crossing_zero_point=[-9.140465245629457])\n",
      "time= 0.003368750010849908\n",
      "21\n",
      "PSQE, Lipschitz interval: TestResult(nsteps=42, first_crossing_zero_point=[0.14716169685125352])\n",
      "time= 0.000281583983451128\n",
      "Casado: TestResult(nsteps=29, first_crossing_zero_point=[0.1471617072148982])\n",
      "time= 0.00030583300394937396\n",
      "22\n",
      "PSQE, Lipschitz interval: TestResult(nsteps=40, first_crossing_zero_point=[-9.817477092146873])\n",
      "time= 0.00032720898161642253\n",
      "Casado: TestResult(nsteps=209, first_crossing_zero_point=[-9.81747702742065])\n",
      "time= 0.00329279201105237\n",
      "23\n",
      "PSQE, Lipschitz interval: TestResult(nsteps=38, first_crossing_zero_point=[0.092379629611969])\n",
      "time= 0.00023495798814110458\n",
      "Casado: TestResult(nsteps=37, first_crossing_zero_point=[0.09237963493234966])\n",
      "time= 0.0003469160001259297\n",
      "24\n",
      "PSQE, Lipschitz interval: TestResult(nsteps=365, first_crossing_zero_point=[1.2583425641059875])\n",
      "time= 0.001465584005927667\n",
      "Casado: TestResult(nsteps=65, first_crossing_zero_point=[1.2583426195881757])\n",
      "time= 0.0006242500094231218\n",
      "25\n",
      "PSQE, Lipschitz interval: TestResult(nsteps=45, first_crossing_zero_point=[-2.0943951159715652])\n",
      "time= 0.0002474590146448463\n",
      "Casado: TestResult(nsteps=25, first_crossing_zero_point=[-2.094395081425254])\n",
      "time= 0.0002090419875457883\n",
      "26\n",
      "PSQE, Lipschitz interval: TestResult(nsteps=41, first_crossing_zero_point=[1.0353962406516075])\n",
      "time= 0.0001830840192269534\n",
      "Casado: TestResult(nsteps=23, first_crossing_zero_point=[1.0353963392837082])\n",
      "time= 0.00021437500254251063\n",
      "27\n",
      "PSQE, Lipschitz interval: TestResult(nsteps=158, first_crossing_zero_point=[-0.8002343028783798])\n",
      "time= 0.0008584170136600733\n",
      "Casado: TestResult(nsteps=143, first_crossing_zero_point=[-0.800234227967384])\n",
      "time= 0.001065958000253886\n"
     ]
    }
   ],
   "source": [
    "for test in df.itertuples():\n",
    "    print(test.Index)\n",
    "    points_db[test.Index] = {'psl_lipint_points_list': [], 'psl_lip_points_list': [], 'psqe_lipint_points_list': [],\n",
    "                             'psqe_lip_points_list': [], 'bnb2_pslint_points_list': [], 'bnb2_psl_points_list': [],\n",
    "                             'bnb2_lipint_points_list': [],\n",
    "                             'bnb2_lip_points_list': []}\n",
    "\n",
    "    # #\n",
    "    # T1 = time.perf_counter()\n",
    "    # prob = uvpr.UniVarProblem(test.Index, test.objective, test.a, test.b, test.min_f, test.min_x,\n",
    "    #                           lambda x: log_point(x, points_db[test.Index]['bnb2_psl_points_list']))\n",
    "    # print('Piyavskii, Lipschitz constant:',\n",
    "    #       sfzcp.new_method(prob, symm=True, epsilon=1e-5, global_lipschitz_interval=False, estimator=1))\n",
    "    # T2 = time.perf_counter()\n",
    "    # print('time=', T2 - T1)\n",
    "    #\n",
    "    # T1 = time.perf_counter()\n",
    "    # prob = uvpr.UniVarProblem(test.Index, test.objective, test.a, test.b, test.min_f, test.min_x,\n",
    "    #                           lambda x: log_point(x, points_db[test.Index]['bnb2_pslint_points_list']))\n",
    "    # print('Piyavskii, Lipschitz interval:',\n",
    "    #       sfzcp.new_method(prob, symm=False, epsilon=1e-5, global_lipschitz_interval=False, estimator=1))\n",
    "    # T2 = time.perf_counter()\n",
    "    # print('time=', T2 - T1)\n",
    "    #\n",
    "    # T1 = time.perf_counter()\n",
    "    # prob = uvpr.UniVarProblem(test.Index, test.objective, test.a, test.b, test.min_f, test.min_x,\n",
    "    #                           lambda x: log_point(x, points_db[test.Index]['bnb2_lip_points_list']))\n",
    "    # print('PSQE, Lipschitz constant:',\n",
    "    #       sfzcp.new_method(prob, symm=True, epsilon=1e-5, global_lipschitz_interval=False, estimator=2))\n",
    "    # T2 = time.perf_counter()\n",
    "    # print('time=', T2 - T1)\n",
    "\n",
    "    prob = uvpr.UniVarProblem(test.Index, test.objective, test.a, test.b, test.min_f, test.min_x,\n",
    "                              lambda x: log_point(x, points_db[test.Index]['bnb2_lipint_points_list']))\n",
    "\n",
    "    T1 = time.perf_counter()\n",
    "    print('PSQE, Lipschitz interval:',\n",
    "          sfzcp.new_method(prob, symm=True, epsilon=1e-7, global_lipschitz_interval=True, estimator=2, reduction=0))\n",
    "    T2 = time.perf_counter()\n",
    "    print('time=', T2 - T1)\n",
    "\n",
    "    T1 = time.perf_counter()\n",
    "    print('Casado:',\n",
    "          sfzcp.cas(prob=prob, sym=True, epsilon=1e-7))\n",
    "    T2 = time.perf_counter()\n",
    "    print('time=', T2 - T1)\n",
    "    # T1 = time.perf_counter()\n",
    "    # print('Casado:', sfzcp.cas(prob, epsilon=1e-5))\n",
    "    # T2 = time.perf_counter()\n",
    "    # print('time=', T2 - T1)"
   ]
  },
  {
   "cell_type": "code",
   "execution_count": null,
   "outputs": [],
   "source": [
    "print('test.Index,PC_N,PI_N,QC_N,QI_N,PC_R,PI_R,QC_R,QI_R')\n",
    "eps = 1e-7\n",
    "min_list = (float('inf'),) * 8\n",
    "max_list = (0,) * 8\n",
    "sum_list = (0,) * 8\n",
    "for test in df.itertuples():\n",
    "    points_db[test.Index] = {'bnb2_pslint_points_list': []}\n",
    "    prob = uvpr.UniVarProblem(test.Index, test.objective, test.a, test.b, test.min_f, test.min_x,\n",
    "                              lambda x: log_point(x, points_db[test.Index]['bnb2_pslint_points_list']))\n",
    "    T1 = time.perf_counter()\n",
    "    PC_N = sfzcp.new_method(prob, symm=True, epsilon=eps, global_lipschitz_interval=True, estimator=1,\n",
    "                            reduction=False).nsteps\n",
    "    T2 = time.perf_counter()\n",
    "    time_PC_N = T2 - T1\n",
    "    min_list[0] = min(min_list[0], T2 - T1)\n",
    "    max_list[0] = max(max_list[0], T2 - T1)\n",
    "    sum_list[0] += T2 - T1\n",
    "    T1 = time.perf_counter()\n",
    "    PI_N = sfzcp.new_method(prob, symm=False, epsilon=eps, global_lipschitz_interval=True, estimator=1,\n",
    "                            reduction=False).nsteps\n",
    "    T2 = time.perf_counter()\n",
    "    time_PI_N = T2 - T1\n",
    "    min_list[1] = min(min_list[1], T2 - T1)\n",
    "    max_list[1] = max(max_list[1], T2 - T1)\n",
    "    sum_list[1] += T2 - T1\n",
    "    T1 = time.perf_counter()\n",
    "    QC_N = sfzcp.new_method(prob, symm=True, epsilon=eps, global_lipschitz_interval=True, estimator=2,\n",
    "                            reduction=False).nsteps\n",
    "    T2 = time.perf_counter()\n",
    "    time_QC_N = T2 - T1\n",
    "    min_list[2] = min(min_list[2], T2 - T1)\n",
    "    max_list[2] = max(max_list[2], T2 - T1)\n",
    "    sum_list[2] += T2 - T1\n",
    "    T1 = time.perf_counter()\n",
    "    QI_N = sfzcp.new_method(prob, symm=False, epsilon=eps, global_lipschitz_interval=True, estimator=2,\n",
    "                            reduction=False).nsteps\n",
    "    T2 = time.perf_counter()\n",
    "    time_QI_N = T2 - T1\n",
    "    min_list[3] = min(min_list[3], T2 - T1)\n",
    "    max_list[3] = max(max_list[3], T2 - T1)\n",
    "    sum_list[3] += T2 - T1\n",
    "    T1 = time.perf_counter()\n",
    "    PC_R = sfzcp.new_method(prob, symm=True, epsilon=eps, global_lipschitz_interval=True, estimator=1,\n",
    "                            reduction=True).nsteps\n",
    "    T2 = time.perf_counter()\n",
    "    time_PC_R = T2 - T1\n",
    "    min_list[4] = min(min_list[4], T2 - T1)\n",
    "    max_list[4] = max(max_list[4], T2 - T1)\n",
    "    sum_list[4] += T2 - T1\n",
    "    T1 = time.perf_counter()\n",
    "    PI_R = sfzcp.new_method(prob, symm=False, epsilon=eps, global_lipschitz_interval=True, estimator=1,\n",
    "                            reduction=True).nsteps\n",
    "    T2 = time.perf_counter()\n",
    "    time_PI_R = T2 - T1\n",
    "    min_list[5] = min(min_list[5], T2 - T1)\n",
    "    max_list[5] = max(max_list[5], T2 - T1)\n",
    "    sum_list[5] += T2 - T1\n",
    "    T1 = time.perf_counter()\n",
    "    QC_R = sfzcp.new_method(prob, symm=True, epsilon=eps, global_lipschitz_interval=True, estimator=2,\n",
    "                            reduction=True).nsteps\n",
    "    T2 = time.perf_counter()\n",
    "    time_QC_R = T2 - T1\n",
    "    min_list[6] = min(min_list[6], T2 - T1)\n",
    "    max_list[6] = max(max_list[6], T2 - T1)\n",
    "    sum_list[6] += T2 - T1\n",
    "    T1 = time.perf_counter()\n",
    "    QI_R = sfzcp.new_method(prob, symm=False, epsilon=eps, global_lipschitz_interval=True, estimator=2,\n",
    "                            reduction=True).nsteps\n",
    "    T2 = time.perf_counter()\n",
    "    time_QI_R = T2 - T1\n",
    "    min_list[7] = min(min_list[7], T2 - T1)\n",
    "    max_list[7] = max(max_list[7], T2 - T1)\n",
    "    sum_list[7] += T2 - T1\n",
    "\n",
    "    # print('%s & %d & %d & %d & %d & %d & %d & %d & %d \\\\\\\\' %(test.Index,PC_N,PI_N,QC_N,QI_N,PC_R,PI_R,QC_R,QI_R))\n",
    "    print('%s & %.5f & %.5f & %.5f & %.5f & %.5f & %.5f & %.5f & %.5f \\\\\\\\' % (\n",
    "        test.Index, time_PC_N, time_PI_N, time_QC_N, time_QI_N, time_PC_R, time_PI_R, time_QC_R, time_QI_R))"
   ],
   "metadata": {
    "collapsed": false
   },
   "id": "83a1349494e0da9c"
  },
  {
   "cell_type": "code",
   "execution_count": null,
   "outputs": [],
   "source": [
    "print('test.Index,PC_N,PI_N,QC_N,QI_N,PC_R,PI_R,QC_R,QI_R')\n",
    "eps = 1e-7\n",
    "for test in df.itertuples():\n",
    "    points_db[test.Index] = {'bnb2_pslint_points_list': []}\n",
    "    prob = uvpr.UniVarProblem(test.Index, test.objective, test.a, test.b, test.min_f, test.min_x,\n",
    "                              lambda x: log_point(x, points_db[test.Index]['bnb2_pslint_points_list']))\n",
    "    PC_N = sfzcp.new_method(prob, symm=True, epsilon=eps, global_lipschitz_interval=True, estimator=1,\n",
    "                            reduction=False).nsteps\n",
    "\n",
    "    PI_N = sfzcp.new_method(prob, symm=False, epsilon=eps, global_lipschitz_interval=True, estimator=1,\n",
    "                            reduction=False).nsteps\n",
    "    QC_N = sfzcp.new_method(prob, symm=True, epsilon=eps, global_lipschitz_interval=True, estimator=2,\n",
    "                            reduction=False).nsteps\n",
    "    QI_N = sfzcp.new_method(prob, symm=False, epsilon=eps, global_lipschitz_interval=True, estimator=2,\n",
    "                            reduction=False).nsteps\n",
    "\n",
    "    PC_R = sfzcp.new_method(prob, symm=True, epsilon=eps, global_lipschitz_interval=True, estimator=1,\n",
    "                            reduction=True).nsteps\n",
    "    PI_R = sfzcp.new_method(prob, symm=False, epsilon=eps, global_lipschitz_interval=True, estimator=1,\n",
    "                            reduction=True).nsteps\n",
    "    QC_R = sfzcp.new_method(prob, symm=True, epsilon=eps, global_lipschitz_interval=True, estimator=2,\n",
    "                            reduction=True).nsteps\n",
    "    QI_R = sfzcp.new_method(prob, symm=False, epsilon=eps, global_lipschitz_interval=True, estimator=2,\n",
    "                            reduction=True).nsteps\n",
    "\n",
    "    print('%s & %d & %d & %d & %d & %d & %d & %d & %d \\\\\\\\' % (\n",
    "        test.Index, PC_N, PI_N, QC_N, QI_N, PC_R, PI_R, QC_R, QI_R))\n",
    "    # P: Piyavskii estimator\n",
    "    # Q: Piecewise smooth quadratic estimator\n",
    "    # C: Lipschitz constant\n",
    "    # I: Lipschitz interval\n",
    "    # N: without reduction\n",
    "    # R: with reduction"
   ],
   "metadata": {
    "collapsed": false
   },
   "id": "76bc0a96109b1114"
  },
  {
   "cell_type": "code",
   "execution_count": null,
   "id": "30ffa037",
   "metadata": {},
   "outputs": [],
   "source": [
    "def vis_trials(points_list, num_series, base_level):\n",
    "    poix = np.array(list(set(points_list[::skip])))\n",
    "    poiy = np.full(len(poix), base_level + num_series * -0.5)\n",
    "    up.plot_points(poix, poiy, num_series)"
   ]
  },
  {
   "cell_type": "code",
   "execution_count": null,
   "id": "3bb0b182",
   "metadata": {},
   "outputs": [],
   "source": [
    "for test in df.itertuples():\n",
    "    print(test)\n",
    "    prob = uvpr.UniVarProblem(test.Index, test.objective, test.a, test.b, test.min_f, test.min_x)\n",
    "    up.plot_problem(prob, {'function': 'b-'}, legend=legend_size)\n",
    "    vis_trials(points_db[test.Index]['bnb2_psl_points_list'], 0, plt.ylim()[0] + legend_size)\n",
    "    vis_trials(points_db[test.Index]['bnb2_pslint_points_list'], 1, plt.ylim()[0] + legend_size)\n",
    "    vis_trials(points_db[test.Index]['bnb2_lip_points_list'], 2, plt.ylim()[0] + legend_size)\n",
    "    vis_trials(points_db[test.Index]['bnb2_lipint_points_list'], 3, plt.ylim()[0] + legend_size)\n",
    "    # vis_trials(points_db[test.Index]['psl_lipint_points_list'], 4, plt.ylim()[0] + legend_size)\n",
    "    # vis_trials(points_db[test.Index]['psl_lip_points_list'], 5, plt.ylim()[0] + legend_size)\n",
    "    #     print(\"ylim = \", plt.ylim()[0])\n",
    "    file_name = test.Index + '.png'\n",
    "    plt.savefig(file_name, dpi=500)\n",
    "    plt.show()"
   ]
  },
  {
   "cell_type": "code",
   "execution_count": null,
   "id": "8aec4782",
   "metadata": {},
   "outputs": [],
   "source": []
  },
  {
   "cell_type": "code",
   "execution_count": null,
   "id": "7f859061",
   "metadata": {},
   "outputs": [],
   "source": []
  }
 ],
 "metadata": {
  "kernelspec": {
   "display_name": "Python 3 (ipykernel)",
   "language": "python",
   "name": "python3"
  },
  "language_info": {
   "codemirror_mode": {
    "name": "ipython",
    "version": 3
   },
   "file_extension": ".py",
   "mimetype": "text/x-python",
   "name": "python",
   "nbconvert_exporter": "python",
   "pygments_lexer": "ipython3",
   "version": "3.10.4"
  }
 },
 "nbformat": 4,
 "nbformat_minor": 5
}
