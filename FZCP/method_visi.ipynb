{
 "cells": [
  {
   "cell_type": "code",
   "execution_count": 1,
   "id": "7c5d7d43",
   "metadata": {},
   "outputs": [],
   "source": [
    "import sys\n",
    "import time\n",
    "\n",
    "sys.path.append(\"..\")\n",
    "import uniplot as up\n",
    "import pandas as pd\n",
    "import numpy as np\n",
    "import matplotlib.pyplot as plt\n",
    "import solv_fzcp as sfzcp\n",
    "import uvarprob as uvpr"
   ]
  },
  {
   "cell_type": "code",
   "execution_count": 2,
   "id": "da4a032c",
   "metadata": {},
   "outputs": [],
   "source": [
    "test_file = \"../tst2.csv\""
   ]
  },
  {
   "cell_type": "code",
   "execution_count": 3,
   "id": "57431414",
   "metadata": {},
   "outputs": [],
   "source": [
    "# Maximal number of steps\n",
    "max_steps = 1e6\n",
    "# Tolerance\n",
    "epsilon = 1e-2\n",
    "# If True - global Lipschitz constant is used\n",
    "global_lipschitz_interval = True\n",
    "# If True - the record value is taken from the test database\n",
    "known_record = False\n",
    "# How many points to skip in vizualization - regular step\n",
    "skip = 1000\n",
    "# The size of the legend in plots\n",
    "legend_size = 2"
   ]
  },
  {
   "cell_type": "code",
   "execution_count": 4,
   "id": "0a503d18",
   "metadata": {},
   "outputs": [],
   "source": [
    "def read_problems(fname):\n",
    "    data = pd.read_csv(fname, index_col='name', comment='#')\n",
    "    return data"
   ]
  },
  {
   "cell_type": "code",
   "execution_count": 5,
   "id": "ea8c08bf",
   "metadata": {},
   "outputs": [
    {
     "data": {
      "text/plain": "                                              objective    a     b  min_f  \\\nname                                                                        \n1                                   x^3+2.*x+cos(10.*x) -3.0   3.0      0   \n2                                 -(x^2.)*sin(1.*x)+1.0  0.2   7.0      0   \n3                             (3.*x-1.4)*sin(18.*x)+1.7  0.0   7.0      0   \n4                                     (x+ 1.)^3/x^2-7.1  0.1   7.0      0   \n5                                       sin(x)/x+cos(x)  0.1  10.0      0   \n6                      x^3-3.0*x^2+2.0*x+5.0*sin(5.0*x) -5.0   5.0      0   \n7      1/16.0*x^6 - 3/5.0*x^5 - 13/2.0 * x^4 + 211/1... -5.0   5.0      0   \n8                                      log(x)+1.0/x^2-2  0.1  10.0      0   \n9      x^7 + x^6 - 3.0*x^5 - 10.0*x^4 + 14.0*x^3 - 1... -5.0   5.0      0   \n10     x^8 - x^7 + 2.0*x^6 - 11.0*x^5 + 21.0*x^4 - 3... -5.0   5.0      0   \n\n      min_x  \nname         \n1         0  \n2         0  \n3         0  \n4         0  \n5         0  \n6         0  \n7         0  \n8         0  \n9         0  \n10        0  ",
      "text/html": "<div>\n<style scoped>\n    .dataframe tbody tr th:only-of-type {\n        vertical-align: middle;\n    }\n\n    .dataframe tbody tr th {\n        vertical-align: top;\n    }\n\n    .dataframe thead th {\n        text-align: right;\n    }\n</style>\n<table border=\"1\" class=\"dataframe\">\n  <thead>\n    <tr style=\"text-align: right;\">\n      <th></th>\n      <th>objective</th>\n      <th>a</th>\n      <th>b</th>\n      <th>min_f</th>\n      <th>min_x</th>\n    </tr>\n    <tr>\n      <th>name</th>\n      <th></th>\n      <th></th>\n      <th></th>\n      <th></th>\n      <th></th>\n    </tr>\n  </thead>\n  <tbody>\n    <tr>\n      <th>1</th>\n      <td>x^3+2.*x+cos(10.*x)</td>\n      <td>-3.0</td>\n      <td>3.0</td>\n      <td>0</td>\n      <td>0</td>\n    </tr>\n    <tr>\n      <th>2</th>\n      <td>-(x^2.)*sin(1.*x)+1.0</td>\n      <td>0.2</td>\n      <td>7.0</td>\n      <td>0</td>\n      <td>0</td>\n    </tr>\n    <tr>\n      <th>3</th>\n      <td>(3.*x-1.4)*sin(18.*x)+1.7</td>\n      <td>0.0</td>\n      <td>7.0</td>\n      <td>0</td>\n      <td>0</td>\n    </tr>\n    <tr>\n      <th>4</th>\n      <td>(x+ 1.)^3/x^2-7.1</td>\n      <td>0.1</td>\n      <td>7.0</td>\n      <td>0</td>\n      <td>0</td>\n    </tr>\n    <tr>\n      <th>5</th>\n      <td>sin(x)/x+cos(x)</td>\n      <td>0.1</td>\n      <td>10.0</td>\n      <td>0</td>\n      <td>0</td>\n    </tr>\n    <tr>\n      <th>6</th>\n      <td>x^3-3.0*x^2+2.0*x+5.0*sin(5.0*x)</td>\n      <td>-5.0</td>\n      <td>5.0</td>\n      <td>0</td>\n      <td>0</td>\n    </tr>\n    <tr>\n      <th>7</th>\n      <td>1/16.0*x^6 - 3/5.0*x^5 - 13/2.0 * x^4 + 211/1...</td>\n      <td>-5.0</td>\n      <td>5.0</td>\n      <td>0</td>\n      <td>0</td>\n    </tr>\n    <tr>\n      <th>8</th>\n      <td>log(x)+1.0/x^2-2</td>\n      <td>0.1</td>\n      <td>10.0</td>\n      <td>0</td>\n      <td>0</td>\n    </tr>\n    <tr>\n      <th>9</th>\n      <td>x^7 + x^6 - 3.0*x^5 - 10.0*x^4 + 14.0*x^3 - 1...</td>\n      <td>-5.0</td>\n      <td>5.0</td>\n      <td>0</td>\n      <td>0</td>\n    </tr>\n    <tr>\n      <th>10</th>\n      <td>x^8 - x^7 + 2.0*x^6 - 11.0*x^5 + 21.0*x^4 - 3...</td>\n      <td>-5.0</td>\n      <td>5.0</td>\n      <td>0</td>\n      <td>0</td>\n    </tr>\n  </tbody>\n</table>\n</div>"
     },
     "execution_count": 5,
     "metadata": {},
     "output_type": "execute_result"
    }
   ],
   "source": [
    "df = read_problems(test_file)\n",
    "df"
   ]
  },
  {
   "cell_type": "code",
   "execution_count": 6,
   "id": "8d88eefa",
   "metadata": {},
   "outputs": [],
   "source": [
    "points_db = {}\n",
    "psl_lipint_points_list = []\n",
    "psl_lip_points_list = []\n",
    "psqe_lipint_points_list = []\n",
    "psqe_lip_points_list = []\n",
    "bnb2_lipint_points_list = []\n",
    "bnb2_lip_points_list = []"
   ]
  },
  {
   "cell_type": "code",
   "execution_count": 7,
   "id": "67100fbe",
   "metadata": {},
   "outputs": [],
   "source": [
    "def log_point(x, points_list):\n",
    "    points_list.append(x)"
   ]
  },
  {
   "cell_type": "code",
   "execution_count": 13,
   "outputs": [
    {
     "name": "stdout",
     "output_type": "stream",
     "text": [
      "test.Index,PC_N,PI_N,QC_N,QI_N,PC_R,PI_R,QC_R,QI_R\n",
      "1 & 0.00059 & 0.00045 & 0.00036 & 0.00035 & 0.00019 & 0.00017 & 0.00013 & 0.00012 \\\\\n",
      "2 & 0.00044 & 0.00036 & 0.00049 & 0.00048 & 0.00018 & 0.00018 & 0.00016 & 0.00016 \\\\\n",
      "3 & 0.00057 & 0.00050 & 0.00050 & 0.00050 & 0.00032 & 0.00027 & 0.00023 & 0.00023 \\\\\n",
      "4 & 0.00059 & 0.00046 & 0.00069 & 0.00063 & 0.00041 & 0.00034 & 0.00036 & 0.00032 \\\\\n",
      "5 & 0.00045 & 0.00039 & 0.00064 & 0.00060 & 0.00018 & 0.00016 & 0.00023 & 0.00036 \\\\\n",
      "6 & 0.00242 & 0.00239 & 0.00030 & 0.00028 & 0.00026 & 0.00037 & 0.00015 & 0.00013 \\\\\n",
      "7 & 0.00051 & 0.00040 & 0.00034 & 0.00032 & 0.00024 & 0.00019 & 0.00013 & 0.00011 \\\\\n",
      "8 & 0.00028 & 0.00020 & 0.00028 & 0.00024 & 0.00012 & 0.00011 & 0.00012 & 0.00011 \\\\\n",
      "9 & 0.00125 & 0.00081 & 0.00083 & 0.00080 & 0.00066 & 0.00059 & 0.00049 & 0.00038 \\\\\n",
      "10 & 0.00113 & 0.00060 & 0.00106 & 0.00077 & 0.00056 & 0.00043 & 0.00052 & 0.00034 \\\\\n",
      "Min & 1.2 & 1.1 & 1.8 & 1.7 & 0.5 & 0.4 & 0.6 & 1.0 \\\\\n",
      "Max & 18.4 & 18.2 & 3.2 & 3.0 & 2.2 & 2.8 & 1.5 & 1.0 \\\\\n",
      "Average & 4.6 & 3.9 & 2.6 & 2.4 & 1.5 & 1.4 & 1.1 & 1.0 \\\\\n",
      "test.Index,PC_N,PI_N,QC_N,QI_N,PC_R,PI_R,QC_R,QI_R\n",
      "1 & 43 & 37 & 33 & 33 & 10 & 8 & 8 & 8 \\\\\n",
      "2 & 36 & 30 & 30 & 30 & 8 & 8 & 5 & 5 \\\\\n",
      "3 & 49 & 43 & 39 & 39 & 20 & 18 & 14 & 14 \\\\\n",
      "4 & 57 & 47 & 43 & 41 & 28 & 23 & 15 & 13 \\\\\n",
      "5 & 43 & 41 & 41 & 39 & 11 & 10 & 8 & 7 \\\\\n",
      "6 & 42 & 30 & 30 & 30 & 17 & 14 & 9 & 9 \\\\\n",
      "7 & 37 & 31 & 27 & 27 & 12 & 10 & 7 & 6 \\\\\n",
      "8 & 41 & 31 & 35 & 31 & 9 & 9 & 8 & 7 \\\\\n",
      "9 & 61 & 41 & 41 & 39 & 22 & 19 & 16 & 13 \\\\\n",
      "10 & 56 & 30 & 44 & 32 & 17 & 13 & 16 & 9 \\\\\n",
      "Min & 3.5 & 3.1 & 2.8 & 2.8 & 1.2 & 1.0 & 1.0 & 1.0 \\\\\n",
      "Max & 7.2 & 6.0 & 6.0 & 6.0 & 2.2 & 1.8 & 1.8 & 1.0 \\\\\n",
      "Average & 5.4 & 4.3 & 4.3 & 4.0 & 1.7 & 1.4 & 1.2 & 1.0 \\\\\n"
     ]
    }
   ],
   "source": [
    "from FZCP.test import test_alg2\n",
    "\n",
    "test_alg2(df, 1e-5, global_lip=False, repeat=10)"
   ],
   "metadata": {
    "collapsed": false
   }
  },
  {
   "cell_type": "code",
   "execution_count": 14,
   "outputs": [
    {
     "name": "stdout",
     "output_type": "stream",
     "text": [
      "test.Index,PC_2,PI_2,QC_2,QI_2,PC_3,PI_3,QC_3,QI_3\n",
      "1 & 0.00032 & 0.00019 & 0.00011 & 0.00010 & 0.00034 & 0.00018 & 0.00011 & 0.00009 \\\\\n",
      "2 & 0.00079 & 0.00060 & 0.00010 & 0.00009 & 0.00087 & 0.00069 & 0.00009 & 0.00008 \\\\\n",
      "3 & 0.00080 & 0.00066 & 0.00020 & 0.00019 & 0.00131 & 0.00091 & 0.00028 & 0.00023 \\\\\n",
      "4 & 0.42751 & 0.07689 & 0.00943 & 0.00164 & 0.61006 & 0.10708 & 0.01406 & 0.00245 \\\\\n",
      "5 & 0.00148 & 0.00127 & 0.00026 & 0.00024 & 0.00211 & 0.00175 & 0.00034 & 0.00031 \\\\\n",
      "6 & 0.00088 & 0.00055 & 0.00008 & 0.00007 & 0.00131 & 0.00075 & 0.00008 & 0.00008 \\\\\n",
      "7 & 0.00138 & 0.00117 & 0.00008 & 0.00008 & 0.00195 & 0.00159 & 0.00010 & 0.00010 \\\\\n",
      "8 & 0.00325 & 0.00016 & 0.00021 & 0.00006 & 0.00478 & 0.00019 & 0.00025 & 0.00007 \\\\\n",
      "9 & 0.16594 & 0.08185 & 0.00095 & 0.00088 & 0.24684 & 0.12016 & 0.00134 & 0.00122 \\\\\n",
      "10 & 0.29113 & 0.24861 & 0.00150 & 0.00070 & 0.43150 & 0.36041 & 0.00219 & 0.00098 \\\\\n",
      "Min & 3.4 & 2.0 & 0.8 & 0.7 & 3.6 & 1.9 & 1.0 & 1.0 \\\\\n",
      "Max & 297.3 & 253.9 & 3.8 & 1.1 & 440.7 & 368.1 & 5.7 & 1.0 \\\\\n",
      "Average & 70.4 & 39.1 & 1.5 & 0.9 & 102.8 & 56.0 & 2.0 & 1.0 \\\\\n",
      "test.Index,PC_N,PI_N,QC_N,QI_N,PC_R,PI_R,QC_R,QI_R\n",
      "1 & 43 & 27 & 8 & 8 & 43 & 27 & 8 & 8 \\\\\n",
      "2 & 181 & 181 & 8 & 8 & 181 & 181 & 8 & 8 \\\\\n",
      "3 & 271 & 271 & 39 & 39 & 271 & 271 & 39 & 39 \\\\\n",
      "4 & 219246 & 41966 & 2723 & 508 & 219246 & 41966 & 2723 & 508 \\\\\n",
      "5 & 501 & 501 & 45 & 45 & 501 & 501 & 45 & 45 \\\\\n",
      "6 & 309 & 207 & 11 & 11 & 309 & 207 & 10 & 10 \\\\\n",
      "7 & 450 & 439 & 11 & 12 & 450 & 439 & 11 & 12 \\\\\n",
      "8 & 1190 & 50 & 45 & 10 & 1190 & 50 & 45 & 10 \\\\\n",
      "9 & 50288 & 27405 & 154 & 151 & 50288 & 27405 & 154 & 151 \\\\\n",
      "10 & 93226 & 88935 & 265 & 121 & 93226 & 88935 & 265 & 121 \\\\\n",
      "Min & 5.4 & 3.4 & 0.9 & 1.0 & 5.4 & 3.4 & 0.9 & 1.0 \\\\\n",
      "Max & 770.5 & 735.0 & 5.4 & 1.1 & 770.5 & 735.0 & 5.4 & 1.0 \\\\\n",
      "Average & 176.9 & 110.5 & 1.9 & 1.0 & 176.9 & 110.5 & 1.9 & 1.0 \\\\\n"
     ]
    }
   ],
   "source": [
    "from FZCP.test import test_alg3\n",
    "\n",
    "test_alg3(df, 1e-5, global_lip=True, repeat=10)"
   ],
   "metadata": {
    "collapsed": false
   }
  },
  {
   "cell_type": "code",
   "execution_count": 11,
   "outputs": [
    {
     "name": "stdout",
     "output_type": "stream",
     "text": [
      "test.Index,PC_2,PI_2,QC_2,QI_2,PC_3,PI_3,QC_3,QI_3\n",
      "1 & 0.00036 & 0.00022 & 0.00029 & 0.00022 & 0.00030 & 0.00027 & 0.00047 & 0.00028 \\\\\n",
      "2 & 0.00042 & 0.00033 & 0.00029 & 0.00026 & 0.00032 & 0.00031 & 0.00029 & 0.00029 \\\\\n",
      "3 & 0.00057 & 0.00044 & 0.00038 & 0.00046 & 0.00059 & 0.00051 & 0.00050 & 0.00057 \\\\\n",
      "4 & 0.00061 & 0.00067 & 0.00058 & 0.00052 & 0.00076 & 0.00058 & 0.00065 & 0.00051 \\\\\n",
      "5 & 0.00028 & 0.00023 & 0.00029 & 0.00025 & 0.00026 & 0.00022 & 0.00032 & 0.00027 \\\\\n",
      "6 & 0.00033 & 0.00024 & 0.00017 & 0.00015 & 0.00040 & 0.00031 & 0.00018 & 0.00015 \\\\\n",
      "7 & 0.00029 & 0.00022 & 0.00016 & 0.00012 & 0.00033 & 0.00026 & 0.00019 & 0.00016 \\\\\n",
      "8 & 0.00015 & 0.00013 & 0.00014 & 0.00012 & 0.00014 & 0.00013 & 0.00015 & 0.00013 \\\\\n",
      "9 & 0.00069 & 0.00057 & 0.00052 & 0.00045 & 0.00086 & 0.00071 & 0.00061 & 0.00049 \\\\\n",
      "10 & 0.00059 & 0.00044 & 0.00054 & 0.00035 & 0.00067 & 0.00051 & 0.00078 & 0.00045 \\\\\n",
      "Min & 1.0 & 0.8 & 0.7 & 0.8 & 1.0 & 0.8 & 0.9 & 1.0 \\\\\n",
      "Max & 2.2 & 1.6 & 1.2 & 1.0 & 2.7 & 2.1 & 1.7 & 1.0 \\\\\n",
      "Average & 1.4 & 1.1 & 1.0 & 0.9 & 1.5 & 1.2 & 1.3 & 1.0 \\\\\n",
      "test.Index,PC_N,PI_N,QC_N,QI_N,PC_R,PI_R,QC_R,QI_R\n",
      "1 & 10 & 8 & 8 & 8 & 10 & 8 & 8 & 8 \\\\\n",
      "2 & 8 & 8 & 5 & 5 & 8 & 8 & 5 & 5 \\\\\n",
      "3 & 20 & 18 & 14 & 14 & 20 & 18 & 15 & 15 \\\\\n",
      "4 & 28 & 23 & 15 & 13 & 28 & 23 & 15 & 13 \\\\\n",
      "5 & 11 & 10 & 8 & 7 & 11 & 10 & 8 & 7 \\\\\n",
      "6 & 17 & 14 & 9 & 9 & 17 & 14 & 8 & 7 \\\\\n",
      "7 & 12 & 10 & 7 & 6 & 12 & 10 & 7 & 6 \\\\\n",
      "8 & 9 & 9 & 8 & 7 & 9 & 9 & 8 & 7 \\\\\n",
      "9 & 22 & 19 & 16 & 13 & 22 & 19 & 16 & 13 \\\\\n",
      "10 & 17 & 13 & 16 & 9 & 17 & 13 & 16 & 9 \\\\\n",
      "Min & 1.2 & 1.0 & 0.9 & 0.9 & 1.2 & 1.0 & 1.0 & 1.0 \\\\\n",
      "Max & 2.4 & 2.0 & 1.8 & 1.3 & 2.4 & 2.0 & 1.8 & 1.0 \\\\\n",
      "Average & 1.7 & 1.5 & 1.2 & 1.0 & 1.7 & 1.5 & 1.2 & 1.0 \\\\\n"
     ]
    }
   ],
   "source": [
    "from FZCP.test import test_alg3\n",
    "\n",
    "test_alg3(df, 1e-5, global_lip=False, repeat=1)"
   ],
   "metadata": {
    "collapsed": false
   }
  },
  {
   "cell_type": "code",
   "execution_count": 10,
   "outputs": [
    {
     "name": "stdout",
     "output_type": "stream",
     "text": [
      "Index & IBB & local Lip & global Lip \\\n",
      "1 & 0.000396 & 0.000134 & 0.000058 \\\\\n",
      "2 & 0.000216 & 0.000188 & 0.000078 \\\\\n",
      "3 & 0.000349 & 0.000329 & 0.000229 \\\\\n",
      "4 & 0.003883 & 0.000761 & 0.002787 \\\\\n",
      "5 & 0.000204 & 0.000220 & 0.000297 \\\\\n",
      "6 & 0.002063 & 0.000123 & 0.000075 \\\\\n",
      "7 & 0.000904 & 0.000137 & 0.000094 \\\\\n",
      "8 & 0.000725 & 0.000113 & 0.000064 \\\\\n",
      "9 & 0.002011 & 0.000467 & 0.001189 \\\\\n",
      "10 & 0.001147 & 0.000424 & 0.000954 \\\\\n",
      "Min & 0.7 & 0.3 & 1.0 \\\\\n",
      "Max & 27.6 & 2.4 & 1.0 \\\\\n",
      "Average & 6.5 & 1.3 & 1.0 \\\\\n",
      "Index & IBB & local Lip & global Lip \\\n",
      "1 & 29 & 8 & 8 \\\\\n",
      "2 & 21 & 5 & 8 \\\\\n",
      "3 & 36 & 15 & 39 \\\\\n",
      "4 & 251 & 13 & 508 \\\\\n",
      "5 & 26 & 7 & 45 \\\\\n",
      "6 & 177 & 7 & 10 \\\\\n",
      "7 & 55 & 6 & 12 \\\\\n",
      "8 & 33 & 7 & 10 \\\\\n",
      "9 & 93 & 13 & 151 \\\\\n",
      "10 & 51 & 9 & 121 \\\\\n",
      "Min & 0.4 & 0.0 & 1.0 \\\\\n",
      "Max & 17.7 & 1.0 & 1.0 \\\\\n",
      "Average & 3.5 & 0.4 & 1.0 \\\\\n"
     ]
    }
   ],
   "source": [
    "from FZCP.test import test_casado\n",
    "\n",
    "test_casado(df, 1e-5,  repeat=100)"
   ],
   "metadata": {
    "collapsed": false
   }
  },
  {
   "cell_type": "code",
   "execution_count": 15,
   "id": "718a3988",
   "metadata": {},
   "outputs": [
    {
     "name": "stdout",
     "output_type": "stream",
     "text": [
      "1\n",
      "PSQE, Lipschitz interval: TestResult(nsteps=8, first_crossing_zero_point=[-0.13045343909099016])\n",
      "time= 0.00028687499434454367\n",
      "Casado, Lipschitz interval: TestResult(nsteps=37, first_crossing_zero_point=-0.1304534504393797)\n",
      "time= 0.0005669579986715689\n",
      "2\n",
      "PSQE, Lipschitz interval: TestResult(nsteps=8, first_crossing_zero_point=[1.0682235441972114])\n",
      "time= 0.00018091599486069754\n",
      "Casado, Lipschitz interval: TestResult(nsteps=25, first_crossing_zero_point=1.0682235502297557)\n",
      "time= 0.0006280000015976839\n",
      "3\n",
      "PSQE, Lipschitz interval: TestResult(nsteps=40, first_crossing_zero_point=[1.2655389140501498])\n",
      "time= 0.0003330000035930425\n",
      "Casado, Lipschitz interval: TestResult(nsteps=39, first_crossing_zero_point=1.2655388825177132)\n",
      "time= 0.0005320420023053885\n",
      "4\n",
      "PSQE, Lipschitz interval: TestResult(nsteps=508, first_crossing_zero_point=[1.3646464623978662])\n",
      "time= 0.0023734159985906444\n",
      "Casado, Lipschitz interval: TestResult(nsteps=353, first_crossing_zero_point=1.3646464558897629)\n",
      "time= 0.0030574170014006086\n",
      "5\n",
      "PSQE, Lipschitz interval: TestResult(nsteps=46, first_crossing_zero_point=[2.0287578381003075])\n",
      "time= 0.0003520419995766133\n",
      "Casado, Lipschitz interval: TestResult(nsteps=34, first_crossing_zero_point=2.0287578221797298)\n",
      "time= 0.0003859169955831021\n",
      "6\n",
      "PSQE, Lipschitz interval: TestResult(nsteps=11, first_crossing_zero_point=[-0.8759844148601154])\n",
      "time= 0.00011333300062688068\n",
      "Casado, Lipschitz interval: TestResult(nsteps=307, first_crossing_zero_point=-0.8759843948613739)\n",
      "time= 0.004052584001328796\n",
      "7\n",
      "PSQE, Lipschitz interval: TestResult(nsteps=13, first_crossing_zero_point=[-1.1593583789802988])\n",
      "time= 0.0001242079961230047\n",
      "Casado, Lipschitz interval: TestResult(nsteps=72, first_crossing_zero_point=-1.1593583833737255)\n",
      "time= 0.0012853750013164245\n",
      "8\n",
      "PSQE, Lipschitz interval: TestResult(nsteps=11, first_crossing_zero_point=[0.6391972667179249])\n",
      "time= 9.416600369149819e-05\n",
      "Casado, Lipschitz interval: TestResult(nsteps=44, first_crossing_zero_point=0.639197269832208)\n",
      "time= 0.0003881250013364479\n",
      "9\n",
      "PSQE, Lipschitz interval: TestResult(nsteps=152, first_crossing_zero_point=[0.19904835654735653])\n",
      "time= 0.000983208003162872\n",
      "Casado, Lipschitz interval: TestResult(nsteps=126, first_crossing_zero_point=0.19904838441155487)\n",
      "time= 0.0030584999985876493\n",
      "10\n",
      "PSQE, Lipschitz interval: TestResult(nsteps=122, first_crossing_zero_point=[0.12872250122725318])\n",
      "time= 0.0009113329942920245\n",
      "Casado, Lipschitz interval: TestResult(nsteps=79, first_crossing_zero_point=0.12872249267238356)\n",
      "time= 0.0017894999982672743\n"
     ]
    }
   ],
   "source": [
    "for test in df.itertuples():\n",
    "    print(test.Index)\n",
    "    points_db[test.Index] = {'psl_lipint_points_list': [], 'psl_lip_points_list': [], 'psqe_lipint_points_list': [],\n",
    "                             'psqe_lip_points_list': [], 'bnb2_pslint_points_list': [], 'bnb2_psl_points_list': [],\n",
    "                             'bnb2_lipint_points_list': [],\n",
    "                             'bnb2_lip_points_list': []}\n",
    "\n",
    "    # #\n",
    "    # T1 = time.perf_counter()\n",
    "    # prob = uvpr.UniVarProblem(test.Index, test.objective, test.a, test.b, test.min_f, test.min_x,\n",
    "    #                           lambda x: log_point(x, points_db[test.Index]['bnb2_psl_points_list']))\n",
    "    # print('Piyavskii, Lipschitz constant:',\n",
    "    #       sfzcp.new_method(prob, symm=True, epsilon=1e-5, global_lipschitz_interval=False, estimator=1))\n",
    "    # T2 = time.perf_counter()\n",
    "    # print('time=', T2 - T1)\n",
    "    #\n",
    "    # T1 = time.perf_counter()\n",
    "    # prob = uvpr.UniVarProblem(test.Index, test.objective, test.a, test.b, test.min_f, test.min_x,\n",
    "    #                           lambda x: log_point(x, points_db[test.Index]['bnb2_pslint_points_list']))\n",
    "    # print('Piyavskii, Lipschitz interval:',\n",
    "    #       sfzcp.new_method(prob, symm=False, epsilon=1e-5, global_lipschitz_interval=False, estimator=1))\n",
    "    # T2 = time.perf_counter()\n",
    "    # print('time=', T2 - T1)\n",
    "    #\n",
    "    # T1 = time.perf_counter()\n",
    "    # prob = uvpr.UniVarProblem(test.Index, test.objective, test.a, test.b, test.min_f, test.min_x,\n",
    "    #                           lambda x: log_point(x, points_db[test.Index]['bnb2_lip_points_list']))\n",
    "    # print('PSQE, Lipschitz constant:',\n",
    "    #       sfzcp.new_method(prob, symm=True, epsilon=1e-5, global_lipschitz_interval=False, estimator=2))\n",
    "    # T2 = time.perf_counter()\n",
    "    # print('time=', T2 - T1)\n",
    "\n",
    "    prob = uvpr.UniVarProblem(test.Index, test.objective, test.a, test.b, test.min_f, test.min_x,\n",
    "                              lambda x: log_point(x, points_db[test.Index]['bnb2_lipint_points_list']))\n",
    "\n",
    "    # T1 = time.perf_counter()\n",
    "    # print('PSQE, Lipschitz constant:',\n",
    "    #       sfzcp.new_method(prob, symm=False, epsilon=1e-7, global_lipschitz_interval=True, estimator=2,reduction=False))\n",
    "    # T2 = time.perf_counter()\n",
    "    # print('time=', T2 - T1)\n",
    "    #\n",
    "    T1 = time.perf_counter()\n",
    "    print('PSQE, Lipschitz interval:',\n",
    "          sfzcp.new_method(prob, symm=False, epsilon=1e-7, global_lipschitz_interval=True, estimator=2, reduction=True))\n",
    "    T2 = time.perf_counter()\n",
    "    print('time=', T2 - T1)\n",
    "    T1 = time.perf_counter()\n",
    "    print('Casado, Lipschitz interval:',\n",
    "          sfzcp.cas(prob=prob,sym=False,epsilon=1e-7))\n",
    "    T2 = time.perf_counter()\n",
    "    print('time=', T2 - T1)\n",
    "    # T1 = time.perf_counter()\n",
    "    # print('Casado:', sfzcp.cas(prob, epsilon=1e-5))\n",
    "    # T2 = time.perf_counter()\n",
    "    # print('time=', T2 - T1)"
   ]
  },
  {
   "cell_type": "code",
   "execution_count": 10,
   "outputs": [
    {
     "name": "stdout",
     "output_type": "stream",
     "text": [
      "test.Index,PC_N,PI_N,QC_N,QI_N,PC_R,PI_R,QC_R,QI_R\n"
     ]
    },
    {
     "ename": "TypeError",
     "evalue": "'tuple' object does not support item assignment",
     "output_type": "error",
     "traceback": [
      "\u001B[0;31m---------------------------------------------------------------------------\u001B[0m",
      "\u001B[0;31mTypeError\u001B[0m                                 Traceback (most recent call last)",
      "Cell \u001B[0;32mIn[10], line 15\u001B[0m\n\u001B[1;32m     13\u001B[0m T2 \u001B[38;5;241m=\u001B[39m time\u001B[38;5;241m.\u001B[39mperf_counter()\n\u001B[1;32m     14\u001B[0m time_PC_N \u001B[38;5;241m=\u001B[39m T2 \u001B[38;5;241m-\u001B[39m T1\n\u001B[0;32m---> 15\u001B[0m \u001B[43mmin_list\u001B[49m\u001B[43m[\u001B[49m\u001B[38;5;241;43m0\u001B[39;49m\u001B[43m]\u001B[49m \u001B[38;5;241m=\u001B[39m \u001B[38;5;28mmin\u001B[39m(min_list[\u001B[38;5;241m0\u001B[39m], T2 \u001B[38;5;241m-\u001B[39m T1)\n\u001B[1;32m     16\u001B[0m max_list[\u001B[38;5;241m0\u001B[39m] \u001B[38;5;241m=\u001B[39m \u001B[38;5;28mmax\u001B[39m(max_list[\u001B[38;5;241m0\u001B[39m], T2 \u001B[38;5;241m-\u001B[39m T1)\n\u001B[1;32m     17\u001B[0m sum_list[\u001B[38;5;241m0\u001B[39m] \u001B[38;5;241m+\u001B[39m\u001B[38;5;241m=\u001B[39m T2 \u001B[38;5;241m-\u001B[39m T1\n",
      "\u001B[0;31mTypeError\u001B[0m: 'tuple' object does not support item assignment"
     ]
    }
   ],
   "source": [
    "print('test.Index,PC_N,PI_N,QC_N,QI_N,PC_R,PI_R,QC_R,QI_R')\n",
    "eps = 1e-7\n",
    "min_list = (float('inf'),) * 8\n",
    "max_list = (0,) * 8\n",
    "sum_list = (0,) * 8\n",
    "for test in df.itertuples():\n",
    "    points_db[test.Index] = {'bnb2_pslint_points_list': []}\n",
    "    prob = uvpr.UniVarProblem(test.Index, test.objective, test.a, test.b, test.min_f, test.min_x,\n",
    "                              lambda x: log_point(x, points_db[test.Index]['bnb2_pslint_points_list']))\n",
    "    T1 = time.perf_counter()\n",
    "    PC_N = sfzcp.new_method(prob, symm=True, epsilon=eps, global_lipschitz_interval=True, estimator=1,\n",
    "                            reduction=False).nsteps\n",
    "    T2 = time.perf_counter()\n",
    "    time_PC_N = T2 - T1\n",
    "    min_list[0] = min(min_list[0], T2 - T1)\n",
    "    max_list[0] = max(max_list[0], T2 - T1)\n",
    "    sum_list[0] += T2 - T1\n",
    "    T1 = time.perf_counter()\n",
    "    PI_N = sfzcp.new_method(prob, symm=False, epsilon=eps, global_lipschitz_interval=True, estimator=1,\n",
    "                            reduction=False).nsteps\n",
    "    T2 = time.perf_counter()\n",
    "    time_PI_N = T2 - T1\n",
    "    min_list[1] = min(min_list[1], T2 - T1)\n",
    "    max_list[1] = max(max_list[1], T2 - T1)\n",
    "    sum_list[1] += T2 - T1\n",
    "    T1 = time.perf_counter()\n",
    "    QC_N = sfzcp.new_method(prob, symm=True, epsilon=eps, global_lipschitz_interval=True, estimator=2,\n",
    "                            reduction=False).nsteps\n",
    "    T2 = time.perf_counter()\n",
    "    time_QC_N = T2 - T1\n",
    "    min_list[2] = min(min_list[2], T2 - T1)\n",
    "    max_list[2] = max(max_list[2], T2 - T1)\n",
    "    sum_list[2] += T2 - T1\n",
    "    T1 = time.perf_counter()\n",
    "    QI_N = sfzcp.new_method(prob, symm=False, epsilon=eps, global_lipschitz_interval=True, estimator=2,\n",
    "                            reduction=False).nsteps\n",
    "    T2 = time.perf_counter()\n",
    "    time_QI_N = T2 - T1\n",
    "    min_list[3] = min(min_list[3], T2 - T1)\n",
    "    max_list[3] = max(max_list[3], T2 - T1)\n",
    "    sum_list[3] += T2 - T1\n",
    "    T1 = time.perf_counter()\n",
    "    PC_R = sfzcp.new_method(prob, symm=True, epsilon=eps, global_lipschitz_interval=True, estimator=1,\n",
    "                            reduction=True).nsteps\n",
    "    T2 = time.perf_counter()\n",
    "    time_PC_R = T2 - T1\n",
    "    min_list[4] = min(min_list[4], T2 - T1)\n",
    "    max_list[4] = max(max_list[4], T2 - T1)\n",
    "    sum_list[4] += T2 - T1\n",
    "    T1 = time.perf_counter()\n",
    "    PI_R = sfzcp.new_method(prob, symm=False, epsilon=eps, global_lipschitz_interval=True, estimator=1,\n",
    "                            reduction=True).nsteps\n",
    "    T2 = time.perf_counter()\n",
    "    time_PI_R = T2 - T1\n",
    "    min_list[5] = min(min_list[5], T2 - T1)\n",
    "    max_list[5] = max(max_list[5], T2 - T1)\n",
    "    sum_list[5] += T2 - T1\n",
    "    T1 = time.perf_counter()\n",
    "    QC_R = sfzcp.new_method(prob, symm=True, epsilon=eps, global_lipschitz_interval=True, estimator=2,\n",
    "                            reduction=True).nsteps\n",
    "    T2 = time.perf_counter()\n",
    "    time_QC_R = T2 - T1\n",
    "    min_list[6] = min(min_list[6], T2 - T1)\n",
    "    max_list[6] = max(max_list[6], T2 - T1)\n",
    "    sum_list[6] += T2 - T1\n",
    "    T1 = time.perf_counter()\n",
    "    QI_R = sfzcp.new_method(prob, symm=False, epsilon=eps, global_lipschitz_interval=True, estimator=2,\n",
    "                            reduction=True).nsteps\n",
    "    T2 = time.perf_counter()\n",
    "    time_QI_R = T2 - T1\n",
    "    min_list[7] = min(min_list[7], T2 - T1)\n",
    "    max_list[7] = max(max_list[7], T2 - T1)\n",
    "    sum_list[7] += T2 - T1\n",
    "\n",
    "    # print('%s & %d & %d & %d & %d & %d & %d & %d & %d \\\\\\\\' %(test.Index,PC_N,PI_N,QC_N,QI_N,PC_R,PI_R,QC_R,QI_R))\n",
    "    print('%s & %.5f & %.5f & %.5f & %.5f & %.5f & %.5f & %.5f & %.5f \\\\\\\\' % (\n",
    "        test.Index, time_PC_N, time_PI_N, time_QC_N, time_QI_N, time_PC_R, time_PI_R, time_QC_R, time_QI_R))"
   ],
   "metadata": {
    "collapsed": false
   }
  },
  {
   "cell_type": "code",
   "execution_count": 11,
   "outputs": [
    {
     "name": "stdout",
     "output_type": "stream",
     "text": [
      "test.Index,PC_N,PI_N,QC_N,QI_N,PC_R,PI_R,QC_R,QI_R\n",
      "1 & 126 & 62 & 42 & 42 & 67 & 44 & 8 & 8 \\\\\n",
      "2 & 592 & 592 & 44 & 44 & 341 & 341 & 9 & 9 \\\\\n",
      "3 & 725 & 725 & 93 & 93 & 417 & 417 & 53 & 53 \\\\\n",
      "4 & 3747801 & 265037 & 5473 & 1219 & 2128998 & 260954 & 3761 & 715 \\\\\n",
      "5 & 1698 & 1698 & 114 & 114 & 999 & 999 & 61 & 61 \\\\\n",
      "6 & 1301 & 805 & 39 & 39 & 789 & 639 & 11 & 11 \\\\\n",
      "7 & 1607 & 1563 & 47 & 45 & 946 & 911 & 15 & 14 \\\\\n",
      "8 & 4813 & 109 & 101 & 39 & 2938 & 104 & 55 & 11 \\\\\n",
      "9 & 339319 & 155683 & 313 & 307 & 214492 & 136490 & 203 & 200 \\\\\n",
      "10 & 906892 & 836296 & 530 & 284 & 588546 & 563596 & 358 & 162 \\\\\n",
      "11 & 139 & 139 & 25 & 25 & 85 & 85 & 17 & 17 \\\\\n",
      "12 & 1431 & 179 & 43 & 43 & 859 & 167 & 9 & 9 \\\\\n",
      "13 & 294 & 220 & 46 & 46 & 166 & 139 & 13 & 13 \\\\\n"
     ]
    }
   ],
   "source": [
    "print('test.Index,PC_N,PI_N,QC_N,QI_N,PC_R,PI_R,QC_R,QI_R')\n",
    "eps = 1e-7\n",
    "for test in df.itertuples():\n",
    "    points_db[test.Index] = {'bnb2_pslint_points_list': []}\n",
    "    prob = uvpr.UniVarProblem(test.Index, test.objective, test.a, test.b, test.min_f, test.min_x,\n",
    "                              lambda x: log_point(x, points_db[test.Index]['bnb2_pslint_points_list']))\n",
    "    PC_N = sfzcp.new_method(prob, symm=True, epsilon=eps, global_lipschitz_interval=True, estimator=1,\n",
    "                            reduction=False).nsteps\n",
    "\n",
    "    PI_N = sfzcp.new_method(prob, symm=False, epsilon=eps, global_lipschitz_interval=True, estimator=1,\n",
    "                            reduction=False).nsteps\n",
    "    QC_N = sfzcp.new_method(prob, symm=True, epsilon=eps, global_lipschitz_interval=True, estimator=2,\n",
    "                            reduction=False).nsteps\n",
    "    QI_N = sfzcp.new_method(prob, symm=False, epsilon=eps, global_lipschitz_interval=True, estimator=2,\n",
    "                            reduction=False).nsteps\n",
    "\n",
    "    PC_R = sfzcp.new_method(prob, symm=True, epsilon=eps, global_lipschitz_interval=True, estimator=1,\n",
    "                            reduction=True).nsteps\n",
    "    PI_R = sfzcp.new_method(prob, symm=False, epsilon=eps, global_lipschitz_interval=True, estimator=1,\n",
    "                            reduction=True).nsteps\n",
    "    QC_R = sfzcp.new_method(prob, symm=True, epsilon=eps, global_lipschitz_interval=True, estimator=2,\n",
    "                            reduction=True).nsteps\n",
    "    QI_R = sfzcp.new_method(prob, symm=False, epsilon=eps, global_lipschitz_interval=True, estimator=2,\n",
    "                            reduction=True).nsteps\n",
    "\n",
    "    print('%s & %d & %d & %d & %d & %d & %d & %d & %d \\\\\\\\' % (\n",
    "        test.Index, PC_N, PI_N, QC_N, QI_N, PC_R, PI_R, QC_R, QI_R))\n",
    "    # P: Piyavskii estimator\n",
    "    # Q: Piecewise smooth quadratic estimator\n",
    "    # C: Lipschitz constant\n",
    "    # I: Lipschitz interval\n",
    "    # N: without reduction\n",
    "    # R: with reduction"
   ],
   "metadata": {
    "collapsed": false
   }
  },
  {
   "cell_type": "code",
   "execution_count": 11,
   "id": "30ffa037",
   "metadata": {},
   "outputs": [],
   "source": [
    "def vis_trials(points_list, num_series, base_level):\n",
    "    poix = np.array(list(set(points_list[::skip])))\n",
    "    poiy = np.full(len(poix), base_level + num_series * -0.5)\n",
    "    up.plot_points(poix, poiy, num_series)"
   ]
  },
  {
   "cell_type": "code",
   "execution_count": 12,
   "id": "3bb0b182",
   "metadata": {},
   "outputs": [
    {
     "name": "stdout",
     "output_type": "stream",
     "text": [
      "Pandas(Index=1, objective='x^3+2.*x+cos(10.*x)', a=-3.0, b=3.0, min_f=0, min_x=0)\n"
     ]
    },
    {
     "ename": "KeyError",
     "evalue": "'bnb2_psl_points_list'",
     "output_type": "error",
     "traceback": [
      "\u001B[0;31m---------------------------------------------------------------------------\u001B[0m",
      "\u001B[0;31mKeyError\u001B[0m                                  Traceback (most recent call last)",
      "Cell \u001B[0;32mIn[12], line 5\u001B[0m\n\u001B[1;32m      3\u001B[0m prob \u001B[38;5;241m=\u001B[39m uvpr\u001B[38;5;241m.\u001B[39mUniVarProblem(test\u001B[38;5;241m.\u001B[39mIndex, test\u001B[38;5;241m.\u001B[39mobjective, test\u001B[38;5;241m.\u001B[39ma, test\u001B[38;5;241m.\u001B[39mb, test\u001B[38;5;241m.\u001B[39mmin_f, test\u001B[38;5;241m.\u001B[39mmin_x)\n\u001B[1;32m      4\u001B[0m up\u001B[38;5;241m.\u001B[39mplot_problem(prob, {\u001B[38;5;124m'\u001B[39m\u001B[38;5;124mfunction\u001B[39m\u001B[38;5;124m'\u001B[39m: \u001B[38;5;124m'\u001B[39m\u001B[38;5;124mb-\u001B[39m\u001B[38;5;124m'\u001B[39m}, legend\u001B[38;5;241m=\u001B[39mlegend_size)\n\u001B[0;32m----> 5\u001B[0m vis_trials(\u001B[43mpoints_db\u001B[49m\u001B[43m[\u001B[49m\u001B[43mtest\u001B[49m\u001B[38;5;241;43m.\u001B[39;49m\u001B[43mIndex\u001B[49m\u001B[43m]\u001B[49m\u001B[43m[\u001B[49m\u001B[38;5;124;43m'\u001B[39;49m\u001B[38;5;124;43mbnb2_psl_points_list\u001B[39;49m\u001B[38;5;124;43m'\u001B[39;49m\u001B[43m]\u001B[49m, \u001B[38;5;241m0\u001B[39m, plt\u001B[38;5;241m.\u001B[39mylim()[\u001B[38;5;241m0\u001B[39m] \u001B[38;5;241m+\u001B[39m legend_size)\n\u001B[1;32m      6\u001B[0m vis_trials(points_db[test\u001B[38;5;241m.\u001B[39mIndex][\u001B[38;5;124m'\u001B[39m\u001B[38;5;124mbnb2_pslint_points_list\u001B[39m\u001B[38;5;124m'\u001B[39m], \u001B[38;5;241m1\u001B[39m, plt\u001B[38;5;241m.\u001B[39mylim()[\u001B[38;5;241m0\u001B[39m] \u001B[38;5;241m+\u001B[39m legend_size)\n\u001B[1;32m      7\u001B[0m vis_trials(points_db[test\u001B[38;5;241m.\u001B[39mIndex][\u001B[38;5;124m'\u001B[39m\u001B[38;5;124mbnb2_lip_points_list\u001B[39m\u001B[38;5;124m'\u001B[39m], \u001B[38;5;241m2\u001B[39m, plt\u001B[38;5;241m.\u001B[39mylim()[\u001B[38;5;241m0\u001B[39m] \u001B[38;5;241m+\u001B[39m legend_size)\n",
      "\u001B[0;31mKeyError\u001B[0m: 'bnb2_psl_points_list'"
     ]
    },
    {
     "data": {
      "text/plain": "<Figure size 640x480 with 1 Axes>",
      "image/png": "[encoded data removed]"
     },
     "metadata": {},
     "output_type": "display_data"
    }
   ],
   "source": [
    "for test in df.itertuples():\n",
    "    print(test)\n",
    "    prob = uvpr.UniVarProblem(test.Index, test.objective, test.a, test.b, test.min_f, test.min_x)\n",
    "    up.plot_problem(prob, {'function': 'b-'}, legend=legend_size)\n",
    "    vis_trials(points_db[test.Index]['bnb2_psl_points_list'], 0, plt.ylim()[0] + legend_size)\n",
    "    vis_trials(points_db[test.Index]['bnb2_pslint_points_list'], 1, plt.ylim()[0] + legend_size)\n",
    "    vis_trials(points_db[test.Index]['bnb2_lip_points_list'], 2, plt.ylim()[0] + legend_size)\n",
    "    vis_trials(points_db[test.Index]['bnb2_lipint_points_list'], 3, plt.ylim()[0] + legend_size)\n",
    "    # vis_trials(points_db[test.Index]['psl_lipint_points_list'], 4, plt.ylim()[0] + legend_size)\n",
    "    # vis_trials(points_db[test.Index]['psl_lip_points_list'], 5, plt.ylim()[0] + legend_size)\n",
    "    #     print(\"ylim = \", plt.ylim()[0])\n",
    "    file_name = test.Index + '.png'\n",
    "    plt.savefig(file_name, dpi=500)\n",
    "    plt.show()"
   ]
  },
  {
   "cell_type": "code",
   "execution_count": null,
   "id": "8aec4782",
   "metadata": {},
   "outputs": [],
   "source": []
  },
  {
   "cell_type": "code",
   "execution_count": null,
   "id": "7f859061",
   "metadata": {},
   "outputs": [],
   "source": []
  }
 ],
 "metadata": {
  "kernelspec": {
   "display_name": "Python 3 (ipykernel)",
   "language": "python",
   "name": "python3"
  },
  "language_info": {
   "codemirror_mode": {
    "name": "ipython",
    "version": 3
   },
   "file_extension": ".py",
   "mimetype": "text/x-python",
   "name": "python",
   "nbconvert_exporter": "python",
   "pygments_lexer": "ipython3",
   "version": "3.10.4"
  }
 },
 "nbformat": 4,
 "nbformat_minor": 5
}
