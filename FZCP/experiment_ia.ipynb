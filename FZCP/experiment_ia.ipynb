{
 "cells": [
  {
   "cell_type": "code",
   "execution_count": 7,
   "outputs": [
    {
     "name": "stdout",
     "output_type": "stream",
     "text": [
      "[0.00000199999999999999990949622365177251737122787744738161563873291015625, 0.000003000000000000000076002572291233860823922441340982913970947265625]\n",
      "[3.3333E+5, 5.0001E+5]\n",
      "[0.00200000000000000004163336342344337026588618755340576171875, 0.003000000000000000062450045135165055398829281330108642578125]\n",
      "[333.33, 500.00]\n"
     ]
    }
   ],
   "source": [
    "import sys\n",
    "\n",
    "sys.path.append(\"..\")\n",
    "import interval_arithmetics as ia\n",
    "import decimal as dec\n",
    "ia.set_precision(5)\n",
    "interval1 = ia.Interval(dec.Decimal(0.000002), dec.Decimal(0.000003))\n",
    "interval2 = 1 / interval1\n",
    "print(interval1)\n",
    "print(interval2)\n",
    "\n",
    "interval3 = ia.Interval(dec.Decimal(0.002), dec.Decimal(0.003))\n",
    "interval4 = 1 / interval3\n",
    "print(interval3)\n",
    "print(interval4)"
   ],
   "metadata": {
    "collapsed": false,
    "ExecuteTime": {
     "start_time": "2024-04-27T07:37:58.424852Z"
    }
   },
   "id": "initial_id"
  },
  {
   "cell_type": "markdown",
   "source": [
    "На основе приведенных выше тестов мы обнаружили, что после операции деления, чем меньше значение интервала, тем больше ширина интервала."
   ],
   "metadata": {
    "collapsed": false
   },
   "id": "391c0197dd4965b0"
  },
  {
   "cell_type": "markdown",
   "source": [
    "Расчет $c^*$ в квадратичной миноранте:\n",
    "$$\n",
    "c^{*}  =\\frac{\\alpha(b-a)}{2(\\beta-\\alpha)}+\\frac{f^{\\prime}(a)-f^{\\prime}(b)}{2(\\beta-\\alpha)}+\\frac{f(a)-f(b)+b f^{\\prime}(b)-a f^{\\prime}(a)+\\frac{\\alpha}{2}\\left(a^{2}-b^{2}\\right)}{f^{\\prime}(b)-f^{\\prime}(a)-\\alpha(b-a)},\n",
    "$$\n",
    "В линейной:\n",
    "$$\n",
    "c^*=\\frac{f(a)-f(b)+\\beta * b-\\alpha * a}{\\beta-\\alpha}\n",
    "$$"
   ],
   "metadata": {
    "collapsed": false
   },
   "id": "6f52298eb8d959b5"
  },
  {
   "cell_type": "markdown",
   "source": [
    "Во всех знаменателях, только $f'(a)$ и $f'(b)$ являются интервалами, все остальные числовые ($a$, $b$, $\\beta$, $\\alpha$)\n",
    "Это приводит к тому, что расчет усиливает ошибки $f'(a)$ и $f'(b)$. Поэтому ошибка интервала квадратичной больше."
   ],
   "metadata": {
    "collapsed": false
   },
   "id": "fa880ebc51b5d69"
  },
  {
   "cell_type": "code",
   "execution_count": null,
   "outputs": [],
   "source": [],
   "metadata": {
    "collapsed": false
   },
   "id": "8a3040e98d3c7aa8"
  }
 ],
 "metadata": {
  "kernelspec": {
   "display_name": "Python 3",
   "language": "python",
   "name": "python3"
  },
  "language_info": {
   "codemirror_mode": {
    "name": "ipython",
    "version": 2
   },
   "file_extension": ".py",
   "mimetype": "text/x-python",
   "name": "python",
   "nbconvert_exporter": "python",
   "pygments_lexer": "ipython2",
   "version": "2.7.6"
  }
 },
 "nbformat": 4,
 "nbformat_minor": 5
}
