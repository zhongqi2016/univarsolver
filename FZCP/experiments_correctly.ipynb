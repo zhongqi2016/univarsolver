{
 "cells": [
  {
   "cell_type": "code",
   "execution_count": 1,
   "id": "initial_id",
   "metadata": {
    "collapsed": true,
    "ExecuteTime": {
     "end_time": "2024-04-26T12:04:39.215937Z",
     "start_time": "2024-04-26T12:04:38.630978Z"
    }
   },
   "outputs": [],
   "source": [
    "import sys\n",
    "import time\n",
    "\n",
    "sys.path.append(\"..\")\n",
    "import pandas as pd\n",
    "import solv_fzcp as sfzcp\n",
    "import uvarprob as uvpr"
   ]
  },
  {
   "cell_type": "code",
   "execution_count": 2,
   "outputs": [],
   "source": [
    "test_file = \"../test_casado2.csv\"\n"
   ],
   "metadata": {
    "collapsed": false,
    "ExecuteTime": {
     "end_time": "2024-04-26T12:04:39.216688Z",
     "start_time": "2024-04-26T12:04:39.214719Z"
    }
   },
   "id": "d5b5f052d42bc859"
  },
  {
   "cell_type": "code",
   "execution_count": 3,
   "outputs": [
    {
     "data": {
      "text/plain": "                                              objective     a     b  min_f  \\\nname                                                                         \n1                                   -0.5*x^2*(log(x))+5   0.2   7.0      0   \n3                                   -(sqrt(x))*sin(x)+1   0.2   7.0      0   \n4            x*sin(x)+sin(10.0*x/3.0)+log(x)-0.84*x+1.3   0.2   7.0      0   \n5                                          x+sin(5.0*x)   0.2   7.0      0   \n7                      sin(x)*cos(x)-1.5*(sin(x))^2+1.2   0.2   7.0      0   \n9                                    2.0*sin(x)*exp(-x)   0.2   7.0      0   \n10                            (3*x-1.4)*sin(18.0*x)+1.7   0.2   7.0      0   \n11                                      (x+1)^3/x^2-7.1   0.2   7.0      0   \n13     12+cos(2.0*x+1)+2*cos(3.0*x+2)+3*cos(4.0*x+3)...   0.2   7.0      0   \n14                                 2*(x-3)^2-exp(x/2)+5   0.2   7.0      0   \n16                                   sqrt(x)*(sin(x))^2   0.2   7.0      0   \n17                                  cos(x)-sin(5.0*x)+1   0.2   7.0      0   \n18                                    -x-sin(3.0*x)+1.6   0.2   7.0      0   \n19                        cos(x)+2.0*cos(2.0*x)*exp(-x)   0.2   7.0      0   \n20     -(sin(2*x+1)+2*sin(3*x+2)+3*sin(4*x+3)+4*sin(... -10.0  10.0      0   \n21                                log(3.0*x)*log(2*x)-1   0.1   7.0      0   \n22      -cos(2.0*x)-cos(3*x)-cos(4*x)-cos(5*x)-cos(6*x) -10.0  10.0      0   \n23                             -exp(-x)*sin(2*pi*x)+0.5   0.0   4.0      0   \n24                              (x^2-5*x+6)/(x^2+1)-0.5  -5.0   5.0      0   \n25                                     -exp(sin(3*x))+1  -3.0   2.0      0   \n26                                        -x+sin(3*x)+1   0.0   6.5      0   \n27                             (x+sin(x))*exp(-x^2)+0.8  -5.0   5.0      0   \n\n      min_x  \nname         \n1         0  \n3         0  \n4         0  \n5         0  \n7         0  \n9         0  \n10        0  \n11        0  \n13        0  \n14        0  \n16        0  \n17        0  \n18        0  \n19        0  \n20        0  \n21        0  \n22        0  \n23        0  \n24        0  \n25        0  \n26        0  \n27        0  ",
      "text/html": "<div>\n<style scoped>\n    .dataframe tbody tr th:only-of-type {\n        vertical-align: middle;\n    }\n\n    .dataframe tbody tr th {\n        vertical-align: top;\n    }\n\n    .dataframe thead th {\n        text-align: right;\n    }\n</style>\n<table border=\"1\" class=\"dataframe\">\n  <thead>\n    <tr style=\"text-align: right;\">\n      <th></th>\n      <th>objective</th>\n      <th>a</th>\n      <th>b</th>\n      <th>min_f</th>\n      <th>min_x</th>\n    </tr>\n    <tr>\n      <th>name</th>\n      <th></th>\n      <th></th>\n      <th></th>\n      <th></th>\n      <th></th>\n    </tr>\n  </thead>\n  <tbody>\n    <tr>\n      <th>1</th>\n      <td>-0.5*x^2*(log(x))+5</td>\n      <td>0.2</td>\n      <td>7.0</td>\n      <td>0</td>\n      <td>0</td>\n    </tr>\n    <tr>\n      <th>3</th>\n      <td>-(sqrt(x))*sin(x)+1</td>\n      <td>0.2</td>\n      <td>7.0</td>\n      <td>0</td>\n      <td>0</td>\n    </tr>\n    <tr>\n      <th>4</th>\n      <td>x*sin(x)+sin(10.0*x/3.0)+log(x)-0.84*x+1.3</td>\n      <td>0.2</td>\n      <td>7.0</td>\n      <td>0</td>\n      <td>0</td>\n    </tr>\n    <tr>\n      <th>5</th>\n      <td>x+sin(5.0*x)</td>\n      <td>0.2</td>\n      <td>7.0</td>\n      <td>0</td>\n      <td>0</td>\n    </tr>\n    <tr>\n      <th>7</th>\n      <td>sin(x)*cos(x)-1.5*(sin(x))^2+1.2</td>\n      <td>0.2</td>\n      <td>7.0</td>\n      <td>0</td>\n      <td>0</td>\n    </tr>\n    <tr>\n      <th>9</th>\n      <td>2.0*sin(x)*exp(-x)</td>\n      <td>0.2</td>\n      <td>7.0</td>\n      <td>0</td>\n      <td>0</td>\n    </tr>\n    <tr>\n      <th>10</th>\n      <td>(3*x-1.4)*sin(18.0*x)+1.7</td>\n      <td>0.2</td>\n      <td>7.0</td>\n      <td>0</td>\n      <td>0</td>\n    </tr>\n    <tr>\n      <th>11</th>\n      <td>(x+1)^3/x^2-7.1</td>\n      <td>0.2</td>\n      <td>7.0</td>\n      <td>0</td>\n      <td>0</td>\n    </tr>\n    <tr>\n      <th>13</th>\n      <td>12+cos(2.0*x+1)+2*cos(3.0*x+2)+3*cos(4.0*x+3)...</td>\n      <td>0.2</td>\n      <td>7.0</td>\n      <td>0</td>\n      <td>0</td>\n    </tr>\n    <tr>\n      <th>14</th>\n      <td>2*(x-3)^2-exp(x/2)+5</td>\n      <td>0.2</td>\n      <td>7.0</td>\n      <td>0</td>\n      <td>0</td>\n    </tr>\n    <tr>\n      <th>16</th>\n      <td>sqrt(x)*(sin(x))^2</td>\n      <td>0.2</td>\n      <td>7.0</td>\n      <td>0</td>\n      <td>0</td>\n    </tr>\n    <tr>\n      <th>17</th>\n      <td>cos(x)-sin(5.0*x)+1</td>\n      <td>0.2</td>\n      <td>7.0</td>\n      <td>0</td>\n      <td>0</td>\n    </tr>\n    <tr>\n      <th>18</th>\n      <td>-x-sin(3.0*x)+1.6</td>\n      <td>0.2</td>\n      <td>7.0</td>\n      <td>0</td>\n      <td>0</td>\n    </tr>\n    <tr>\n      <th>19</th>\n      <td>cos(x)+2.0*cos(2.0*x)*exp(-x)</td>\n      <td>0.2</td>\n      <td>7.0</td>\n      <td>0</td>\n      <td>0</td>\n    </tr>\n    <tr>\n      <th>20</th>\n      <td>-(sin(2*x+1)+2*sin(3*x+2)+3*sin(4*x+3)+4*sin(...</td>\n      <td>-10.0</td>\n      <td>10.0</td>\n      <td>0</td>\n      <td>0</td>\n    </tr>\n    <tr>\n      <th>21</th>\n      <td>log(3.0*x)*log(2*x)-1</td>\n      <td>0.1</td>\n      <td>7.0</td>\n      <td>0</td>\n      <td>0</td>\n    </tr>\n    <tr>\n      <th>22</th>\n      <td>-cos(2.0*x)-cos(3*x)-cos(4*x)-cos(5*x)-cos(6*x)</td>\n      <td>-10.0</td>\n      <td>10.0</td>\n      <td>0</td>\n      <td>0</td>\n    </tr>\n    <tr>\n      <th>23</th>\n      <td>-exp(-x)*sin(2*pi*x)+0.5</td>\n      <td>0.0</td>\n      <td>4.0</td>\n      <td>0</td>\n      <td>0</td>\n    </tr>\n    <tr>\n      <th>24</th>\n      <td>(x^2-5*x+6)/(x^2+1)-0.5</td>\n      <td>-5.0</td>\n      <td>5.0</td>\n      <td>0</td>\n      <td>0</td>\n    </tr>\n    <tr>\n      <th>25</th>\n      <td>-exp(sin(3*x))+1</td>\n      <td>-3.0</td>\n      <td>2.0</td>\n      <td>0</td>\n      <td>0</td>\n    </tr>\n    <tr>\n      <th>26</th>\n      <td>-x+sin(3*x)+1</td>\n      <td>0.0</td>\n      <td>6.5</td>\n      <td>0</td>\n      <td>0</td>\n    </tr>\n    <tr>\n      <th>27</th>\n      <td>(x+sin(x))*exp(-x^2)+0.8</td>\n      <td>-5.0</td>\n      <td>5.0</td>\n      <td>0</td>\n      <td>0</td>\n    </tr>\n  </tbody>\n</table>\n</div>"
     },
     "execution_count": 3,
     "metadata": {},
     "output_type": "execute_result"
    }
   ],
   "source": [
    "def read_problems(fname):\n",
    "    data = pd.read_csv(fname, index_col='name', comment='#')\n",
    "    return data\n",
    "\n",
    "df = read_problems(test_file)\n",
    "df"
   ],
   "metadata": {
    "collapsed": false,
    "ExecuteTime": {
     "end_time": "2024-04-26T12:04:39.233167Z",
     "start_time": "2024-04-26T12:04:39.217661Z"
    }
   },
   "id": "ae398dfe7b11f486"
  },
  {
   "cell_type": "code",
   "execution_count": 4,
   "outputs": [],
   "source": [
    "points_db = {}\n",
    "psl_lipint_points_list = []\n",
    "psl_lip_points_list = []\n",
    "psqe_lipint_points_list = []\n",
    "psqe_lip_points_list = []\n",
    "bnb2_lipint_points_list = []\n",
    "bnb2_lip_points_list = []"
   ],
   "metadata": {
    "collapsed": false,
    "ExecuteTime": {
     "end_time": "2024-04-26T12:04:40.341030Z",
     "start_time": "2024-04-26T12:04:40.334094Z"
    }
   },
   "id": "ca118f7b05208450"
  },
  {
   "cell_type": "code",
   "execution_count": 5,
   "outputs": [],
   "source": [
    "def log_point(x, points_list):\n",
    "    points_list.append(x)"
   ],
   "metadata": {
    "collapsed": false,
    "ExecuteTime": {
     "end_time": "2024-04-26T12:04:40.509995Z",
     "start_time": "2024-04-26T12:04:40.504635Z"
    }
   },
   "id": "107a4ddf1090f08d"
  },
  {
   "cell_type": "code",
   "execution_count": 6,
   "outputs": [
    {
     "name": "stdout",
     "output_type": "stream",
     "text": [
      "1\n",
      "PSQE: TestResult(nsteps=3, first_crossing_zero_point=[[3.011688528945636903, 3.011690771062112775]])\n",
      "time= 12.102541979402304 period: 0\n",
      "Linear: TestResult(nsteps=5, first_crossing_zero_point=[[3.011686222150624367, 3.011690785574816752]])\n",
      "time= 9.935292066074908 period: 0\n",
      "3\n",
      "PSQE: TestResult(nsteps=6, first_crossing_zero_point=[[1.174796171291449297, 1.174796171291492291]])\n",
      "time= 75.80812508240342 period: 0\n",
      "Linear: TestResult(nsteps=8, first_crossing_zero_point=[[1.174796064342206803, 1.174796425708054015]])\n",
      "time= 48.61733305733651 period: 0\n",
      "4\n",
      "PSQE: TestResult(nsteps=6, first_crossing_zero_point=[[2.960913794435176517, 2.960913794442501751]])\n",
      "time= 156.4558750251308 period: 0\n",
      "Linear: TestResult(nsteps=10, first_crossing_zero_point=[[2.960913794415875057, 2.960913794480238457]])\n",
      "time= 134.294250048697 period: 0\n",
      "5\n",
      "PSQE: TestResult(nsteps=9, first_crossing_zero_point=[[0.8209239701115810884, 0.8209239701115810941]])\n",
      "time= 51.541916094720364 period: 0\n",
      "Linear: TestResult(nsteps=10, first_crossing_zero_point=[[0.8209239701115809801, 0.8209239753243643791]])\n",
      "time= 72.88487500045449 period: 0\n",
      "7\n",
      "PSQE: TestResult(nsteps=6, first_crossing_zero_point=[[1.340754438674382095, 1.340755167313764238]])\n",
      "time= 167.5167919602245 period: 0\n",
      "Linear: TestResult(nsteps=8, first_crossing_zero_point=[[1.340754495746081474, 1.340754535373423900]])\n",
      "time= 159.1061659855768 period: 0\n",
      "9\n",
      "PSQE: TestResult(nsteps=5, first_crossing_zero_point=[[3.141592629165979102, 3.141592688573712198]])\n",
      "time= 198.64974997472018 period: 0\n",
      "Linear: TestResult(nsteps=10, first_crossing_zero_point=[[3.141592653526389268, 3.141592658140059218]])\n",
      "time= 162.7285840222612 period: 0\n",
      "10\n",
      "PSQE: TestResult(nsteps=17, first_crossing_zero_point=[[1.265538914046957197, 1.265538921630080521]])\n",
      "time= 146.60704205743968 period: 0\n",
      "Linear: TestResult(nsteps=21, first_crossing_zero_point=[[1.265538706121978755, 1.265540158601951659]])\n",
      "time= 98.48462499212474 period: 0\n",
      "11\n",
      "PSQE: TestResult(nsteps=13, first_crossing_zero_point=[[1.364646461330057130, 1.364646461629833939]])\n",
      "time= 5.287499981932342 period: 0\n",
      "Linear: TestResult(nsteps=21, first_crossing_zero_point=[[1.364645126494571326, 1.364647880506752108]])\n",
      "time= 2.006666036322713 period: 0\n",
      "13\n",
      "PSQE: TestResult(nsteps=14, first_crossing_zero_point=[[4.783076768614744256, 4.783076772623244491]])\n",
      "time= 440.1215410325676 period: 0\n",
      "Linear: TestResult(nsteps=22, first_crossing_zero_point=[[4.783076769062207802, 4.783076784658841977]])\n",
      "time= 417.39899991080165 period: 0\n",
      "14\n",
      "PSQE: TestResult(nsteps=5, first_crossing_zero_point=[[3.281116908641388116, 3.281119794885776944]])\n",
      "time= 33.218208933249116 period: 0\n",
      "Linear: TestResult(nsteps=10, first_crossing_zero_point=[[3.281119783103901557, 3.281119801975350524]])\n",
      "time= 53.296125028282404 period: 0\n",
      "16\n",
      "PSQE: TestResult(nsteps=16, first_crossing_zero_point=[[3.141588368719292801, 3.141596986197113607]])\n",
      "time= 261.9742079405114 period: 0\n",
      "Linear: TestResult(nsteps=46, first_crossing_zero_point=[[3.141586248388982510, 3.141594228472376783], [6.283179866541079179, 6.283185992067752659]])\n",
      "time= 263.64424999337643 period: 0\n",
      "17\n",
      "PSQE: TestResult(nsteps=9, first_crossing_zero_point=[[1.570796326794896112, 1.570796326794896663]])\n",
      "time= 100.55287496652454 period: 0\n",
      "Linear: TestResult(nsteps=12, first_crossing_zero_point=[[1.570796326567744982, 1.570796391484579381]])\n",
      "time= 89.04033398721367 period: 0\n",
      "18\n",
      "PSQE: TestResult(nsteps=7, first_crossing_zero_point=[[1.968571239642353546, 1.968571239662884470]])\n",
      "time= 63.6349159758538 period: 0\n",
      "Linear: TestResult(nsteps=9, first_crossing_zero_point=[[1.968571239658404011, 1.968571239662585282]])\n",
      "time= 46.22833302710205 period: 0\n",
      "19\n",
      "PSQE: TestResult(nsteps=5, first_crossing_zero_point=[[1.140713595851252506, 1.140713630966222186]])\n",
      "time= 203.63516604993492 period: 0\n",
      "Linear: TestResult(nsteps=7, first_crossing_zero_point=[[1.140712734632011491, 1.140716999849776820]])\n",
      "time= 136.73966703936458 period: 0\n",
      "20\n",
      "PSQE: TestResult(nsteps=13, first_crossing_zero_point=[[-9.140468070389826273, -9.140460131762058466]])\n",
      "time= 312.6202499261126 period: 0\n",
      "Linear: TestResult(nsteps=19, first_crossing_zero_point=[[-9.140465229269799045, -9.140465227721586554]])\n",
      "time= 348.77454198431224 period: 0\n",
      "21\n",
      "PSQE: TestResult(nsteps=7, first_crossing_zero_point=[[0.1471617357898879185, 0.1471617357929869185]])\n",
      "time= 31.19862510357052 period: 0\n",
      "Linear: TestResult(nsteps=8, first_crossing_zero_point=[[0.1471617357928821967, 0.1471617357933560502]])\n",
      "time= 23.334958008490503 period: 0\n",
      "22\n",
      "PSQE: TestResult(nsteps=8, first_crossing_zero_point=[[-9.817477042509761654, -9.817477042386874463]])\n",
      "time= 336.74166700802743 period: 0\n",
      "Linear: TestResult(nsteps=15, first_crossing_zero_point=[[-9.817481634876157288, -9.817474299275999236]])\n",
      "time= 330.0285830628127 period: 0\n",
      "23\n",
      "PSQE: TestResult(nsteps=8, first_crossing_zero_point=[[0.09237963488101307813, 0.09237963488110133675]])\n",
      "time= 125.20941707771271 period: 0\n",
      "Linear: TestResult(nsteps=10, first_crossing_zero_point=[[0.09237963488065599286, 0.09237963490287200052]])\n",
      "time= 87.2223749756813 period: 0\n",
      "24\n",
      "PSQE: TestResult(nsteps=13, first_crossing_zero_point=[[1.258342590066760184, 1.258342636387117126]])\n",
      "time= 6.023208959959447 period: 0\n",
      "Linear: TestResult(nsteps=16, first_crossing_zero_point=[[1.258342613063517912, 1.258342613584730181]])\n",
      "time= 2.042582957074046 period: 0\n",
      "25\n",
      "PSQE: TestResult(nsteps=7, first_crossing_zero_point=[[-2.094395103086551133, -2.094395101700451759]])\n",
      "time= 167.10529197007418 period: 0\n",
      "Linear: TestResult(nsteps=9, first_crossing_zero_point=[[-2.094395110918985775, -2.094395102293887041]])\n",
      "time= 98.78179104998708 period: 0\n",
      "26\n",
      "PSQE: TestResult(nsteps=4, first_crossing_zero_point=[[1.035396313640832972, 1.035396315926685110]])\n",
      "time= 41.879332973621786 period: 0\n",
      "Linear: TestResult(nsteps=5, first_crossing_zero_point=[[1.035396047290709370, 1.035396364977493861]])\n",
      "time= 30.96141596324742 period: 0\n",
      "27\n",
      "PSQE: TestResult(nsteps=12, first_crossing_zero_point=[[-0.8002342383166239283, -0.8002342361057093489]])\n",
      "time= 277.01279195025563 period: 0\n",
      "Linear: TestResult(nsteps=15, first_crossing_zero_point=[[-0.8002342394922274805, -0.8002342332514915531]])\n",
      "time= 160.64274997916073 period: 0\n"
     ]
    }
   ],
   "source": [
    "import ia_math_fun as iaf\n",
    "import interval_arithmetics as ia\n",
    "for test in df.itertuples():\n",
    "    print(test.Index)\n",
    "    points_db[test.Index] = {'psl_lipint_points_list': [], 'psl_lip_points_list': [], 'psqe_lipint_points_list': [],\n",
    "                             'psqe_lip_points_list': [], 'bnb2_pslint_points_list': [], 'bnb2_psl_points_list': [],\n",
    "                             'bnb2_lipint_points_list': [],\n",
    "                             'bnb2_lip_points_list': []}\n",
    "\n",
    "    # #\n",
    "    # prob = uvpr.UniVarProblem(test.Index, test.objective, test.a, test.b, test.min_f, test.min_x,\n",
    "    #                           lambda x: log_point(x, points_db[test.Index]['bnb2_pslint_points_list']))\n",
    "    # period = 0\n",
    "    # T1 = time.perf_counter()\n",
    "    # print('Piyavskii, Lipschitz interval:',\n",
    "    #       sfzcp.correctly(prob, symm=False, epsilon=1e-10, global_lipschitz_interval=False, estimator=1, reduction=1,\n",
    "    #                        period_comp_lip=period))\n",
    "    # T2 = time.perf_counter()\n",
    "    # print('time=', (T2 - T1)*1000, 'period:', period)\n",
    "    #\n",
    "    iaf.set_log_taylor_terms_number(19)\n",
    "    iaf.set_cos_taylor_terms_number(19)\n",
    "    iaf.set_sin_taylor_terms_number(19)\n",
    "    iaf.set_exp_taylor_terms_number(19)\n",
    "    ia.set_precision(19)\n",
    "    prob = uvpr.UniVarProblem(name=test.Index, objective=test.objective, a=test.a, b=test.b, min_f=test.min_f,\n",
    "                              min_x=test.min_x,\n",
    "                              logger=lambda x: log_point(x, points_db[test.Index]['bnb2_pslint_points_list']),\n",
    "                              preproc=True, correctly=True)\n",
    "    period = 0\n",
    "    T1 = time.perf_counter()\n",
    "    print('PSQE:',\n",
    "          sfzcp.correctly(prob, symm=False, epsilon=1e-5, global_lipschitz_interval=False, estimator=2, reduction=1,\n",
    "                          adaptive=False))\n",
    "    T2 = time.perf_counter()\n",
    "    print('time=', (T2 - T1) * 1000, 'period:', period)\n",
    "    T1 = time.perf_counter()\n",
    "    print('Linear:',\n",
    "          sfzcp.correctly(prob, symm=False, epsilon=1e-5, global_lipschitz_interval=False, estimator=1, reduction=1,\n",
    "                          adaptive=False))\n",
    "    T2 = time.perf_counter()\n",
    "    print('time=', (T2 - T1) * 1000, 'period:', period)"
   ],
   "metadata": {
    "collapsed": false,
    "ExecuteTime": {
     "end_time": "2024-04-26T12:04:47.701249Z",
     "start_time": "2024-04-26T12:04:41.338211Z"
    }
   },
   "id": "e8946168745d4bcb"
  },
  {
   "cell_type": "code",
   "execution_count": null,
   "outputs": [],
   "source": [],
   "metadata": {
    "collapsed": false
   },
   "id": "373e532de45fde0a"
  }
 ],
 "metadata": {
  "kernelspec": {
   "display_name": "Python 3",
   "language": "python",
   "name": "python3"
  },
  "language_info": {
   "codemirror_mode": {
    "name": "ipython",
    "version": 2
   },
   "file_extension": ".py",
   "mimetype": "text/x-python",
   "name": "python",
   "nbconvert_exporter": "python",
   "pygments_lexer": "ipython2",
   "version": "2.7.6"
  }
 },
 "nbformat": 4,
 "nbformat_minor": 5
}
